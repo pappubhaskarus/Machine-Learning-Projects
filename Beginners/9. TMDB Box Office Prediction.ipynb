{
 "cells": [
  {
   "cell_type": "markdown",
   "id": "1d0bc830-4243-47c8-80cf-93febd6ed7cf",
   "metadata": {},
   "source": [
    "9. TMDB Box Office Prediction\n",
    "\n",
    " \n",
    "\n",
    "This Kaggle dataset is a great way to practice your regression skills. It consists of around 7000 movies, and you will need to use the variables present to predict the movie’s revenue.\n",
    "\n",
    "Data points present include cast, crew, budget, languages, and release dates. There are 23 variables in the dataset, one of which is the target variable.\n",
    "\n",
    "A basic linear regression model can give you an R-squared of over 0.60, so you can use this as your baseline prediction model. Try to beat this score using techniques like XGBoost regression or Light GBM.\n",
    "\n",
    "This dataset is slightly more complex than the previous one since some columns have data present in nested dictionaries. You need to do some additional pre-processing to extract this data in a usable format to train a model on it.\n",
    "\n",
    "Revenue forecasting is a great project to showcase on your portfolio, as it provides business value to a variety of domains outside the film industry.\n",
    "\n",
    "Dataset: Kaggle TMDB Box Office Prediction Dataset"
   ]
  },
  {
   "cell_type": "code",
   "execution_count": null,
   "id": "d7650d97-a0b0-47e6-af40-4964129743a3",
   "metadata": {},
   "outputs": [],
   "source": []
  },
  {
   "cell_type": "code",
   "execution_count": null,
   "id": "f8af8621-603a-4f93-a19f-3eb7837fdada",
   "metadata": {},
   "outputs": [],
   "source": []
  },
  {
   "cell_type": "code",
   "execution_count": null,
   "id": "e35762a0-1318-46b7-a41a-f787bf6ec61c",
   "metadata": {},
   "outputs": [],
   "source": []
  },
  {
   "cell_type": "code",
   "execution_count": null,
   "id": "6a4323f4-dcaf-4bd0-ae88-49ed0bc2cc32",
   "metadata": {},
   "outputs": [],
   "source": []
  },
  {
   "cell_type": "code",
   "execution_count": null,
   "id": "65049182-216a-46c8-b28b-edbc29bc9870",
   "metadata": {},
   "outputs": [],
   "source": []
  },
  {
   "cell_type": "code",
   "execution_count": null,
   "id": "f4ae05ac-66ef-4c1b-ad58-7ea7625826d3",
   "metadata": {},
   "outputs": [],
   "source": []
  },
  {
   "cell_type": "code",
   "execution_count": null,
   "id": "3c25c6f1-bc8d-44a8-8d0a-5940c29a11fa",
   "metadata": {},
   "outputs": [],
   "source": []
  }
 ],
 "metadata": {
  "kernelspec": {
   "display_name": "Python 3 (ipykernel)",
   "language": "python",
   "name": "python3"
  },
  "language_info": {
   "codemirror_mode": {
    "name": "ipython",
    "version": 3
   },
   "file_extension": ".py",
   "mimetype": "text/x-python",
   "name": "python",
   "nbconvert_exporter": "python",
   "pygments_lexer": "ipython3",
   "version": "3.8.12"
  }
 },
 "nbformat": 4,
 "nbformat_minor": 5
}
