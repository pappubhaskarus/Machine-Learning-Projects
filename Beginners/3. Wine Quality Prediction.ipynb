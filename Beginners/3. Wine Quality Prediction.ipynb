{
 "cells": [
  {
   "cell_type": "markdown",
   "id": "5df1a4f5-47a5-4177-848c-ecff3e24798e",
   "metadata": {},
   "source": [
    "3. Wine Quality Prediction\n",
    "\n",
    " \n",
    "\n",
    "The wine quality prediction dataset is also very popular amongst beginners in the data industry. In this project, you will be using fixed acidity, volatile acidity, alcohol, and density to predict the quality of red wine.\n",
    "\n",
    "This can be treated as either a classification or regression problem. The wine quality variable you need to predict in the dataset ranges from 0–10, so you can build a regression model to predict. Another approach you can take is to break down the values (from 0–10) into discrete intervals and convert them into categorical variables. You can create three categories, for example — low, medium, and high.\n",
    "\n",
    "You can then build a decision tree classifier or any classification model to make the prediction. It is a relatively clean and straightforward dataset to practice your regression and classification machine learning skills.\n",
    "\n",
    "Dataset: Kaggle Red Wine Quality Dataset"
   ]
  },
  {
   "cell_type": "code",
   "execution_count": null,
   "id": "2df77ce8-b65a-4138-85a8-c39260ca5854",
   "metadata": {},
   "outputs": [],
   "source": []
  }
 ],
 "metadata": {
  "kernelspec": {
   "display_name": "Python 3 (ipykernel)",
   "language": "python",
   "name": "python3"
  },
  "language_info": {
   "codemirror_mode": {
    "name": "ipython",
    "version": 3
   },
   "file_extension": ".py",
   "mimetype": "text/x-python",
   "name": "python",
   "nbconvert_exporter": "python",
   "pygments_lexer": "ipython3",
   "version": "3.8.12"
  }
 },
 "nbformat": 4,
 "nbformat_minor": 5
}
