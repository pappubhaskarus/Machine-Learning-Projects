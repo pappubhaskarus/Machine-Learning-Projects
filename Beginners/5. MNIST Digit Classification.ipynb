{
 "cells": [
  {
   "cell_type": "markdown",
   "id": "5dfa3848-1dff-402d-98b0-9599890a71fa",
   "metadata": {},
   "source": [
    "5. MNIST Digit Classification\n",
    "\n",
    " \n",
    "\n",
    "The MNIST dataset is your stepping stone into the field of deep learning. This dataset consists of grayscale images of handwritten digits from 0 to 9. Your task would be to identify the digit using a deep learning algorithm. This is a multi-class classification problem with ten possible output classes. You can use a CNN (Convolutional Neural Network) to perform this classification.\n",
    "\n",
    "The MNIST dataset is built within the Keras library in Python. All you need to do is install Keras, import the library, and load the dataset. This dataset has around 60,000 images so that you can use about 80% of these images for training and another 20% for testing.\n",
    "\n",
    "Dataset: Kaggle Digit Recognizer Dataset"
   ]
  },
  {
   "cell_type": "code",
   "execution_count": null,
   "id": "d6d11f7f-2d17-49f6-b4e6-df8bf2305ef5",
   "metadata": {},
   "outputs": [],
   "source": []
  },
  {
   "cell_type": "code",
   "execution_count": null,
   "id": "33779ca0-b75c-49a1-947c-275b32b9b8f6",
   "metadata": {},
   "outputs": [],
   "source": []
  },
  {
   "cell_type": "code",
   "execution_count": null,
   "id": "6ca38610-2441-4be5-888c-0e4a1413d49d",
   "metadata": {},
   "outputs": [],
   "source": []
  },
  {
   "cell_type": "code",
   "execution_count": null,
   "id": "34616d2d-8ecc-443d-bd68-be16b15af088",
   "metadata": {},
   "outputs": [],
   "source": []
  }
 ],
 "metadata": {
  "kernelspec": {
   "display_name": "Python 3 (ipykernel)",
   "language": "python",
   "name": "python3"
  },
  "language_info": {
   "codemirror_mode": {
    "name": "ipython",
    "version": 3
   },
   "file_extension": ".py",
   "mimetype": "text/x-python",
   "name": "python",
   "nbconvert_exporter": "python",
   "pygments_lexer": "ipython3",
   "version": "3.8.12"
  }
 },
 "nbformat": 4,
 "nbformat_minor": 5
}
