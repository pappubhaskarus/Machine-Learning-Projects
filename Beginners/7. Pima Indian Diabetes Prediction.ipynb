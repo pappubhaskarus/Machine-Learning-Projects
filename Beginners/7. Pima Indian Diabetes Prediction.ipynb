{
 "cells": [
  {
   "cell_type": "markdown",
   "id": "8c264850-feac-4fc3-bcdc-ccfc21661feb",
   "metadata": {},
   "source": [
    "\n",
    " \n",
    "7. Pima Indian Diabetes Prediction\n",
    "\n",
    " \n",
    "\n",
    "The Pima Indian Diabetes Dataset is used to predict whether a patient has diabetes based on diagnostic measurements.\n",
    "\n",
    "Based on variables like BMI, age, and insulin, the model will predict diabetes in patients. This dataset has nine variables — eight independent variables and one target variable.\n",
    "\n",
    "The target variable is ‘diabetes’, so you will predict 1 for the presence of diabetes or 0 for the absence of diabetes.\n",
    "\n",
    "This is a classification problem to experiment with models like logistic regression, decision tree classifier, or random forest classifier.\n",
    "\n",
    "All the independent variables in this dataset are numeric, so this is a great dataset to start with if you have minimal feature engineering experience.\n",
    "\n",
    "This is a Kaggle dataset open to beginners. There are many tutorials online that walk you through coding the solution in Python and R. These notebook tutorials are a great way to learn and get your hands dirty so you can move on to more complex projects.\n",
    "\n",
    "Dataset: Kaggle Pima Indian Diabetes Dataset"
   ]
  },
  {
   "cell_type": "code",
   "execution_count": null,
   "id": "5bbf6b19-3c9c-4fa2-8499-c5e3abb66eee",
   "metadata": {},
   "outputs": [],
   "source": []
  },
  {
   "cell_type": "code",
   "execution_count": null,
   "id": "10f3bfa4-4293-4c9e-ba41-de3d198cbfcc",
   "metadata": {},
   "outputs": [],
   "source": []
  },
  {
   "cell_type": "code",
   "execution_count": null,
   "id": "30cc8c23-f6a0-42b6-9127-6a8083e1f47e",
   "metadata": {},
   "outputs": [],
   "source": []
  }
 ],
 "metadata": {
  "kernelspec": {
   "display_name": "Python 3 (ipykernel)",
   "language": "python",
   "name": "python3"
  },
  "language_info": {
   "codemirror_mode": {
    "name": "ipython",
    "version": 3
   },
   "file_extension": ".py",
   "mimetype": "text/x-python",
   "name": "python",
   "nbconvert_exporter": "python",
   "pygments_lexer": "ipython3",
   "version": "3.8.12"
  }
 },
 "nbformat": 4,
 "nbformat_minor": 5
}
