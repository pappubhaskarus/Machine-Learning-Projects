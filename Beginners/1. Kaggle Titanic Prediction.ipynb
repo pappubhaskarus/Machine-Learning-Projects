{
 "cells": [
  {
   "cell_type": "markdown",
   "id": "3a58272a-b6ef-43b4-8fb1-ee9250b4d085",
   "metadata": {},
   "source": [
    "1. Kaggle Titanic Prediction\n",
    "\n",
    "The first project on this list is one of the most straightforward ML projects you can take on. This project is recommended to complete beginners in the data industry. The Titanic dataset is available on Kaggle, and the link to download it is given below.\n",
    "\n",
    "This dataset is of passengers who travelled on the titanic. It has details like passenger age, ticket fare, cabin, and gender. Based on this information, you will need to predict whether these passengers survived or not.\n",
    "\n",
    "It is a simple binary classification problem, and all you need to do is predict if a particular passenger survived. The best thing about this dataset is that all the pre-processing is done for you. You have a nice, clean dataset to train your machine learning model.\n",
    "\n",
    "Since this is a classification problem, you can choose to use algorithms like logistic regression, decision trees, and random forests to build the predictive model. You can also choose gradient boosting models like an XGBoost classifier for this beginner level machine learning project to get better results.\n",
    "\n",
    "Dataset: Kaggle Titanic Dataset"
   ]
  },
  {
   "cell_type": "code",
   "execution_count": null,
   "id": "172393af-aa72-473a-bf58-a060feebb468",
   "metadata": {},
   "outputs": [],
   "source": []
  },
  {
   "cell_type": "code",
   "execution_count": null,
   "id": "18ec0368-01a6-44fe-afba-861408890bcb",
   "metadata": {},
   "outputs": [],
   "source": []
  }
 ],
 "metadata": {
  "kernelspec": {
   "display_name": "Python 3 (ipykernel)",
   "language": "python",
   "name": "python3"
  },
  "language_info": {
   "codemirror_mode": {
    "name": "ipython",
    "version": 3
   },
   "file_extension": ".py",
   "mimetype": "text/x-python",
   "name": "python",
   "nbconvert_exporter": "python",
   "pygments_lexer": "ipython3",
   "version": "3.8.12"
  }
 },
 "nbformat": 4,
 "nbformat_minor": 5
}
