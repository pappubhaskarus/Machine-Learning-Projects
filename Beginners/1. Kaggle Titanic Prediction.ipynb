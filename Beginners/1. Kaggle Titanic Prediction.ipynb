{
 "cells": [
  {
   "cell_type": "markdown",
   "id": "3a58272a-b6ef-43b4-8fb1-ee9250b4d085",
   "metadata": {},
   "source": [
    "1. Kaggle Titanic Prediction\n",
    "\n",
    "The first project on this list is one of the most straightforward ML projects you can take on. This project is recommended to complete beginners in the data industry. The Titanic dataset is available on Kaggle, and the link to download it is given below.\n",
    "\n",
    "This dataset is of passengers who travelled on the titanic. It has details like passenger age, ticket fare, cabin, and gender. Based on this information, you will need to predict whether these passengers survived or not.\n",
    "\n",
    "It is a simple binary classification problem, and all you need to do is predict if a particular passenger survived. The best thing about this dataset is that all the pre-processing is done for you. You have a nice, clean dataset to train your machine learning model.\n",
    "\n",
    "Since this is a classification problem, you can choose to use algorithms like logistic regression, decision trees, and random forests to build the predictive model. You can also choose gradient boosting models like an XGBoost classifier for this beginner level machine learning project to get better results.\n",
    "\n",
    "Dataset: Kaggle Titanic Dataset"
   ]
  },
  {
   "cell_type": "code",
   "execution_count": null,
   "id": "172393af-aa72-473a-bf58-a060feebb468",
   "metadata": {},
   "outputs": [],
   "source": []
  },
  {
   "cell_type": "code",
   "execution_count": 1,
   "id": "18ec0368-01a6-44fe-afba-861408890bcb",
   "metadata": {},
   "outputs": [],
   "source": [
    "# Print all outputs\n",
    "from IPython.core.interactiveshell import InteractiveShell\n",
    "InteractiveShell.ast_node_interactivity = \"all\"\n",
    "\n",
    "import warnings\n",
    "warnings.filterwarnings('ignore')\n",
    "\n",
    "\n",
    "from sklearn.datasets import load_iris\n",
    "import matplotlib.pyplot as plt\n",
    "from mpl_toolkits.mplot3d import Axes3D\n",
    "from sklearn import datasets\n",
    "from sklearn.decomposition import PCA\n",
    "import pandas as pd\n",
    "import numpy as np\n",
    "\n",
    "# linear algebra\n",
    "import numpy as np \n",
    "\n",
    "# data processing\n",
    "import pandas as pd \n",
    "\n",
    "# data visualization\n",
    "import seaborn as sns\n",
    "%matplotlib inline\n",
    "from matplotlib import pyplot as plt\n",
    "from matplotlib import style\n",
    "\n",
    "# Model selection\n",
    "from sklearn.model_selection import cross_val_score, train_test_split\n",
    "\n",
    "# Metrics\n",
    "from sklearn.metrics import plot_confusion_matrix, confusion_matrix, classification_report\n",
    "from sklearn.metrics import accuracy_score, precision_score, recall_score, f1_score\n",
    "\n",
    "\n",
    "# Algorithms\n",
    "from sklearn.linear_model import SGDClassifier, LogisticRegression, Perceptron\n",
    "\n",
    "from sklearn.ensemble import RandomForestClassifier, VotingClassifier\n",
    "\n",
    "from sklearn.neighbors import KNeighborsClassifier\n",
    "from sklearn.svm import SVC, LinearSVC\n",
    "from sklearn.naive_bayes import GaussianNB\n",
    "\n",
    "from sklearn.tree import DecisionTreeRegressor, DecisionTreeClassifier\n",
    "\n",
    "import warnings\n",
    "warnings.filterwarnings(\"ignore\")"
   ]
  },
  {
   "cell_type": "code",
   "execution_count": 2,
   "id": "ca0345a3-afc8-4999-b348-996e6937e79b",
   "metadata": {},
   "outputs": [],
   "source": [
    "\n",
    "test_df = pd.read_csv(\"./dataset/titanic/test.csv\")\n",
    "train_df = pd.read_csv(\"./dataset/titanic/train.csv\")"
   ]
  },
  {
   "cell_type": "code",
   "execution_count": 3,
   "id": "78bc06f8-7286-4f1d-9722-dd59a70b631e",
   "metadata": {},
   "outputs": [
    {
     "name": "stdout",
     "output_type": "stream",
     "text": [
      "<class 'pandas.core.frame.DataFrame'>\n",
      "RangeIndex: 891 entries, 0 to 890\n",
      "Data columns (total 12 columns):\n",
      " #   Column       Non-Null Count  Dtype  \n",
      "---  ------       --------------  -----  \n",
      " 0   PassengerId  891 non-null    int64  \n",
      " 1   Survived     891 non-null    int64  \n",
      " 2   Pclass       891 non-null    int64  \n",
      " 3   Name         891 non-null    object \n",
      " 4   Sex          891 non-null    object \n",
      " 5   Age          714 non-null    float64\n",
      " 6   SibSp        891 non-null    int64  \n",
      " 7   Parch        891 non-null    int64  \n",
      " 8   Ticket       891 non-null    object \n",
      " 9   Fare         891 non-null    float64\n",
      " 10  Cabin        204 non-null    object \n",
      " 11  Embarked     889 non-null    object \n",
      "dtypes: float64(2), int64(5), object(5)\n",
      "memory usage: 83.7+ KB\n"
     ]
    }
   ],
   "source": [
    "train_df.info()"
   ]
  },
  {
   "cell_type": "code",
   "execution_count": 4,
   "id": "4be5e5b4-ad58-4afe-a230-66805fd09a37",
   "metadata": {},
   "outputs": [
    {
     "data": {
      "text/html": [
       "<div>\n",
       "<style scoped>\n",
       "    .dataframe tbody tr th:only-of-type {\n",
       "        vertical-align: middle;\n",
       "    }\n",
       "\n",
       "    .dataframe tbody tr th {\n",
       "        vertical-align: top;\n",
       "    }\n",
       "\n",
       "    .dataframe thead th {\n",
       "        text-align: right;\n",
       "    }\n",
       "</style>\n",
       "<table border=\"1\" class=\"dataframe\">\n",
       "  <thead>\n",
       "    <tr style=\"text-align: right;\">\n",
       "      <th></th>\n",
       "      <th>PassengerId</th>\n",
       "      <th>Survived</th>\n",
       "      <th>Pclass</th>\n",
       "      <th>Age</th>\n",
       "      <th>SibSp</th>\n",
       "      <th>Parch</th>\n",
       "      <th>Fare</th>\n",
       "    </tr>\n",
       "  </thead>\n",
       "  <tbody>\n",
       "    <tr>\n",
       "      <th>count</th>\n",
       "      <td>891.000000</td>\n",
       "      <td>891.000000</td>\n",
       "      <td>891.000000</td>\n",
       "      <td>714.000000</td>\n",
       "      <td>891.000000</td>\n",
       "      <td>891.000000</td>\n",
       "      <td>891.000000</td>\n",
       "    </tr>\n",
       "    <tr>\n",
       "      <th>mean</th>\n",
       "      <td>446.000000</td>\n",
       "      <td>0.383838</td>\n",
       "      <td>2.308642</td>\n",
       "      <td>29.699118</td>\n",
       "      <td>0.523008</td>\n",
       "      <td>0.381594</td>\n",
       "      <td>32.204208</td>\n",
       "    </tr>\n",
       "    <tr>\n",
       "      <th>std</th>\n",
       "      <td>257.353842</td>\n",
       "      <td>0.486592</td>\n",
       "      <td>0.836071</td>\n",
       "      <td>14.526497</td>\n",
       "      <td>1.102743</td>\n",
       "      <td>0.806057</td>\n",
       "      <td>49.693429</td>\n",
       "    </tr>\n",
       "    <tr>\n",
       "      <th>min</th>\n",
       "      <td>1.000000</td>\n",
       "      <td>0.000000</td>\n",
       "      <td>1.000000</td>\n",
       "      <td>0.420000</td>\n",
       "      <td>0.000000</td>\n",
       "      <td>0.000000</td>\n",
       "      <td>0.000000</td>\n",
       "    </tr>\n",
       "    <tr>\n",
       "      <th>25%</th>\n",
       "      <td>223.500000</td>\n",
       "      <td>0.000000</td>\n",
       "      <td>2.000000</td>\n",
       "      <td>20.125000</td>\n",
       "      <td>0.000000</td>\n",
       "      <td>0.000000</td>\n",
       "      <td>7.910400</td>\n",
       "    </tr>\n",
       "    <tr>\n",
       "      <th>50%</th>\n",
       "      <td>446.000000</td>\n",
       "      <td>0.000000</td>\n",
       "      <td>3.000000</td>\n",
       "      <td>28.000000</td>\n",
       "      <td>0.000000</td>\n",
       "      <td>0.000000</td>\n",
       "      <td>14.454200</td>\n",
       "    </tr>\n",
       "    <tr>\n",
       "      <th>75%</th>\n",
       "      <td>668.500000</td>\n",
       "      <td>1.000000</td>\n",
       "      <td>3.000000</td>\n",
       "      <td>38.000000</td>\n",
       "      <td>1.000000</td>\n",
       "      <td>0.000000</td>\n",
       "      <td>31.000000</td>\n",
       "    </tr>\n",
       "    <tr>\n",
       "      <th>max</th>\n",
       "      <td>891.000000</td>\n",
       "      <td>1.000000</td>\n",
       "      <td>3.000000</td>\n",
       "      <td>80.000000</td>\n",
       "      <td>8.000000</td>\n",
       "      <td>6.000000</td>\n",
       "      <td>512.329200</td>\n",
       "    </tr>\n",
       "  </tbody>\n",
       "</table>\n",
       "</div>"
      ],
      "text/plain": [
       "       PassengerId    Survived      Pclass         Age       SibSp  \\\n",
       "count   891.000000  891.000000  891.000000  714.000000  891.000000   \n",
       "mean    446.000000    0.383838    2.308642   29.699118    0.523008   \n",
       "std     257.353842    0.486592    0.836071   14.526497    1.102743   \n",
       "min       1.000000    0.000000    1.000000    0.420000    0.000000   \n",
       "25%     223.500000    0.000000    2.000000   20.125000    0.000000   \n",
       "50%     446.000000    0.000000    3.000000   28.000000    0.000000   \n",
       "75%     668.500000    1.000000    3.000000   38.000000    1.000000   \n",
       "max     891.000000    1.000000    3.000000   80.000000    8.000000   \n",
       "\n",
       "            Parch        Fare  \n",
       "count  891.000000  891.000000  \n",
       "mean     0.381594   32.204208  \n",
       "std      0.806057   49.693429  \n",
       "min      0.000000    0.000000  \n",
       "25%      0.000000    7.910400  \n",
       "50%      0.000000   14.454200  \n",
       "75%      0.000000   31.000000  \n",
       "max      6.000000  512.329200  "
      ]
     },
     "execution_count": 4,
     "metadata": {},
     "output_type": "execute_result"
    }
   ],
   "source": [
    "train_df.describe()"
   ]
  },
  {
   "cell_type": "code",
   "execution_count": 5,
   "id": "44008246-7356-4422-b7b5-134cba0130d4",
   "metadata": {},
   "outputs": [
    {
     "data": {
      "text/html": [
       "<div>\n",
       "<style scoped>\n",
       "    .dataframe tbody tr th:only-of-type {\n",
       "        vertical-align: middle;\n",
       "    }\n",
       "\n",
       "    .dataframe tbody tr th {\n",
       "        vertical-align: top;\n",
       "    }\n",
       "\n",
       "    .dataframe thead th {\n",
       "        text-align: right;\n",
       "    }\n",
       "</style>\n",
       "<table border=\"1\" class=\"dataframe\">\n",
       "  <thead>\n",
       "    <tr style=\"text-align: right;\">\n",
       "      <th></th>\n",
       "      <th>PassengerId</th>\n",
       "      <th>Survived</th>\n",
       "      <th>Pclass</th>\n",
       "      <th>Name</th>\n",
       "      <th>Sex</th>\n",
       "      <th>Age</th>\n",
       "      <th>SibSp</th>\n",
       "      <th>Parch</th>\n",
       "      <th>Ticket</th>\n",
       "      <th>Fare</th>\n",
       "      <th>Cabin</th>\n",
       "      <th>Embarked</th>\n",
       "    </tr>\n",
       "  </thead>\n",
       "  <tbody>\n",
       "    <tr>\n",
       "      <th>0</th>\n",
       "      <td>1</td>\n",
       "      <td>0</td>\n",
       "      <td>3</td>\n",
       "      <td>Braund, Mr. Owen Harris</td>\n",
       "      <td>male</td>\n",
       "      <td>22.0</td>\n",
       "      <td>1</td>\n",
       "      <td>0</td>\n",
       "      <td>A/5 21171</td>\n",
       "      <td>7.2500</td>\n",
       "      <td>NaN</td>\n",
       "      <td>S</td>\n",
       "    </tr>\n",
       "    <tr>\n",
       "      <th>1</th>\n",
       "      <td>2</td>\n",
       "      <td>1</td>\n",
       "      <td>1</td>\n",
       "      <td>Cumings, Mrs. John Bradley (Florence Briggs Th...</td>\n",
       "      <td>female</td>\n",
       "      <td>38.0</td>\n",
       "      <td>1</td>\n",
       "      <td>0</td>\n",
       "      <td>PC 17599</td>\n",
       "      <td>71.2833</td>\n",
       "      <td>C85</td>\n",
       "      <td>C</td>\n",
       "    </tr>\n",
       "    <tr>\n",
       "      <th>2</th>\n",
       "      <td>3</td>\n",
       "      <td>1</td>\n",
       "      <td>3</td>\n",
       "      <td>Heikkinen, Miss. Laina</td>\n",
       "      <td>female</td>\n",
       "      <td>26.0</td>\n",
       "      <td>0</td>\n",
       "      <td>0</td>\n",
       "      <td>STON/O2. 3101282</td>\n",
       "      <td>7.9250</td>\n",
       "      <td>NaN</td>\n",
       "      <td>S</td>\n",
       "    </tr>\n",
       "    <tr>\n",
       "      <th>3</th>\n",
       "      <td>4</td>\n",
       "      <td>1</td>\n",
       "      <td>1</td>\n",
       "      <td>Futrelle, Mrs. Jacques Heath (Lily May Peel)</td>\n",
       "      <td>female</td>\n",
       "      <td>35.0</td>\n",
       "      <td>1</td>\n",
       "      <td>0</td>\n",
       "      <td>113803</td>\n",
       "      <td>53.1000</td>\n",
       "      <td>C123</td>\n",
       "      <td>S</td>\n",
       "    </tr>\n",
       "    <tr>\n",
       "      <th>4</th>\n",
       "      <td>5</td>\n",
       "      <td>0</td>\n",
       "      <td>3</td>\n",
       "      <td>Allen, Mr. William Henry</td>\n",
       "      <td>male</td>\n",
       "      <td>35.0</td>\n",
       "      <td>0</td>\n",
       "      <td>0</td>\n",
       "      <td>373450</td>\n",
       "      <td>8.0500</td>\n",
       "      <td>NaN</td>\n",
       "      <td>S</td>\n",
       "    </tr>\n",
       "  </tbody>\n",
       "</table>\n",
       "</div>"
      ],
      "text/plain": [
       "   PassengerId  Survived  Pclass  \\\n",
       "0            1         0       3   \n",
       "1            2         1       1   \n",
       "2            3         1       3   \n",
       "3            4         1       1   \n",
       "4            5         0       3   \n",
       "\n",
       "                                                Name     Sex   Age  SibSp  \\\n",
       "0                            Braund, Mr. Owen Harris    male  22.0      1   \n",
       "1  Cumings, Mrs. John Bradley (Florence Briggs Th...  female  38.0      1   \n",
       "2                             Heikkinen, Miss. Laina  female  26.0      0   \n",
       "3       Futrelle, Mrs. Jacques Heath (Lily May Peel)  female  35.0      1   \n",
       "4                           Allen, Mr. William Henry    male  35.0      0   \n",
       "\n",
       "   Parch            Ticket     Fare Cabin Embarked  \n",
       "0      0         A/5 21171   7.2500   NaN        S  \n",
       "1      0          PC 17599  71.2833   C85        C  \n",
       "2      0  STON/O2. 3101282   7.9250   NaN        S  \n",
       "3      0            113803  53.1000  C123        S  \n",
       "4      0            373450   8.0500   NaN        S  "
      ]
     },
     "execution_count": 5,
     "metadata": {},
     "output_type": "execute_result"
    }
   ],
   "source": [
    "train_df.head()"
   ]
  },
  {
   "cell_type": "code",
   "execution_count": 6,
   "id": "b00a4082-8ece-444f-a6de-aa2279fc15ba",
   "metadata": {},
   "outputs": [
    {
     "data": {
      "text/plain": [
       "PassengerId    891\n",
       "Survived         2\n",
       "Pclass           3\n",
       "Name           891\n",
       "Sex              2\n",
       "Age             88\n",
       "SibSp            7\n",
       "Parch            7\n",
       "Ticket         681\n",
       "Fare           248\n",
       "Cabin          147\n",
       "Embarked         3\n",
       "dtype: int64"
      ]
     },
     "execution_count": 6,
     "metadata": {},
     "output_type": "execute_result"
    }
   ],
   "source": [
    "train_df.nunique()"
   ]
  },
  {
   "cell_type": "code",
   "execution_count": null,
   "id": "ed479424-96d0-4954-b70f-9f99e5fccf59",
   "metadata": {},
   "outputs": [],
   "source": []
  },
  {
   "cell_type": "code",
   "execution_count": 7,
   "id": "edda9f25-6229-4e75-a5f8-e761c907dff2",
   "metadata": {},
   "outputs": [
    {
     "data": {
      "text/plain": [
       "PassengerId      0\n",
       "Survived         0\n",
       "Pclass           0\n",
       "Name             0\n",
       "Sex              0\n",
       "Age            177\n",
       "SibSp            0\n",
       "Parch            0\n",
       "Ticket           0\n",
       "Fare             0\n",
       "Cabin          687\n",
       "Embarked         2\n",
       "dtype: int64"
      ]
     },
     "execution_count": 7,
     "metadata": {},
     "output_type": "execute_result"
    }
   ],
   "source": [
    "### Let’s take a more detailed look at what data is actually missing:\n",
    "train_df.isna().sum()"
   ]
  },
  {
   "cell_type": "code",
   "execution_count": null,
   "id": "23542e91-e778-4296-9337-a16cff3ca2b9",
   "metadata": {},
   "outputs": [],
   "source": []
  },
  {
   "cell_type": "code",
   "execution_count": 8,
   "id": "2bbd5d92-740b-437d-995a-5bf27932b4d7",
   "metadata": {},
   "outputs": [
    {
     "data": {
      "text/html": [
       "<div>\n",
       "<style scoped>\n",
       "    .dataframe tbody tr th:only-of-type {\n",
       "        vertical-align: middle;\n",
       "    }\n",
       "\n",
       "    .dataframe tbody tr th {\n",
       "        vertical-align: top;\n",
       "    }\n",
       "\n",
       "    .dataframe thead th {\n",
       "        text-align: right;\n",
       "    }\n",
       "</style>\n",
       "<table border=\"1\" class=\"dataframe\">\n",
       "  <thead>\n",
       "    <tr style=\"text-align: right;\">\n",
       "      <th></th>\n",
       "      <th>Total</th>\n",
       "      <th>%</th>\n",
       "    </tr>\n",
       "  </thead>\n",
       "  <tbody>\n",
       "    <tr>\n",
       "      <th>Cabin</th>\n",
       "      <td>687</td>\n",
       "      <td>77.1</td>\n",
       "    </tr>\n",
       "    <tr>\n",
       "      <th>Age</th>\n",
       "      <td>177</td>\n",
       "      <td>19.9</td>\n",
       "    </tr>\n",
       "    <tr>\n",
       "      <th>Embarked</th>\n",
       "      <td>2</td>\n",
       "      <td>0.2</td>\n",
       "    </tr>\n",
       "    <tr>\n",
       "      <th>PassengerId</th>\n",
       "      <td>0</td>\n",
       "      <td>0.0</td>\n",
       "    </tr>\n",
       "    <tr>\n",
       "      <th>Survived</th>\n",
       "      <td>0</td>\n",
       "      <td>0.0</td>\n",
       "    </tr>\n",
       "  </tbody>\n",
       "</table>\n",
       "</div>"
      ],
      "text/plain": [
       "             Total     %\n",
       "Cabin          687  77.1\n",
       "Age            177  19.9\n",
       "Embarked         2   0.2\n",
       "PassengerId      0   0.0\n",
       "Survived         0   0.0"
      ]
     },
     "execution_count": 8,
     "metadata": {},
     "output_type": "execute_result"
    }
   ],
   "source": [
    "total = train_df.isnull().sum().sort_values(ascending=False)\n",
    "percent_1 = train_df.isnull().sum()/train_df.isnull().count()*100\n",
    "percent_2 = (round(percent_1, 1)).sort_values(ascending=False)\n",
    "missing_data = pd.concat([total, percent_2], axis=1, keys=['Total', '%'])\n",
    "missing_data.head(5)"
   ]
  },
  {
   "cell_type": "markdown",
   "id": "3b7385fe-104b-44ce-9a37-6c814a8725b9",
   "metadata": {},
   "source": [
    "* The Embarked feature has only 2 missing values, which can easily be filled. It will be much more tricky, to deal with the ‘Age’ feature, which has 177 missing values. The ‘Cabin’ feature needs further investigation, but it looks like that we might want to drop it from the dataset, since 77 % of it are missing."
   ]
  },
  {
   "cell_type": "markdown",
   "id": "4b9d55f0-1ab1-4352-86fe-756593cd882b",
   "metadata": {},
   "source": [
    "### What features could contribute to a high survival rate ?\n",
    "* it would make sense if everything except ‘PassengerId’, ‘Ticket’ and ‘Name’ would be correlated with a high survival rate."
   ]
  },
  {
   "cell_type": "code",
   "execution_count": 9,
   "id": "9814d6b0-a0b6-4f4a-a633-c0f415fabb28",
   "metadata": {},
   "outputs": [
    {
     "data": {
      "text/plain": [
       "array(['PassengerId', 'Survived', 'Pclass', 'Name', 'Sex', 'Age', 'SibSp',\n",
       "       'Parch', 'Ticket', 'Fare', 'Cabin', 'Embarked'], dtype=object)"
      ]
     },
     "execution_count": 9,
     "metadata": {},
     "output_type": "execute_result"
    }
   ],
   "source": [
    "train_df.columns.values"
   ]
  },
  {
   "cell_type": "markdown",
   "id": "a613ebde-5167-4846-a740-3fdfe552545d",
   "metadata": {},
   "source": [
    "### 1. Age and Sex:"
   ]
  },
  {
   "cell_type": "code",
   "execution_count": 10,
   "id": "5f6dee89-86d9-4a80-a049-88ce1baf8319",
   "metadata": {},
   "outputs": [
    {
     "data": {
      "text/plain": [
       "<matplotlib.legend.Legend at 0x7f847ba12e80>"
      ]
     },
     "execution_count": 10,
     "metadata": {},
     "output_type": "execute_result"
    },
    {
     "data": {
      "text/plain": [
       "Text(0.5, 1.0, 'Female')"
      ]
     },
     "execution_count": 10,
     "metadata": {},
     "output_type": "execute_result"
    },
    {
     "data": {
      "text/plain": [
       "<matplotlib.legend.Legend at 0x7f847badf190>"
      ]
     },
     "execution_count": 10,
     "metadata": {},
     "output_type": "execute_result"
    },
    {
     "data": {
      "image/png": "[encoded data removed]",
      "text/plain": [
       "<Figure size 720x288 with 2 Axes>"
      ]
     },
     "metadata": {
      "needs_background": "light"
     },
     "output_type": "display_data"
    }
   ],
   "source": [
    "survived = 'survived'\n",
    "not_survived = 'not survived'\n",
    "fig, axes = plt.subplots(nrows=1, ncols=2,figsize=(10, 4))\n",
    "women = train_df[train_df['Sex']=='female']\n",
    "men = train_df[train_df['Sex']=='male']\n",
    "ax = sns.histplot(women[women['Survived']==1].Age.dropna(), bins=18, label = survived, ax = axes[0], kde =False)\n",
    "ax = sns.histplot(women[women['Survived']==0].Age.dropna(), bins=40, label = not_survived, ax = axes[0], kde =False)\n",
    "ax.legend()\n",
    "ax.set_title('Female')\n",
    "ax = sns.histplot(men[men['Survived']==1].Age.dropna(), bins=18, label = survived, ax = axes[1], kde = False)\n",
    "ax = sns.histplot(men[men['Survived']==0].Age.dropna(), bins=40, label = not_survived, ax = axes[1], kde = False)\n",
    "ax.legend()\n",
    "_ = ax.set_title('Male')"
   ]
  },
  {
   "cell_type": "markdown",
   "id": "a8176a80-affb-4efb-974e-f408bd995d13",
   "metadata": {},
   "source": [
    "* You can see that men have a high probability of survival when they are between 18 and 30 years old, which is also a little bit true for women but not fully. For women the survival chances are higher between 14 and 40.\n",
    "\n",
    "* For men the probability of survival is very low between the age of 5 and 18, but that isn’t true for women. Another thing to note is that infants also have a little bit higher probability of survival.\n",
    "\n",
    "* Since there seem to be certain ages, which have increased odds of survival and because I want every feature to be roughly on the same scale, I will create age groups later on."
   ]
  },
  {
   "cell_type": "markdown",
   "id": "225f2cea-a5bf-4718-934c-a26d5ab0ffb2",
   "metadata": {},
   "source": [
    "# 3. Embarked, Pclass and Sex:"
   ]
  },
  {
   "cell_type": "code",
   "execution_count": 11,
   "id": "a9f46863-71e3-4d22-810b-bcf8056427ba",
   "metadata": {},
   "outputs": [
    {
     "data": {
      "text/plain": [
       "<seaborn.axisgrid.FacetGrid at 0x7f847bbda130>"
      ]
     },
     "execution_count": 11,
     "metadata": {},
     "output_type": "execute_result"
    },
    {
     "data": {
      "text/plain": [
       "<seaborn.axisgrid.FacetGrid at 0x7f847bbda130>"
      ]
     },
     "execution_count": 11,
     "metadata": {},
     "output_type": "execute_result"
    },
    {
     "data": {
      "image/png": "[encoded data removed]",
      "text/plain": [
       "<Figure size 588.9x972 with 3 Axes>"
      ]
     },
     "metadata": {
      "needs_background": "light"
     },
     "output_type": "display_data"
    }
   ],
   "source": [
    "FacetGrid = sns.FacetGrid(train_df, row='Embarked', height=4.5, aspect=1.6)\n",
    "FacetGrid.map(sns.pointplot, 'Pclass', 'Survived', 'Sex', palette=None,  order=None, hue_order=None )\n",
    "FacetGrid.add_legend()"
   ]
  },
  {
   "cell_type": "markdown",
   "id": "b38db080-2421-4cc2-b1e8-f58e1fa688f0",
   "metadata": {},
   "source": [
    "# 4. Pclass:"
   ]
  },
  {
   "cell_type": "code",
   "execution_count": 12,
   "id": "19c31b1e-718c-4ffc-9d3e-0c75c8b928e4",
   "metadata": {},
   "outputs": [
    {
     "data": {
      "text/plain": [
       "<AxesSubplot:xlabel='Pclass', ylabel='Survived'>"
      ]
     },
     "execution_count": 12,
     "metadata": {},
     "output_type": "execute_result"
    },
    {
     "data": {
      "image/png": "[encoded data removed]",
      "text/plain": [
       "<Figure size 432x288 with 1 Axes>"
      ]
     },
     "metadata": {
      "needs_background": "light"
     },
     "output_type": "display_data"
    }
   ],
   "source": [
    "sns.barplot(x='Pclass', y='Survived', data=train_df)"
   ]
  },
  {
   "cell_type": "markdown",
   "id": "1c6e83d7-d1a0-48ff-9859-113fe1b9ecae",
   "metadata": {},
   "source": [
    "* Here we see clearly, that Pclass is contributing to a persons chance of survival, especially if this person is in class 1. We will create another pclass plot below."
   ]
  },
  {
   "cell_type": "code",
   "execution_count": 13,
   "id": "50177632-189c-4837-ba61-76e91ec88494",
   "metadata": {},
   "outputs": [
    {
     "data": {
      "image/png": "[encoded data removed]",
      "text/plain": [
       "<Figure size 514.88x475.2 with 6 Axes>"
      ]
     },
     "metadata": {
      "needs_background": "light"
     },
     "output_type": "display_data"
    }
   ],
   "source": [
    "grid = sns.FacetGrid(train_df, col='Survived', row='Pclass', height=2.2, aspect=1.6)\n",
    "grid.map(plt.hist, 'Age', alpha=.5, bins=20)\n",
    "grid.add_legend();"
   ]
  },
  {
   "cell_type": "markdown",
   "id": "382fb3b2-7fdd-4476-8e79-2529ddaeb040",
   "metadata": {},
   "source": [
    "* The plot above confirms our assumption about pclass 1, but we can also spot a high probability that a person in pclass 3 will not survive.\n",
    "\n",
    "# 5. SibSp and Parch:\n",
    "\n",
    "\n",
    "* SibSp and Parch would make more sense as a combined feature, that shows the total number of relatives, a person has on the Titanic. I will create it below and also a feature that sows if someone is not alone."
   ]
  },
  {
   "cell_type": "code",
   "execution_count": 14,
   "id": "8717a4e4-5c78-4683-9922-aa6e5860fe6a",
   "metadata": {},
   "outputs": [
    {
     "data": {
      "text/plain": [
       "1    537\n",
       "0    354\n",
       "Name: not_alone, dtype: int64"
      ]
     },
     "execution_count": 14,
     "metadata": {},
     "output_type": "execute_result"
    }
   ],
   "source": [
    "data = [train_df, test_df]\n",
    "for dataset in data:\n",
    "    dataset['relatives'] = dataset['SibSp'] + dataset['Parch']\n",
    "    dataset.loc[dataset['relatives'] > 0, 'not_alone'] = 0\n",
    "    dataset.loc[dataset['relatives'] == 0, 'not_alone'] = 1\n",
    "    dataset['not_alone'] = dataset['not_alone'].astype(int)\n",
    "train_df['not_alone'].value_counts()"
   ]
  },
  {
   "cell_type": "code",
   "execution_count": 15,
   "id": "6f399d42-e2f2-4dda-b496-83ad24775661",
   "metadata": {},
   "outputs": [
    {
     "data": {
      "image/png": "[encoded data removed]",
      "text/plain": [
       "<Figure size 900x360 with 1 Axes>"
      ]
     },
     "metadata": {
      "needs_background": "light"
     },
     "output_type": "display_data"
    }
   ],
   "source": [
    "axes = sns.factorplot('relatives','Survived',  data=train_df, aspect = 2.5, )"
   ]
  },
  {
   "cell_type": "markdown",
   "id": "d62fed0b-2401-4d21-b1fb-533890f812cf",
   "metadata": {},
   "source": [
    "* Here we can see that you had a high probabilty of survival with 1 to 3 realitves, but a lower one if you had less than 1 or more than 3 (except for some cases with 6 relatives).\n",
    "\n",
    "# Data Preprocessing\n",
    "\n",
    "* First, I will drop ‘PassengerId’ from the train set, because it does not contribute to a persons survival probability. I will not drop it from the test set, since it is required there for the submission."
   ]
  },
  {
   "cell_type": "code",
   "execution_count": 16,
   "id": "f15dc8b4-3acc-4e86-b220-eb1dd385c3eb",
   "metadata": {},
   "outputs": [
    {
     "data": {
      "text/html": [
       "<div>\n",
       "<style scoped>\n",
       "    .dataframe tbody tr th:only-of-type {\n",
       "        vertical-align: middle;\n",
       "    }\n",
       "\n",
       "    .dataframe tbody tr th {\n",
       "        vertical-align: top;\n",
       "    }\n",
       "\n",
       "    .dataframe thead th {\n",
       "        text-align: right;\n",
       "    }\n",
       "</style>\n",
       "<table border=\"1\" class=\"dataframe\">\n",
       "  <thead>\n",
       "    <tr style=\"text-align: right;\">\n",
       "      <th></th>\n",
       "      <th>Survived</th>\n",
       "      <th>Pclass</th>\n",
       "      <th>Name</th>\n",
       "      <th>Sex</th>\n",
       "      <th>Age</th>\n",
       "      <th>SibSp</th>\n",
       "      <th>Parch</th>\n",
       "      <th>Ticket</th>\n",
       "      <th>Fare</th>\n",
       "      <th>Cabin</th>\n",
       "      <th>Embarked</th>\n",
       "      <th>relatives</th>\n",
       "      <th>not_alone</th>\n",
       "    </tr>\n",
       "  </thead>\n",
       "  <tbody>\n",
       "    <tr>\n",
       "      <th>0</th>\n",
       "      <td>0</td>\n",
       "      <td>3</td>\n",
       "      <td>Braund, Mr. Owen Harris</td>\n",
       "      <td>male</td>\n",
       "      <td>22.0</td>\n",
       "      <td>1</td>\n",
       "      <td>0</td>\n",
       "      <td>A/5 21171</td>\n",
       "      <td>7.2500</td>\n",
       "      <td>NaN</td>\n",
       "      <td>S</td>\n",
       "      <td>1</td>\n",
       "      <td>0</td>\n",
       "    </tr>\n",
       "    <tr>\n",
       "      <th>1</th>\n",
       "      <td>1</td>\n",
       "      <td>1</td>\n",
       "      <td>Cumings, Mrs. John Bradley (Florence Briggs Th...</td>\n",
       "      <td>female</td>\n",
       "      <td>38.0</td>\n",
       "      <td>1</td>\n",
       "      <td>0</td>\n",
       "      <td>PC 17599</td>\n",
       "      <td>71.2833</td>\n",
       "      <td>C85</td>\n",
       "      <td>C</td>\n",
       "      <td>1</td>\n",
       "      <td>0</td>\n",
       "    </tr>\n",
       "    <tr>\n",
       "      <th>2</th>\n",
       "      <td>1</td>\n",
       "      <td>3</td>\n",
       "      <td>Heikkinen, Miss. Laina</td>\n",
       "      <td>female</td>\n",
       "      <td>26.0</td>\n",
       "      <td>0</td>\n",
       "      <td>0</td>\n",
       "      <td>STON/O2. 3101282</td>\n",
       "      <td>7.9250</td>\n",
       "      <td>NaN</td>\n",
       "      <td>S</td>\n",
       "      <td>0</td>\n",
       "      <td>1</td>\n",
       "    </tr>\n",
       "    <tr>\n",
       "      <th>3</th>\n",
       "      <td>1</td>\n",
       "      <td>1</td>\n",
       "      <td>Futrelle, Mrs. Jacques Heath (Lily May Peel)</td>\n",
       "      <td>female</td>\n",
       "      <td>35.0</td>\n",
       "      <td>1</td>\n",
       "      <td>0</td>\n",
       "      <td>113803</td>\n",
       "      <td>53.1000</td>\n",
       "      <td>C123</td>\n",
       "      <td>S</td>\n",
       "      <td>1</td>\n",
       "      <td>0</td>\n",
       "    </tr>\n",
       "    <tr>\n",
       "      <th>4</th>\n",
       "      <td>0</td>\n",
       "      <td>3</td>\n",
       "      <td>Allen, Mr. William Henry</td>\n",
       "      <td>male</td>\n",
       "      <td>35.0</td>\n",
       "      <td>0</td>\n",
       "      <td>0</td>\n",
       "      <td>373450</td>\n",
       "      <td>8.0500</td>\n",
       "      <td>NaN</td>\n",
       "      <td>S</td>\n",
       "      <td>0</td>\n",
       "      <td>1</td>\n",
       "    </tr>\n",
       "  </tbody>\n",
       "</table>\n",
       "</div>"
      ],
      "text/plain": [
       "   Survived  Pclass                                               Name  \\\n",
       "0         0       3                            Braund, Mr. Owen Harris   \n",
       "1         1       1  Cumings, Mrs. John Bradley (Florence Briggs Th...   \n",
       "2         1       3                             Heikkinen, Miss. Laina   \n",
       "3         1       1       Futrelle, Mrs. Jacques Heath (Lily May Peel)   \n",
       "4         0       3                           Allen, Mr. William Henry   \n",
       "\n",
       "      Sex   Age  SibSp  Parch            Ticket     Fare Cabin Embarked  \\\n",
       "0    male  22.0      1      0         A/5 21171   7.2500   NaN        S   \n",
       "1  female  38.0      1      0          PC 17599  71.2833   C85        C   \n",
       "2  female  26.0      0      0  STON/O2. 3101282   7.9250   NaN        S   \n",
       "3  female  35.0      1      0            113803  53.1000  C123        S   \n",
       "4    male  35.0      0      0            373450   8.0500   NaN        S   \n",
       "\n",
       "   relatives  not_alone  \n",
       "0          1          0  \n",
       "1          1          0  \n",
       "2          0          1  \n",
       "3          1          0  \n",
       "4          0          1  "
      ]
     },
     "execution_count": 16,
     "metadata": {},
     "output_type": "execute_result"
    }
   ],
   "source": [
    "train_df = train_df.drop(['PassengerId'], axis=1)\n",
    "train_df.head()"
   ]
  },
  {
   "cell_type": "markdown",
   "id": "08e8dbb6-bb47-42ca-afc1-f9ab25beebb7",
   "metadata": {},
   "source": [
    "### Missing Data:\n",
    "\n",
    "#### Cabin:\n",
    "* As a reminder, we have to deal with Cabin (687), Embarked (2) and Age (177). First I thought, we have to delete the ‘Cabin’ variable but then I found something interesting. A cabin number looks like ‘C123’ and the letter refers to the deck. Therefore we’re going to extract these and create a new feature, that contains a persons deck. Afterwords we will convert the feature into a numeric variable. The missing values will be converted to zero. In the picture below you can see the actual decks of the titanic, ranging from A to G."
   ]
  },
  {
   "cell_type": "code",
   "execution_count": 17,
   "id": "048bd0b9-e5bb-441f-bc6c-e571a4756915",
   "metadata": {},
   "outputs": [
    {
     "data": {
      "text/plain": [
       "[     Survived  Pclass                                               Name  \\\n",
       " 0           0       3                            Braund, Mr. Owen Harris   \n",
       " 1           1       1  Cumings, Mrs. John Bradley (Florence Briggs Th...   \n",
       " 2           1       3                             Heikkinen, Miss. Laina   \n",
       " 3           1       1       Futrelle, Mrs. Jacques Heath (Lily May Peel)   \n",
       " 4           0       3                           Allen, Mr. William Henry   \n",
       " ..        ...     ...                                                ...   \n",
       " 886         0       2                              Montvila, Rev. Juozas   \n",
       " 887         1       1                       Graham, Miss. Margaret Edith   \n",
       " 888         0       3           Johnston, Miss. Catherine Helen \"Carrie\"   \n",
       " 889         1       1                              Behr, Mr. Karl Howell   \n",
       " 890         0       3                                Dooley, Mr. Patrick   \n",
       " \n",
       "         Sex   Age  SibSp  Parch            Ticket     Fare Cabin Embarked  \\\n",
       " 0      male  22.0      1      0         A/5 21171   7.2500    U0        S   \n",
       " 1    female  38.0      1      0          PC 17599  71.2833   C85        C   \n",
       " 2    female  26.0      0      0  STON/O2. 3101282   7.9250    U0        S   \n",
       " 3    female  35.0      1      0            113803  53.1000  C123        S   \n",
       " 4      male  35.0      0      0            373450   8.0500    U0        S   \n",
       " ..      ...   ...    ...    ...               ...      ...   ...      ...   \n",
       " 886    male  27.0      0      0            211536  13.0000    U0        S   \n",
       " 887  female  19.0      0      0            112053  30.0000   B42        S   \n",
       " 888  female   NaN      1      2        W./C. 6607  23.4500    U0        S   \n",
       " 889    male  26.0      0      0            111369  30.0000  C148        C   \n",
       " 890    male  32.0      0      0            370376   7.7500    U0        Q   \n",
       " \n",
       "      relatives  not_alone  Deck  \n",
       " 0            1          0     8  \n",
       " 1            1          0     3  \n",
       " 2            0          1     8  \n",
       " 3            1          0     3  \n",
       " 4            0          1     8  \n",
       " ..         ...        ...   ...  \n",
       " 886          0          1     8  \n",
       " 887          0          1     2  \n",
       " 888          3          0     8  \n",
       " 889          0          1     3  \n",
       " 890          0          1     8  \n",
       " \n",
       " [891 rows x 14 columns],\n",
       "      PassengerId  Pclass                                          Name  \\\n",
       " 0            892       3                              Kelly, Mr. James   \n",
       " 1            893       3              Wilkes, Mrs. James (Ellen Needs)   \n",
       " 2            894       2                     Myles, Mr. Thomas Francis   \n",
       " 3            895       3                              Wirz, Mr. Albert   \n",
       " 4            896       3  Hirvonen, Mrs. Alexander (Helga E Lindqvist)   \n",
       " ..           ...     ...                                           ...   \n",
       " 413         1305       3                            Spector, Mr. Woolf   \n",
       " 414         1306       1                  Oliva y Ocana, Dona. Fermina   \n",
       " 415         1307       3                  Saether, Mr. Simon Sivertsen   \n",
       " 416         1308       3                           Ware, Mr. Frederick   \n",
       " 417         1309       3                      Peter, Master. Michael J   \n",
       " \n",
       "         Sex   Age  SibSp  Parch              Ticket      Fare Cabin Embarked  \\\n",
       " 0      male  34.5      0      0              330911    7.8292    U0        Q   \n",
       " 1    female  47.0      1      0              363272    7.0000    U0        S   \n",
       " 2      male  62.0      0      0              240276    9.6875    U0        Q   \n",
       " 3      male  27.0      0      0              315154    8.6625    U0        S   \n",
       " 4    female  22.0      1      1             3101298   12.2875    U0        S   \n",
       " ..      ...   ...    ...    ...                 ...       ...   ...      ...   \n",
       " 413    male   NaN      0      0           A.5. 3236    8.0500    U0        S   \n",
       " 414  female  39.0      0      0            PC 17758  108.9000  C105        C   \n",
       " 415    male  38.5      0      0  SOTON/O.Q. 3101262    7.2500    U0        S   \n",
       " 416    male   NaN      0      0              359309    8.0500    U0        S   \n",
       " 417    male   NaN      1      1                2668   22.3583    U0        C   \n",
       " \n",
       "      relatives  not_alone  Deck  \n",
       " 0            0          1     8  \n",
       " 1            1          0     8  \n",
       " 2            0          1     8  \n",
       " 3            0          1     8  \n",
       " 4            2          0     8  \n",
       " ..         ...        ...   ...  \n",
       " 413          0          1     8  \n",
       " 414          0          1     3  \n",
       " 415          0          1     8  \n",
       " 416          0          1     8  \n",
       " 417          2          0     8  \n",
       " \n",
       " [418 rows x 14 columns]]"
      ]
     },
     "execution_count": 17,
     "metadata": {},
     "output_type": "execute_result"
    }
   ],
   "source": [
    "import re\n",
    "deck = {\"A\": 1, \"B\": 2, \"C\": 3, \"D\": 4, \"E\": 5, \"F\": 6, \"G\": 7, \"U\": 8}\n",
    "data = [train_df, test_df]\n",
    "\n",
    "for dataset in data:\n",
    "    dataset['Cabin'] = dataset['Cabin'].fillna(\"U0\")\n",
    "    dataset['Deck'] = dataset['Cabin'].map(lambda x: re.compile(\"([a-zA-Z]+)\").search(x).group())\n",
    "    dataset['Deck'] = dataset['Deck'].map(deck)\n",
    "    dataset['Deck'] = dataset['Deck'].fillna(0)\n",
    "    dataset['Deck'] = dataset['Deck'].astype(int)\n",
    "\n",
    "\n",
    "\n",
    "data"
   ]
  },
  {
   "cell_type": "code",
   "execution_count": null,
   "id": "0bc81648-f22a-48e5-8594-83ba6b32f97f",
   "metadata": {},
   "outputs": [],
   "source": []
  },
  {
   "cell_type": "markdown",
   "id": "1d63289d-d9ef-47b7-abf8-a6a61e31da70",
   "metadata": {},
   "source": [
    "#### Age:\n",
    "* Now we can tackle the issue with the age features missing values. I will create an array that contains random numbers, which are computed based on the mean age value in regards to the standard deviation and is_null."
   ]
  },
  {
   "cell_type": "code",
   "execution_count": 18,
   "id": "4a2750d9-fcd3-431d-adc2-baa17161c135",
   "metadata": {},
   "outputs": [
    {
     "data": {
      "text/plain": [
       "0"
      ]
     },
     "execution_count": 18,
     "metadata": {},
     "output_type": "execute_result"
    }
   ],
   "source": [
    "data = [train_df, test_df]\n",
    "\n",
    "for dataset in data:\n",
    "    mean = train_df[\"Age\"].mean()\n",
    "    std = test_df[\"Age\"].std()\n",
    "    is_null = dataset[\"Age\"].isnull().sum()\n",
    "    \n",
    "    # compute random numbers between the mean, std and is_null\n",
    "    rand_age = np.random.randint(mean - std, mean + std, size = is_null)\n",
    "    \n",
    "    # fill NaN values in Age column with random values generated\n",
    "    age_slice = dataset[\"Age\"].copy()\n",
    "    age_slice[np.isnan(age_slice)] = rand_age\n",
    "    dataset[\"Age\"] = age_slice\n",
    "    dataset[\"Age\"] = train_df[\"Age\"].astype(int)\n",
    "\n",
    "train_df[\"Age\"].isnull().sum()"
   ]
  },
  {
   "cell_type": "markdown",
   "id": "f48aa040-edc1-438c-9620-2d31bb033ba3",
   "metadata": {},
   "source": [
    "#### Embarked:\n",
    "\n",
    "* Since the Embarked feature has only 2 missing values, we will just fill these with the most common one."
   ]
  },
  {
   "cell_type": "code",
   "execution_count": 19,
   "id": "08b2665d-0877-41b1-adfd-f750bf6b5ff7",
   "metadata": {},
   "outputs": [
    {
     "data": {
      "text/plain": [
       "count     889\n",
       "unique      3\n",
       "top         S\n",
       "freq      644\n",
       "Name: Embarked, dtype: object"
      ]
     },
     "execution_count": 19,
     "metadata": {},
     "output_type": "execute_result"
    }
   ],
   "source": [
    "train_df['Embarked'].describe()"
   ]
  },
  {
   "cell_type": "code",
   "execution_count": 20,
   "id": "9d3a2000-6593-4db0-978f-d8dc5d80466d",
   "metadata": {},
   "outputs": [
    {
     "name": "stdout",
     "output_type": "stream",
     "text": [
      "<class 'pandas.core.frame.DataFrame'>\n",
      "RangeIndex: 891 entries, 0 to 890\n",
      "Data columns (total 14 columns):\n",
      " #   Column     Non-Null Count  Dtype  \n",
      "---  ------     --------------  -----  \n",
      " 0   Survived   891 non-null    int64  \n",
      " 1   Pclass     891 non-null    int64  \n",
      " 2   Name       891 non-null    object \n",
      " 3   Sex        891 non-null    object \n",
      " 4   Age        891 non-null    int64  \n",
      " 5   SibSp      891 non-null    int64  \n",
      " 6   Parch      891 non-null    int64  \n",
      " 7   Ticket     891 non-null    object \n",
      " 8   Fare       891 non-null    float64\n",
      " 9   Cabin      891 non-null    object \n",
      " 10  Embarked   891 non-null    object \n",
      " 11  relatives  891 non-null    int64  \n",
      " 12  not_alone  891 non-null    int64  \n",
      " 13  Deck       891 non-null    int64  \n",
      "dtypes: float64(1), int64(8), object(5)\n",
      "memory usage: 97.6+ KB\n"
     ]
    }
   ],
   "source": [
    "common_value = 'S'\n",
    "data = [train_df, test_df]\n",
    "\n",
    "for dataset in data:\n",
    "    dataset['Embarked'] = dataset['Embarked'].fillna(common_value)\n",
    "\n",
    "train_df.info()"
   ]
  },
  {
   "cell_type": "code",
   "execution_count": null,
   "id": "fee34f14-3eda-48f3-bc6a-9f9ae54e0e00",
   "metadata": {},
   "outputs": [],
   "source": []
  },
  {
   "cell_type": "code",
   "execution_count": null,
   "id": "6e587dd5-0782-4567-b9c7-b1227ce71430",
   "metadata": {},
   "outputs": [],
   "source": []
  },
  {
   "cell_type": "markdown",
   "id": "a7f4c08c-7b33-4c13-ade4-d100ec2c943d",
   "metadata": {},
   "source": [
    "#### Converting Features:\n",
    "\n",
    "* Above you can see that ‘Fare’ is a float and we have to deal with 4 categorical features: Name, Sex, Ticket and Embarked. Lets investigate and transfrom one after another.\n",
    "\n",
    "### Fare:\n",
    "\n",
    "* Converting “Fare” from float to int64, using the “astype()” function pandas provides:"
   ]
  },
  {
   "cell_type": "code",
   "execution_count": 21,
   "id": "6b1346cf-6c75-4330-bfdc-cff5d50e694a",
   "metadata": {},
   "outputs": [],
   "source": [
    "data = [train_df, test_df]\n",
    "\n",
    "for dataset in data:\n",
    "    dataset['Fare'] = dataset['Fare'].fillna(0)\n",
    "    dataset['Fare'] = dataset['Fare'].astype(int)"
   ]
  },
  {
   "cell_type": "markdown",
   "id": "e12b9e66-f475-4473-8fe3-3c1a8b5dbb38",
   "metadata": {},
   "source": [
    "#### Name:\n",
    "* We will use the Name feature to extract the Titles from the Name, so that we can build a new feature out of that."
   ]
  },
  {
   "cell_type": "code",
   "execution_count": 22,
   "id": "8157e327-ba9b-4f7f-9614-cb899db549c2",
   "metadata": {},
   "outputs": [],
   "source": [
    "data = [train_df, test_df]\n",
    "titles = {\"Mr\": 1, \"Miss\": 2, \"Mrs\": 3, \"Master\": 4, \"Rare\": 5}\n",
    "\n",
    "for dataset in data:\n",
    "    \n",
    "    # extract titles\n",
    "    dataset['Title'] = dataset.Name.str.extract(' ([A-Za-z]+)\\.', expand=False)\n",
    "    \n",
    "    # replace titles with a more common title or as Rare\n",
    "    dataset['Title'] = dataset['Title'].replace(['Lady', 'Countess','Capt', 'Col','Don', 'Dr',\\\n",
    "                                            'Major', 'Rev', 'Sir', 'Jonkheer', 'Dona'], 'Rare')\n",
    "    dataset['Title'] = dataset['Title'].replace('Mlle', 'Miss')\n",
    "    dataset['Title'] = dataset['Title'].replace('Ms', 'Miss')\n",
    "    dataset['Title'] = dataset['Title'].replace('Mme', 'Mrs')\n",
    "    \n",
    "    # convert titles into numbers\n",
    "    dataset['Title'] = dataset['Title'].map(titles)\n",
    "    \n",
    "    # filling NaN with 0, to get safe\n",
    "    dataset['Title'] = dataset['Title'].fillna(0)\n",
    "    \n"
   ]
  },
  {
   "cell_type": "markdown",
   "id": "0416911c-4f17-4a8b-98fe-05d43e7aa8e1",
   "metadata": {},
   "source": [
    "### Sex:\n",
    "* Convert ‘Sex’ feature into numeric."
   ]
  },
  {
   "cell_type": "code",
   "execution_count": 23,
   "id": "4a552ef8-cde7-48f3-b93e-51cff9f519df",
   "metadata": {},
   "outputs": [],
   "source": [
    "genders = {\"male\": 0, \"female\": 1}\n",
    "data = [train_df, test_df]\n",
    "\n",
    "for dataset in data:\n",
    "    dataset['Sex'] = dataset['Sex'].map(genders)"
   ]
  },
  {
   "cell_type": "markdown",
   "id": "574165bf-6ab6-4a60-bd34-4c47114b5cd2",
   "metadata": {},
   "source": [
    "#### Ticket:"
   ]
  },
  {
   "cell_type": "code",
   "execution_count": 24,
   "id": "dc628a64-1502-4fa4-8caa-5f6de84a231c",
   "metadata": {},
   "outputs": [
    {
     "data": {
      "text/plain": [
       "count        891\n",
       "unique       681\n",
       "top       347082\n",
       "freq           7\n",
       "Name: Ticket, dtype: object"
      ]
     },
     "execution_count": 24,
     "metadata": {},
     "output_type": "execute_result"
    }
   ],
   "source": [
    "train_df['Ticket'].describe()"
   ]
  },
  {
   "cell_type": "markdown",
   "id": "f5a36772-121c-4413-8aae-7c7709f87e21",
   "metadata": {},
   "source": [
    "#### Embarked:\n",
    "* Convert ‘Embarked’ feature into numeric."
   ]
  },
  {
   "cell_type": "code",
   "execution_count": 25,
   "id": "c35a4f5c-88ef-4e29-aca1-595fefbd5b15",
   "metadata": {},
   "outputs": [],
   "source": [
    "ports = {\"S\": 0, \"C\": 1, \"Q\": 2}\n",
    "data = [train_df, test_df]\n",
    "\n",
    "for dataset in data:\n",
    "    dataset['Embarked'] = dataset['Embarked'].map(ports)"
   ]
  },
  {
   "cell_type": "code",
   "execution_count": 26,
   "id": "f611c197-768c-40a6-afa4-8c99b24b6487",
   "metadata": {},
   "outputs": [
    {
     "data": {
      "text/html": [
       "<div>\n",
       "<style scoped>\n",
       "    .dataframe tbody tr th:only-of-type {\n",
       "        vertical-align: middle;\n",
       "    }\n",
       "\n",
       "    .dataframe tbody tr th {\n",
       "        vertical-align: top;\n",
       "    }\n",
       "\n",
       "    .dataframe thead th {\n",
       "        text-align: right;\n",
       "    }\n",
       "</style>\n",
       "<table border=\"1\" class=\"dataframe\">\n",
       "  <thead>\n",
       "    <tr style=\"text-align: right;\">\n",
       "      <th></th>\n",
       "      <th>Survived</th>\n",
       "      <th>Pclass</th>\n",
       "      <th>Sex</th>\n",
       "      <th>Age</th>\n",
       "      <th>SibSp</th>\n",
       "      <th>Parch</th>\n",
       "      <th>Fare</th>\n",
       "      <th>Embarked</th>\n",
       "      <th>relatives</th>\n",
       "      <th>not_alone</th>\n",
       "      <th>Deck</th>\n",
       "      <th>Title</th>\n",
       "    </tr>\n",
       "  </thead>\n",
       "  <tbody>\n",
       "    <tr>\n",
       "      <th>0</th>\n",
       "      <td>0</td>\n",
       "      <td>3</td>\n",
       "      <td>0</td>\n",
       "      <td>22</td>\n",
       "      <td>1</td>\n",
       "      <td>0</td>\n",
       "      <td>7</td>\n",
       "      <td>0</td>\n",
       "      <td>1</td>\n",
       "      <td>0</td>\n",
       "      <td>8</td>\n",
       "      <td>1</td>\n",
       "    </tr>\n",
       "    <tr>\n",
       "      <th>1</th>\n",
       "      <td>1</td>\n",
       "      <td>1</td>\n",
       "      <td>1</td>\n",
       "      <td>38</td>\n",
       "      <td>1</td>\n",
       "      <td>0</td>\n",
       "      <td>71</td>\n",
       "      <td>1</td>\n",
       "      <td>1</td>\n",
       "      <td>0</td>\n",
       "      <td>3</td>\n",
       "      <td>3</td>\n",
       "    </tr>\n",
       "    <tr>\n",
       "      <th>2</th>\n",
       "      <td>1</td>\n",
       "      <td>3</td>\n",
       "      <td>1</td>\n",
       "      <td>26</td>\n",
       "      <td>0</td>\n",
       "      <td>0</td>\n",
       "      <td>7</td>\n",
       "      <td>0</td>\n",
       "      <td>0</td>\n",
       "      <td>1</td>\n",
       "      <td>8</td>\n",
       "      <td>2</td>\n",
       "    </tr>\n",
       "    <tr>\n",
       "      <th>3</th>\n",
       "      <td>1</td>\n",
       "      <td>1</td>\n",
       "      <td>1</td>\n",
       "      <td>35</td>\n",
       "      <td>1</td>\n",
       "      <td>0</td>\n",
       "      <td>53</td>\n",
       "      <td>0</td>\n",
       "      <td>1</td>\n",
       "      <td>0</td>\n",
       "      <td>3</td>\n",
       "      <td>3</td>\n",
       "    </tr>\n",
       "    <tr>\n",
       "      <th>4</th>\n",
       "      <td>0</td>\n",
       "      <td>3</td>\n",
       "      <td>0</td>\n",
       "      <td>35</td>\n",
       "      <td>0</td>\n",
       "      <td>0</td>\n",
       "      <td>8</td>\n",
       "      <td>0</td>\n",
       "      <td>0</td>\n",
       "      <td>1</td>\n",
       "      <td>8</td>\n",
       "      <td>1</td>\n",
       "    </tr>\n",
       "    <tr>\n",
       "      <th>...</th>\n",
       "      <td>...</td>\n",
       "      <td>...</td>\n",
       "      <td>...</td>\n",
       "      <td>...</td>\n",
       "      <td>...</td>\n",
       "      <td>...</td>\n",
       "      <td>...</td>\n",
       "      <td>...</td>\n",
       "      <td>...</td>\n",
       "      <td>...</td>\n",
       "      <td>...</td>\n",
       "      <td>...</td>\n",
       "    </tr>\n",
       "    <tr>\n",
       "      <th>886</th>\n",
       "      <td>0</td>\n",
       "      <td>2</td>\n",
       "      <td>0</td>\n",
       "      <td>27</td>\n",
       "      <td>0</td>\n",
       "      <td>0</td>\n",
       "      <td>13</td>\n",
       "      <td>0</td>\n",
       "      <td>0</td>\n",
       "      <td>1</td>\n",
       "      <td>8</td>\n",
       "      <td>5</td>\n",
       "    </tr>\n",
       "    <tr>\n",
       "      <th>887</th>\n",
       "      <td>1</td>\n",
       "      <td>1</td>\n",
       "      <td>1</td>\n",
       "      <td>19</td>\n",
       "      <td>0</td>\n",
       "      <td>0</td>\n",
       "      <td>30</td>\n",
       "      <td>0</td>\n",
       "      <td>0</td>\n",
       "      <td>1</td>\n",
       "      <td>2</td>\n",
       "      <td>2</td>\n",
       "    </tr>\n",
       "    <tr>\n",
       "      <th>888</th>\n",
       "      <td>0</td>\n",
       "      <td>3</td>\n",
       "      <td>1</td>\n",
       "      <td>24</td>\n",
       "      <td>1</td>\n",
       "      <td>2</td>\n",
       "      <td>23</td>\n",
       "      <td>0</td>\n",
       "      <td>3</td>\n",
       "      <td>0</td>\n",
       "      <td>8</td>\n",
       "      <td>2</td>\n",
       "    </tr>\n",
       "    <tr>\n",
       "      <th>889</th>\n",
       "      <td>1</td>\n",
       "      <td>1</td>\n",
       "      <td>0</td>\n",
       "      <td>26</td>\n",
       "      <td>0</td>\n",
       "      <td>0</td>\n",
       "      <td>30</td>\n",
       "      <td>1</td>\n",
       "      <td>0</td>\n",
       "      <td>1</td>\n",
       "      <td>3</td>\n",
       "      <td>1</td>\n",
       "    </tr>\n",
       "    <tr>\n",
       "      <th>890</th>\n",
       "      <td>0</td>\n",
       "      <td>3</td>\n",
       "      <td>0</td>\n",
       "      <td>32</td>\n",
       "      <td>0</td>\n",
       "      <td>0</td>\n",
       "      <td>7</td>\n",
       "      <td>2</td>\n",
       "      <td>0</td>\n",
       "      <td>1</td>\n",
       "      <td>8</td>\n",
       "      <td>1</td>\n",
       "    </tr>\n",
       "  </tbody>\n",
       "</table>\n",
       "<p>891 rows × 12 columns</p>\n",
       "</div>"
      ],
      "text/plain": [
       "     Survived  Pclass  Sex  Age  SibSp  Parch  Fare  Embarked  relatives  \\\n",
       "0           0       3    0   22      1      0     7         0          1   \n",
       "1           1       1    1   38      1      0    71         1          1   \n",
       "2           1       3    1   26      0      0     7         0          0   \n",
       "3           1       1    1   35      1      0    53         0          1   \n",
       "4           0       3    0   35      0      0     8         0          0   \n",
       "..        ...     ...  ...  ...    ...    ...   ...       ...        ...   \n",
       "886         0       2    0   27      0      0    13         0          0   \n",
       "887         1       1    1   19      0      0    30         0          0   \n",
       "888         0       3    1   24      1      2    23         0          3   \n",
       "889         1       1    0   26      0      0    30         1          0   \n",
       "890         0       3    0   32      0      0     7         2          0   \n",
       "\n",
       "     not_alone  Deck  Title  \n",
       "0            0     8      1  \n",
       "1            0     3      3  \n",
       "2            1     8      2  \n",
       "3            0     3      3  \n",
       "4            1     8      1  \n",
       "..         ...   ...    ...  \n",
       "886          1     8      5  \n",
       "887          1     2      2  \n",
       "888          0     8      2  \n",
       "889          1     3      1  \n",
       "890          1     8      1  \n",
       "\n",
       "[891 rows x 12 columns]"
      ]
     },
     "execution_count": 26,
     "metadata": {},
     "output_type": "execute_result"
    }
   ],
   "source": [
    "# Final drop\n",
    "\n",
    "train_df = train_df.drop(['Ticket'], axis=1)\n",
    "test_df = test_df.drop(['Ticket'], axis=1)\n",
    "\n",
    "train_df = train_df.drop(['Name'], axis=1)\n",
    "test_df = test_df.drop(['Name'], axis=1)\n",
    "\n",
    "train_df = train_df.drop(['Cabin'], axis=1)\n",
    "test_df = test_df.drop(['Cabin'], axis=1)\n",
    "\n",
    "train_df"
   ]
  },
  {
   "cell_type": "code",
   "execution_count": null,
   "id": "bda868e7-14ad-400e-804d-11ff0150e2f8",
   "metadata": {},
   "outputs": [],
   "source": []
  },
  {
   "cell_type": "markdown",
   "id": "141132e8-fd4c-47fe-bb28-73976ae40d5a",
   "metadata": {},
   "source": [
    "## Creating Categories:\n",
    "\n",
    "### Age:\n",
    "* Now we need to convert the ‘age’ feature. First we will convert it from float into integer. Then we will create the new ‘AgeGroup” variable, by categorizing every age into a group. Note that it is important to place attention on how you form these groups, since you don’t want for example that 80% of your data falls into group 1."
   ]
  },
  {
   "cell_type": "code",
   "execution_count": 27,
   "id": "ffbcde3d-44df-4263-8071-a79d7007c206",
   "metadata": {},
   "outputs": [
    {
     "data": {
      "text/plain": [
       "6    162\n",
       "4    161\n",
       "3    144\n",
       "5    142\n",
       "2    116\n",
       "1     98\n",
       "0     68\n",
       "Name: Age, dtype: int64"
      ]
     },
     "execution_count": 27,
     "metadata": {},
     "output_type": "execute_result"
    }
   ],
   "source": [
    "data = [train_df, test_df]\n",
    "for dataset in data:\n",
    "    dataset['Age'] = dataset['Age'].astype(int)\n",
    "    dataset.loc[ dataset['Age'] <= 11, 'Age'] = 0\n",
    "    dataset.loc[(dataset['Age'] > 11) & (dataset['Age'] <= 18), 'Age'] = 1\n",
    "    dataset.loc[(dataset['Age'] > 18) & (dataset['Age'] <= 22), 'Age'] = 2\n",
    "    dataset.loc[(dataset['Age'] > 22) & (dataset['Age'] <= 27), 'Age'] = 3\n",
    "    dataset.loc[(dataset['Age'] > 27) & (dataset['Age'] <= 33), 'Age'] = 4\n",
    "    dataset.loc[(dataset['Age'] > 33) & (dataset['Age'] <= 40), 'Age'] = 5\n",
    "    dataset.loc[(dataset['Age'] > 40) & (dataset['Age'] <= 66), 'Age'] = 6\n",
    "    dataset.loc[ dataset['Age'] > 66, 'Age'] = 6\n",
    "\n",
    "# let's see how it's distributed \n",
    "train_df['Age'].value_counts()"
   ]
  },
  {
   "cell_type": "code",
   "execution_count": null,
   "id": "0c160427-0947-40da-99a4-b9ef39deb1c5",
   "metadata": {},
   "outputs": [],
   "source": []
  },
  {
   "cell_type": "markdown",
   "id": "1945b447-eb6c-4779-b738-6af6662f27c7",
   "metadata": {},
   "source": [
    "### Fare:\n",
    "* For the ‘Fare’ feature, we need to do the same as with the ‘Age’ feature. But it isn’t that easy, because if we cut the range of the fare values into a few equally big categories, 80% of the values would fall into the first category. Fortunately, we can use sklearn “qcut()” function, that we can use to see, how we can form the categories."
   ]
  },
  {
   "cell_type": "code",
   "execution_count": 28,
   "id": "4896c11a-5080-4827-ab6c-cb4cec124432",
   "metadata": {},
   "outputs": [
    {
     "data": {
      "text/html": [
       "<div>\n",
       "<style scoped>\n",
       "    .dataframe tbody tr th:only-of-type {\n",
       "        vertical-align: middle;\n",
       "    }\n",
       "\n",
       "    .dataframe tbody tr th {\n",
       "        vertical-align: top;\n",
       "    }\n",
       "\n",
       "    .dataframe thead th {\n",
       "        text-align: right;\n",
       "    }\n",
       "</style>\n",
       "<table border=\"1\" class=\"dataframe\">\n",
       "  <thead>\n",
       "    <tr style=\"text-align: right;\">\n",
       "      <th></th>\n",
       "      <th>Survived</th>\n",
       "      <th>Pclass</th>\n",
       "      <th>Sex</th>\n",
       "      <th>Age</th>\n",
       "      <th>SibSp</th>\n",
       "      <th>Parch</th>\n",
       "      <th>Fare</th>\n",
       "      <th>Embarked</th>\n",
       "      <th>relatives</th>\n",
       "      <th>not_alone</th>\n",
       "      <th>Deck</th>\n",
       "      <th>Title</th>\n",
       "    </tr>\n",
       "  </thead>\n",
       "  <tbody>\n",
       "    <tr>\n",
       "      <th>0</th>\n",
       "      <td>0</td>\n",
       "      <td>3</td>\n",
       "      <td>0</td>\n",
       "      <td>2</td>\n",
       "      <td>1</td>\n",
       "      <td>0</td>\n",
       "      <td>0</td>\n",
       "      <td>0</td>\n",
       "      <td>1</td>\n",
       "      <td>0</td>\n",
       "      <td>8</td>\n",
       "      <td>1</td>\n",
       "    </tr>\n",
       "    <tr>\n",
       "      <th>1</th>\n",
       "      <td>1</td>\n",
       "      <td>1</td>\n",
       "      <td>1</td>\n",
       "      <td>5</td>\n",
       "      <td>1</td>\n",
       "      <td>0</td>\n",
       "      <td>3</td>\n",
       "      <td>1</td>\n",
       "      <td>1</td>\n",
       "      <td>0</td>\n",
       "      <td>3</td>\n",
       "      <td>3</td>\n",
       "    </tr>\n",
       "    <tr>\n",
       "      <th>2</th>\n",
       "      <td>1</td>\n",
       "      <td>3</td>\n",
       "      <td>1</td>\n",
       "      <td>3</td>\n",
       "      <td>0</td>\n",
       "      <td>0</td>\n",
       "      <td>0</td>\n",
       "      <td>0</td>\n",
       "      <td>0</td>\n",
       "      <td>1</td>\n",
       "      <td>8</td>\n",
       "      <td>2</td>\n",
       "    </tr>\n",
       "    <tr>\n",
       "      <th>3</th>\n",
       "      <td>1</td>\n",
       "      <td>1</td>\n",
       "      <td>1</td>\n",
       "      <td>5</td>\n",
       "      <td>1</td>\n",
       "      <td>0</td>\n",
       "      <td>3</td>\n",
       "      <td>0</td>\n",
       "      <td>1</td>\n",
       "      <td>0</td>\n",
       "      <td>3</td>\n",
       "      <td>3</td>\n",
       "    </tr>\n",
       "    <tr>\n",
       "      <th>4</th>\n",
       "      <td>0</td>\n",
       "      <td>3</td>\n",
       "      <td>0</td>\n",
       "      <td>5</td>\n",
       "      <td>0</td>\n",
       "      <td>0</td>\n",
       "      <td>1</td>\n",
       "      <td>0</td>\n",
       "      <td>0</td>\n",
       "      <td>1</td>\n",
       "      <td>8</td>\n",
       "      <td>1</td>\n",
       "    </tr>\n",
       "    <tr>\n",
       "      <th>...</th>\n",
       "      <td>...</td>\n",
       "      <td>...</td>\n",
       "      <td>...</td>\n",
       "      <td>...</td>\n",
       "      <td>...</td>\n",
       "      <td>...</td>\n",
       "      <td>...</td>\n",
       "      <td>...</td>\n",
       "      <td>...</td>\n",
       "      <td>...</td>\n",
       "      <td>...</td>\n",
       "      <td>...</td>\n",
       "    </tr>\n",
       "    <tr>\n",
       "      <th>886</th>\n",
       "      <td>0</td>\n",
       "      <td>2</td>\n",
       "      <td>0</td>\n",
       "      <td>3</td>\n",
       "      <td>0</td>\n",
       "      <td>0</td>\n",
       "      <td>1</td>\n",
       "      <td>0</td>\n",
       "      <td>0</td>\n",
       "      <td>1</td>\n",
       "      <td>8</td>\n",
       "      <td>5</td>\n",
       "    </tr>\n",
       "    <tr>\n",
       "      <th>887</th>\n",
       "      <td>1</td>\n",
       "      <td>1</td>\n",
       "      <td>1</td>\n",
       "      <td>2</td>\n",
       "      <td>0</td>\n",
       "      <td>0</td>\n",
       "      <td>2</td>\n",
       "      <td>0</td>\n",
       "      <td>0</td>\n",
       "      <td>1</td>\n",
       "      <td>2</td>\n",
       "      <td>2</td>\n",
       "    </tr>\n",
       "    <tr>\n",
       "      <th>888</th>\n",
       "      <td>0</td>\n",
       "      <td>3</td>\n",
       "      <td>1</td>\n",
       "      <td>3</td>\n",
       "      <td>1</td>\n",
       "      <td>2</td>\n",
       "      <td>2</td>\n",
       "      <td>0</td>\n",
       "      <td>3</td>\n",
       "      <td>0</td>\n",
       "      <td>8</td>\n",
       "      <td>2</td>\n",
       "    </tr>\n",
       "    <tr>\n",
       "      <th>889</th>\n",
       "      <td>1</td>\n",
       "      <td>1</td>\n",
       "      <td>0</td>\n",
       "      <td>3</td>\n",
       "      <td>0</td>\n",
       "      <td>0</td>\n",
       "      <td>2</td>\n",
       "      <td>1</td>\n",
       "      <td>0</td>\n",
       "      <td>1</td>\n",
       "      <td>3</td>\n",
       "      <td>1</td>\n",
       "    </tr>\n",
       "    <tr>\n",
       "      <th>890</th>\n",
       "      <td>0</td>\n",
       "      <td>3</td>\n",
       "      <td>0</td>\n",
       "      <td>4</td>\n",
       "      <td>0</td>\n",
       "      <td>0</td>\n",
       "      <td>0</td>\n",
       "      <td>2</td>\n",
       "      <td>0</td>\n",
       "      <td>1</td>\n",
       "      <td>8</td>\n",
       "      <td>1</td>\n",
       "    </tr>\n",
       "  </tbody>\n",
       "</table>\n",
       "<p>891 rows × 12 columns</p>\n",
       "</div>"
      ],
      "text/plain": [
       "     Survived  Pclass  Sex  Age  SibSp  Parch  Fare  Embarked  relatives  \\\n",
       "0           0       3    0    2      1      0     0         0          1   \n",
       "1           1       1    1    5      1      0     3         1          1   \n",
       "2           1       3    1    3      0      0     0         0          0   \n",
       "3           1       1    1    5      1      0     3         0          1   \n",
       "4           0       3    0    5      0      0     1         0          0   \n",
       "..        ...     ...  ...  ...    ...    ...   ...       ...        ...   \n",
       "886         0       2    0    3      0      0     1         0          0   \n",
       "887         1       1    1    2      0      0     2         0          0   \n",
       "888         0       3    1    3      1      2     2         0          3   \n",
       "889         1       1    0    3      0      0     2         1          0   \n",
       "890         0       3    0    4      0      0     0         2          0   \n",
       "\n",
       "     not_alone  Deck  Title  \n",
       "0            0     8      1  \n",
       "1            0     3      3  \n",
       "2            1     8      2  \n",
       "3            0     3      3  \n",
       "4            1     8      1  \n",
       "..         ...   ...    ...  \n",
       "886          1     8      5  \n",
       "887          1     2      2  \n",
       "888          0     8      2  \n",
       "889          1     3      1  \n",
       "890          1     8      1  \n",
       "\n",
       "[891 rows x 12 columns]"
      ]
     },
     "execution_count": 28,
     "metadata": {},
     "output_type": "execute_result"
    }
   ],
   "source": [
    "data = [train_df, test_df]\n",
    "\n",
    "for dataset in data:\n",
    "    dataset.loc[ dataset['Fare'] <= 7.91, 'Fare'] = 0\n",
    "    dataset.loc[(dataset['Fare'] > 7.91) & (dataset['Fare'] <= 14.454), 'Fare'] = 1\n",
    "    dataset.loc[(dataset['Fare'] > 14.454) & (dataset['Fare'] <= 31), 'Fare']   = 2\n",
    "    dataset.loc[(dataset['Fare'] > 31) & (dataset['Fare'] <= 99), 'Fare']   = 3\n",
    "    dataset.loc[(dataset['Fare'] > 99) & (dataset['Fare'] <= 250), 'Fare']   = 4\n",
    "    dataset.loc[ dataset['Fare'] > 250, 'Fare'] = 5\n",
    "    dataset['Fare'] = dataset['Fare'].astype(int)\n",
    "    \n",
    "train_df"
   ]
  },
  {
   "cell_type": "markdown",
   "id": "638a06c0-dc16-4a50-b535-ec54b0954d25",
   "metadata": {},
   "source": [
    "## Creating new Features\n",
    "\n",
    "* I will add two new features to the dataset, that I compute out of other features.\n",
    "\n",
    "#### 1. Age times Class"
   ]
  },
  {
   "cell_type": "code",
   "execution_count": 29,
   "id": "09285e10-c030-4e5b-8f59-6f1e61739646",
   "metadata": {},
   "outputs": [],
   "source": [
    "data = [train_df, test_df]\n",
    "for dataset in data:\n",
    "    dataset['Age_Class']= dataset['Age']* dataset['Pclass']"
   ]
  },
  {
   "cell_type": "markdown",
   "id": "da05c97a-116d-4061-a8e1-66dc3b115d47",
   "metadata": {},
   "source": [
    "#### 2. Fare per Person"
   ]
  },
  {
   "cell_type": "code",
   "execution_count": 30,
   "id": "8ab3ee2d-cf34-403b-8ec6-963e33db4a8f",
   "metadata": {},
   "outputs": [
    {
     "data": {
      "text/html": [
       "<div>\n",
       "<style scoped>\n",
       "    .dataframe tbody tr th:only-of-type {\n",
       "        vertical-align: middle;\n",
       "    }\n",
       "\n",
       "    .dataframe tbody tr th {\n",
       "        vertical-align: top;\n",
       "    }\n",
       "\n",
       "    .dataframe thead th {\n",
       "        text-align: right;\n",
       "    }\n",
       "</style>\n",
       "<table border=\"1\" class=\"dataframe\">\n",
       "  <thead>\n",
       "    <tr style=\"text-align: right;\">\n",
       "      <th></th>\n",
       "      <th>Survived</th>\n",
       "      <th>Pclass</th>\n",
       "      <th>Sex</th>\n",
       "      <th>Age</th>\n",
       "      <th>SibSp</th>\n",
       "      <th>Parch</th>\n",
       "      <th>Fare</th>\n",
       "      <th>Embarked</th>\n",
       "      <th>relatives</th>\n",
       "      <th>not_alone</th>\n",
       "      <th>Deck</th>\n",
       "      <th>Title</th>\n",
       "      <th>Age_Class</th>\n",
       "      <th>Fare_Per_Person</th>\n",
       "    </tr>\n",
       "  </thead>\n",
       "  <tbody>\n",
       "    <tr>\n",
       "      <th>0</th>\n",
       "      <td>0</td>\n",
       "      <td>3</td>\n",
       "      <td>0</td>\n",
       "      <td>2</td>\n",
       "      <td>1</td>\n",
       "      <td>0</td>\n",
       "      <td>0</td>\n",
       "      <td>0</td>\n",
       "      <td>1</td>\n",
       "      <td>0</td>\n",
       "      <td>8</td>\n",
       "      <td>1</td>\n",
       "      <td>6</td>\n",
       "      <td>0</td>\n",
       "    </tr>\n",
       "    <tr>\n",
       "      <th>1</th>\n",
       "      <td>1</td>\n",
       "      <td>1</td>\n",
       "      <td>1</td>\n",
       "      <td>5</td>\n",
       "      <td>1</td>\n",
       "      <td>0</td>\n",
       "      <td>3</td>\n",
       "      <td>1</td>\n",
       "      <td>1</td>\n",
       "      <td>0</td>\n",
       "      <td>3</td>\n",
       "      <td>3</td>\n",
       "      <td>5</td>\n",
       "      <td>1</td>\n",
       "    </tr>\n",
       "    <tr>\n",
       "      <th>2</th>\n",
       "      <td>1</td>\n",
       "      <td>3</td>\n",
       "      <td>1</td>\n",
       "      <td>3</td>\n",
       "      <td>0</td>\n",
       "      <td>0</td>\n",
       "      <td>0</td>\n",
       "      <td>0</td>\n",
       "      <td>0</td>\n",
       "      <td>1</td>\n",
       "      <td>8</td>\n",
       "      <td>2</td>\n",
       "      <td>9</td>\n",
       "      <td>0</td>\n",
       "    </tr>\n",
       "    <tr>\n",
       "      <th>3</th>\n",
       "      <td>1</td>\n",
       "      <td>1</td>\n",
       "      <td>1</td>\n",
       "      <td>5</td>\n",
       "      <td>1</td>\n",
       "      <td>0</td>\n",
       "      <td>3</td>\n",
       "      <td>0</td>\n",
       "      <td>1</td>\n",
       "      <td>0</td>\n",
       "      <td>3</td>\n",
       "      <td>3</td>\n",
       "      <td>5</td>\n",
       "      <td>1</td>\n",
       "    </tr>\n",
       "    <tr>\n",
       "      <th>4</th>\n",
       "      <td>0</td>\n",
       "      <td>3</td>\n",
       "      <td>0</td>\n",
       "      <td>5</td>\n",
       "      <td>0</td>\n",
       "      <td>0</td>\n",
       "      <td>1</td>\n",
       "      <td>0</td>\n",
       "      <td>0</td>\n",
       "      <td>1</td>\n",
       "      <td>8</td>\n",
       "      <td>1</td>\n",
       "      <td>15</td>\n",
       "      <td>1</td>\n",
       "    </tr>\n",
       "    <tr>\n",
       "      <th>5</th>\n",
       "      <td>0</td>\n",
       "      <td>3</td>\n",
       "      <td>0</td>\n",
       "      <td>4</td>\n",
       "      <td>0</td>\n",
       "      <td>0</td>\n",
       "      <td>1</td>\n",
       "      <td>2</td>\n",
       "      <td>0</td>\n",
       "      <td>1</td>\n",
       "      <td>8</td>\n",
       "      <td>1</td>\n",
       "      <td>12</td>\n",
       "      <td>1</td>\n",
       "    </tr>\n",
       "    <tr>\n",
       "      <th>6</th>\n",
       "      <td>0</td>\n",
       "      <td>1</td>\n",
       "      <td>0</td>\n",
       "      <td>6</td>\n",
       "      <td>0</td>\n",
       "      <td>0</td>\n",
       "      <td>3</td>\n",
       "      <td>0</td>\n",
       "      <td>0</td>\n",
       "      <td>1</td>\n",
       "      <td>5</td>\n",
       "      <td>1</td>\n",
       "      <td>6</td>\n",
       "      <td>3</td>\n",
       "    </tr>\n",
       "    <tr>\n",
       "      <th>7</th>\n",
       "      <td>0</td>\n",
       "      <td>3</td>\n",
       "      <td>0</td>\n",
       "      <td>0</td>\n",
       "      <td>3</td>\n",
       "      <td>1</td>\n",
       "      <td>2</td>\n",
       "      <td>0</td>\n",
       "      <td>4</td>\n",
       "      <td>0</td>\n",
       "      <td>8</td>\n",
       "      <td>4</td>\n",
       "      <td>0</td>\n",
       "      <td>0</td>\n",
       "    </tr>\n",
       "    <tr>\n",
       "      <th>8</th>\n",
       "      <td>1</td>\n",
       "      <td>3</td>\n",
       "      <td>1</td>\n",
       "      <td>3</td>\n",
       "      <td>0</td>\n",
       "      <td>2</td>\n",
       "      <td>1</td>\n",
       "      <td>0</td>\n",
       "      <td>2</td>\n",
       "      <td>0</td>\n",
       "      <td>8</td>\n",
       "      <td>3</td>\n",
       "      <td>9</td>\n",
       "      <td>0</td>\n",
       "    </tr>\n",
       "    <tr>\n",
       "      <th>9</th>\n",
       "      <td>1</td>\n",
       "      <td>2</td>\n",
       "      <td>1</td>\n",
       "      <td>1</td>\n",
       "      <td>1</td>\n",
       "      <td>0</td>\n",
       "      <td>2</td>\n",
       "      <td>1</td>\n",
       "      <td>1</td>\n",
       "      <td>0</td>\n",
       "      <td>8</td>\n",
       "      <td>3</td>\n",
       "      <td>2</td>\n",
       "      <td>1</td>\n",
       "    </tr>\n",
       "  </tbody>\n",
       "</table>\n",
       "</div>"
      ],
      "text/plain": [
       "   Survived  Pclass  Sex  Age  SibSp  Parch  Fare  Embarked  relatives  \\\n",
       "0         0       3    0    2      1      0     0         0          1   \n",
       "1         1       1    1    5      1      0     3         1          1   \n",
       "2         1       3    1    3      0      0     0         0          0   \n",
       "3         1       1    1    5      1      0     3         0          1   \n",
       "4         0       3    0    5      0      0     1         0          0   \n",
       "5         0       3    0    4      0      0     1         2          0   \n",
       "6         0       1    0    6      0      0     3         0          0   \n",
       "7         0       3    0    0      3      1     2         0          4   \n",
       "8         1       3    1    3      0      2     1         0          2   \n",
       "9         1       2    1    1      1      0     2         1          1   \n",
       "\n",
       "   not_alone  Deck  Title  Age_Class  Fare_Per_Person  \n",
       "0          0     8      1          6                0  \n",
       "1          0     3      3          5                1  \n",
       "2          1     8      2          9                0  \n",
       "3          0     3      3          5                1  \n",
       "4          1     8      1         15                1  \n",
       "5          1     8      1         12                1  \n",
       "6          1     5      1          6                3  \n",
       "7          0     8      4          0                0  \n",
       "8          0     8      3          9                0  \n",
       "9          0     8      3          2                1  "
      ]
     },
     "execution_count": 30,
     "metadata": {},
     "output_type": "execute_result"
    }
   ],
   "source": [
    "for dataset in data:\n",
    "    dataset['Fare_Per_Person'] = dataset['Fare']/(dataset['relatives']+1)\n",
    "    dataset['Fare_Per_Person'] = dataset['Fare_Per_Person'].astype(int)\n",
    "    \n",
    "# Let's take a last look at the training set, before we start training the models.\n",
    "train_df.head(10)"
   ]
  },
  {
   "cell_type": "code",
   "execution_count": 31,
   "id": "8f995d92-9dc7-42c7-b0a1-03a22a2b0908",
   "metadata": {},
   "outputs": [
    {
     "data": {
      "text/plain": [
       "Index(['Survived', 'Pclass', 'Sex', 'Age', 'SibSp', 'Parch', 'Fare',\n",
       "       'Embarked', 'relatives', 'not_alone', 'Deck', 'Title', 'Age_Class',\n",
       "       'Fare_Per_Person'],\n",
       "      dtype='object')"
      ]
     },
     "execution_count": 31,
     "metadata": {},
     "output_type": "execute_result"
    }
   ],
   "source": [
    "train_df.columns"
   ]
  },
  {
   "cell_type": "code",
   "execution_count": null,
   "id": "398fbe8c-109e-4a28-ba99-1fb3ce7e5f7e",
   "metadata": {},
   "outputs": [],
   "source": []
  },
  {
   "cell_type": "code",
   "execution_count": 32,
   "id": "736bf25a-0f01-4b88-a117-a159d70a396f",
   "metadata": {},
   "outputs": [
    {
     "data": {
      "text/html": [
       "<div>\n",
       "<style scoped>\n",
       "    .dataframe tbody tr th:only-of-type {\n",
       "        vertical-align: middle;\n",
       "    }\n",
       "\n",
       "    .dataframe tbody tr th {\n",
       "        vertical-align: top;\n",
       "    }\n",
       "\n",
       "    .dataframe thead th {\n",
       "        text-align: right;\n",
       "    }\n",
       "</style>\n",
       "<table border=\"1\" class=\"dataframe\">\n",
       "  <thead>\n",
       "    <tr style=\"text-align: right;\">\n",
       "      <th></th>\n",
       "      <th>Survived</th>\n",
       "      <th>Pclass</th>\n",
       "      <th>Sex</th>\n",
       "      <th>Age</th>\n",
       "      <th>SibSp</th>\n",
       "      <th>Parch</th>\n",
       "      <th>Fare</th>\n",
       "      <th>Embarked</th>\n",
       "      <th>relatives</th>\n",
       "      <th>not_alone</th>\n",
       "      <th>Deck</th>\n",
       "      <th>Title</th>\n",
       "      <th>Age_Class</th>\n",
       "      <th>Fare_Per_Person</th>\n",
       "    </tr>\n",
       "  </thead>\n",
       "  <tbody>\n",
       "    <tr>\n",
       "      <th>Survived</th>\n",
       "      <td>0.236772</td>\n",
       "      <td>-0.137703</td>\n",
       "      <td>0.126376</td>\n",
       "      <td>-0.045273</td>\n",
       "      <td>-0.018954</td>\n",
       "      <td>0.032017</td>\n",
       "      <td>0.190035</td>\n",
       "      <td>0.033038</td>\n",
       "      <td>0.013063</td>\n",
       "      <td>-0.048451</td>\n",
       "      <td>-0.292271</td>\n",
       "      <td>0.204370</td>\n",
       "      <td>-0.623788</td>\n",
       "      <td>0.087572</td>\n",
       "    </tr>\n",
       "    <tr>\n",
       "      <th>Pclass</th>\n",
       "      <td>-0.137703</td>\n",
       "      <td>0.699015</td>\n",
       "      <td>-0.052712</td>\n",
       "      <td>-0.472007</td>\n",
       "      <td>0.076599</td>\n",
       "      <td>0.012429</td>\n",
       "      <td>-0.712165</td>\n",
       "      <td>0.024289</td>\n",
       "      <td>0.089028</td>\n",
       "      <td>0.055347</td>\n",
       "      <td>1.292801</td>\n",
       "      <td>-0.149785</td>\n",
       "      <td>1.593619</td>\n",
       "      <td>-0.511652</td>\n",
       "    </tr>\n",
       "    <tr>\n",
       "      <th>Sex</th>\n",
       "      <td>0.126376</td>\n",
       "      <td>-0.052712</td>\n",
       "      <td>0.228475</td>\n",
       "      <td>-0.068822</td>\n",
       "      <td>0.060422</td>\n",
       "      <td>0.094584</td>\n",
       "      <td>0.146939</td>\n",
       "      <td>0.035419</td>\n",
       "      <td>0.155006</td>\n",
       "      <td>-0.071063</td>\n",
       "      <td>-0.113385</td>\n",
       "      <td>0.247510</td>\n",
       "      <td>-0.361055</td>\n",
       "      <td>0.009412</td>\n",
       "    </tr>\n",
       "    <tr>\n",
       "      <th>Age</th>\n",
       "      <td>-0.045273</td>\n",
       "      <td>-0.472007</td>\n",
       "      <td>-0.068822</td>\n",
       "      <td>3.498546</td>\n",
       "      <td>-0.459605</td>\n",
       "      <td>-0.261080</td>\n",
       "      <td>0.232530</td>\n",
       "      <td>-0.040424</td>\n",
       "      <td>-0.720685</td>\n",
       "      <td>0.143688</td>\n",
       "      <td>-0.790395</td>\n",
       "      <td>-0.180094</td>\n",
       "      <td>6.374334</td>\n",
       "      <td>0.517350</td>\n",
       "    </tr>\n",
       "    <tr>\n",
       "      <th>SibSp</th>\n",
       "      <td>-0.018954</td>\n",
       "      <td>0.076599</td>\n",
       "      <td>0.060422</td>\n",
       "      <td>-0.459605</td>\n",
       "      <td>1.216043</td>\n",
       "      <td>0.368739</td>\n",
       "      <td>0.472223</td>\n",
       "      <td>-0.042032</td>\n",
       "      <td>1.584782</td>\n",
       "      <td>-0.315568</td>\n",
       "      <td>0.098665</td>\n",
       "      <td>0.306256</td>\n",
       "      <td>-0.988606</td>\n",
       "      <td>-0.254413</td>\n",
       "    </tr>\n",
       "    <tr>\n",
       "      <th>Parch</th>\n",
       "      <td>0.032017</td>\n",
       "      <td>0.012429</td>\n",
       "      <td>0.094584</td>\n",
       "      <td>-0.261080</td>\n",
       "      <td>0.368739</td>\n",
       "      <td>0.649728</td>\n",
       "      <td>0.372109</td>\n",
       "      <td>-0.040307</td>\n",
       "      <td>1.018467</td>\n",
       "      <td>-0.230242</td>\n",
       "      <td>-0.048595</td>\n",
       "      <td>0.262186</td>\n",
       "      <td>-0.497879</td>\n",
       "      <td>-0.206132</td>\n",
       "    </tr>\n",
       "    <tr>\n",
       "      <th>Fare</th>\n",
       "      <td>0.190035</td>\n",
       "      <td>-0.712165</td>\n",
       "      <td>0.146939</td>\n",
       "      <td>0.232530</td>\n",
       "      <td>0.472223</td>\n",
       "      <td>0.372109</td>\n",
       "      <td>1.564358</td>\n",
       "      <td>-0.044279</td>\n",
       "      <td>0.844332</td>\n",
       "      <td>-0.322309</td>\n",
       "      <td>-1.462010</td>\n",
       "      <td>0.404009</td>\n",
       "      <td>-2.241415</td>\n",
       "      <td>0.705138</td>\n",
       "    </tr>\n",
       "    <tr>\n",
       "      <th>Embarked</th>\n",
       "      <td>0.033038</td>\n",
       "      <td>0.024289</td>\n",
       "      <td>0.035419</td>\n",
       "      <td>-0.040424</td>\n",
       "      <td>-0.042032</td>\n",
       "      <td>-0.040307</td>\n",
       "      <td>-0.044279</td>\n",
       "      <td>0.404081</td>\n",
       "      <td>-0.082339</td>\n",
       "      <td>0.005542</td>\n",
       "      <td>-0.047641</td>\n",
       "      <td>0.029727</td>\n",
       "      <td>-0.053457</td>\n",
       "      <td>-0.024757</td>\n",
       "    </tr>\n",
       "    <tr>\n",
       "      <th>relatives</th>\n",
       "      <td>0.013063</td>\n",
       "      <td>0.089028</td>\n",
       "      <td>0.155006</td>\n",
       "      <td>-0.720685</td>\n",
       "      <td>1.584782</td>\n",
       "      <td>1.018467</td>\n",
       "      <td>0.844332</td>\n",
       "      <td>-0.082339</td>\n",
       "      <td>2.603248</td>\n",
       "      <td>-0.545810</td>\n",
       "      <td>0.050070</td>\n",
       "      <td>0.568442</td>\n",
       "      <td>-1.486485</td>\n",
       "      <td>-0.460546</td>\n",
       "    </tr>\n",
       "    <tr>\n",
       "      <th>not_alone</th>\n",
       "      <td>-0.048451</td>\n",
       "      <td>0.055347</td>\n",
       "      <td>-0.071063</td>\n",
       "      <td>0.143688</td>\n",
       "      <td>-0.315568</td>\n",
       "      <td>-0.230242</td>\n",
       "      <td>-0.322309</td>\n",
       "      <td>0.005542</td>\n",
       "      <td>-0.545810</td>\n",
       "      <td>0.239723</td>\n",
       "      <td>0.135229</td>\n",
       "      <td>-0.204661</td>\n",
       "      <td>0.569133</td>\n",
       "      <td>0.113120</td>\n",
       "    </tr>\n",
       "    <tr>\n",
       "      <th>Deck</th>\n",
       "      <td>-0.292271</td>\n",
       "      <td>1.292801</td>\n",
       "      <td>-0.113385</td>\n",
       "      <td>-0.790395</td>\n",
       "      <td>0.098665</td>\n",
       "      <td>-0.048595</td>\n",
       "      <td>-1.462010</td>\n",
       "      <td>-0.047641</td>\n",
       "      <td>0.050070</td>\n",
       "      <td>0.135229</td>\n",
       "      <td>4.302644</td>\n",
       "      <td>-0.273575</td>\n",
       "      <td>3.210332</td>\n",
       "      <td>-0.943060</td>\n",
       "    </tr>\n",
       "    <tr>\n",
       "      <th>Title</th>\n",
       "      <td>0.204370</td>\n",
       "      <td>-0.149785</td>\n",
       "      <td>0.247510</td>\n",
       "      <td>-0.180094</td>\n",
       "      <td>0.306256</td>\n",
       "      <td>0.262186</td>\n",
       "      <td>0.404009</td>\n",
       "      <td>0.029727</td>\n",
       "      <td>0.568442</td>\n",
       "      <td>-0.204661</td>\n",
       "      <td>-0.273575</td>\n",
       "      <td>1.060979</td>\n",
       "      <td>-1.139104</td>\n",
       "      <td>-0.018061</td>\n",
       "    </tr>\n",
       "    <tr>\n",
       "      <th>Age_Class</th>\n",
       "      <td>-0.623788</td>\n",
       "      <td>1.593619</td>\n",
       "      <td>-0.361055</td>\n",
       "      <td>6.374334</td>\n",
       "      <td>-0.988606</td>\n",
       "      <td>-0.497879</td>\n",
       "      <td>-2.241415</td>\n",
       "      <td>-0.053457</td>\n",
       "      <td>-1.486485</td>\n",
       "      <td>0.569133</td>\n",
       "      <td>3.210332</td>\n",
       "      <td>-1.139104</td>\n",
       "      <td>23.256137</td>\n",
       "      <td>-0.805883</td>\n",
       "    </tr>\n",
       "    <tr>\n",
       "      <th>Fare_Per_Person</th>\n",
       "      <td>0.087572</td>\n",
       "      <td>-0.511652</td>\n",
       "      <td>0.009412</td>\n",
       "      <td>0.517350</td>\n",
       "      <td>-0.254413</td>\n",
       "      <td>-0.206132</td>\n",
       "      <td>0.705138</td>\n",
       "      <td>-0.024757</td>\n",
       "      <td>-0.460546</td>\n",
       "      <td>0.113120</td>\n",
       "      <td>-0.943060</td>\n",
       "      <td>-0.018061</td>\n",
       "      <td>-0.805883</td>\n",
       "      <td>0.909931</td>\n",
       "    </tr>\n",
       "  </tbody>\n",
       "</table>\n",
       "</div>"
      ],
      "text/plain": [
       "                 Survived    Pclass       Sex       Age     SibSp     Parch  \\\n",
       "Survived         0.236772 -0.137703  0.126376 -0.045273 -0.018954  0.032017   \n",
       "Pclass          -0.137703  0.699015 -0.052712 -0.472007  0.076599  0.012429   \n",
       "Sex              0.126376 -0.052712  0.228475 -0.068822  0.060422  0.094584   \n",
       "Age             -0.045273 -0.472007 -0.068822  3.498546 -0.459605 -0.261080   \n",
       "SibSp           -0.018954  0.076599  0.060422 -0.459605  1.216043  0.368739   \n",
       "Parch            0.032017  0.012429  0.094584 -0.261080  0.368739  0.649728   \n",
       "Fare             0.190035 -0.712165  0.146939  0.232530  0.472223  0.372109   \n",
       "Embarked         0.033038  0.024289  0.035419 -0.040424 -0.042032 -0.040307   \n",
       "relatives        0.013063  0.089028  0.155006 -0.720685  1.584782  1.018467   \n",
       "not_alone       -0.048451  0.055347 -0.071063  0.143688 -0.315568 -0.230242   \n",
       "Deck            -0.292271  1.292801 -0.113385 -0.790395  0.098665 -0.048595   \n",
       "Title            0.204370 -0.149785  0.247510 -0.180094  0.306256  0.262186   \n",
       "Age_Class       -0.623788  1.593619 -0.361055  6.374334 -0.988606 -0.497879   \n",
       "Fare_Per_Person  0.087572 -0.511652  0.009412  0.517350 -0.254413 -0.206132   \n",
       "\n",
       "                     Fare  Embarked  relatives  not_alone      Deck     Title  \\\n",
       "Survived         0.190035  0.033038   0.013063  -0.048451 -0.292271  0.204370   \n",
       "Pclass          -0.712165  0.024289   0.089028   0.055347  1.292801 -0.149785   \n",
       "Sex              0.146939  0.035419   0.155006  -0.071063 -0.113385  0.247510   \n",
       "Age              0.232530 -0.040424  -0.720685   0.143688 -0.790395 -0.180094   \n",
       "SibSp            0.472223 -0.042032   1.584782  -0.315568  0.098665  0.306256   \n",
       "Parch            0.372109 -0.040307   1.018467  -0.230242 -0.048595  0.262186   \n",
       "Fare             1.564358 -0.044279   0.844332  -0.322309 -1.462010  0.404009   \n",
       "Embarked        -0.044279  0.404081  -0.082339   0.005542 -0.047641  0.029727   \n",
       "relatives        0.844332 -0.082339   2.603248  -0.545810  0.050070  0.568442   \n",
       "not_alone       -0.322309  0.005542  -0.545810   0.239723  0.135229 -0.204661   \n",
       "Deck            -1.462010 -0.047641   0.050070   0.135229  4.302644 -0.273575   \n",
       "Title            0.404009  0.029727   0.568442  -0.204661 -0.273575  1.060979   \n",
       "Age_Class       -2.241415 -0.053457  -1.486485   0.569133  3.210332 -1.139104   \n",
       "Fare_Per_Person  0.705138 -0.024757  -0.460546   0.113120 -0.943060 -0.018061   \n",
       "\n",
       "                 Age_Class  Fare_Per_Person  \n",
       "Survived         -0.623788         0.087572  \n",
       "Pclass            1.593619        -0.511652  \n",
       "Sex              -0.361055         0.009412  \n",
       "Age               6.374334         0.517350  \n",
       "SibSp            -0.988606        -0.254413  \n",
       "Parch            -0.497879        -0.206132  \n",
       "Fare             -2.241415         0.705138  \n",
       "Embarked         -0.053457        -0.024757  \n",
       "relatives        -1.486485        -0.460546  \n",
       "not_alone         0.569133         0.113120  \n",
       "Deck              3.210332        -0.943060  \n",
       "Title            -1.139104        -0.018061  \n",
       "Age_Class        23.256137        -0.805883  \n",
       "Fare_Per_Person  -0.805883         0.909931  "
      ]
     },
     "execution_count": 32,
     "metadata": {},
     "output_type": "execute_result"
    }
   ],
   "source": [
    "train_df.cov()"
   ]
  },
  {
   "cell_type": "code",
   "execution_count": 33,
   "id": "b2e8eaf3-191c-484d-82a6-140aefdb3452",
   "metadata": {},
   "outputs": [
    {
     "data": {
      "text/plain": [
       "<AxesSubplot:>"
      ]
     },
     "execution_count": 33,
     "metadata": {},
     "output_type": "execute_result"
    },
    {
     "data": {
      "image/png": "[encoded data removed]",
      "text/plain": [
       "<Figure size 432x288 with 2 Axes>"
      ]
     },
     "metadata": {
      "needs_background": "light"
     },
     "output_type": "display_data"
    }
   ],
   "source": [
    "# fig, ax = plt.subplots(figsize = (24, 14)) \n",
    "sns.heatmap(train_df.cov()) "
   ]
  },
  {
   "cell_type": "code",
   "execution_count": 34,
   "id": "975ba71c-9114-4364-ad29-d568ae821a90",
   "metadata": {},
   "outputs": [
    {
     "data": {
      "text/html": [
       "<div>\n",
       "<style scoped>\n",
       "    .dataframe tbody tr th:only-of-type {\n",
       "        vertical-align: middle;\n",
       "    }\n",
       "\n",
       "    .dataframe tbody tr th {\n",
       "        vertical-align: top;\n",
       "    }\n",
       "\n",
       "    .dataframe thead th {\n",
       "        text-align: right;\n",
       "    }\n",
       "</style>\n",
       "<table border=\"1\" class=\"dataframe\">\n",
       "  <thead>\n",
       "    <tr style=\"text-align: right;\">\n",
       "      <th></th>\n",
       "      <th>Survived</th>\n",
       "      <th>Pclass</th>\n",
       "      <th>Sex</th>\n",
       "      <th>Age</th>\n",
       "      <th>SibSp</th>\n",
       "      <th>Parch</th>\n",
       "      <th>Fare</th>\n",
       "      <th>Embarked</th>\n",
       "      <th>relatives</th>\n",
       "      <th>not_alone</th>\n",
       "      <th>Deck</th>\n",
       "      <th>Title</th>\n",
       "      <th>Age_Class</th>\n",
       "      <th>Fare_Per_Person</th>\n",
       "    </tr>\n",
       "  </thead>\n",
       "  <tbody>\n",
       "    <tr>\n",
       "      <th>Survived</th>\n",
       "      <td>1.000000</td>\n",
       "      <td>-0.338481</td>\n",
       "      <td>0.543351</td>\n",
       "      <td>-0.049743</td>\n",
       "      <td>-0.035322</td>\n",
       "      <td>0.081629</td>\n",
       "      <td>0.312249</td>\n",
       "      <td>0.106811</td>\n",
       "      <td>0.016639</td>\n",
       "      <td>-0.203367</td>\n",
       "      <td>-0.289569</td>\n",
       "      <td>0.407753</td>\n",
       "      <td>-0.265829</td>\n",
       "      <td>0.188668</td>\n",
       "    </tr>\n",
       "    <tr>\n",
       "      <th>Pclass</th>\n",
       "      <td>-0.338481</td>\n",
       "      <td>1.000000</td>\n",
       "      <td>-0.131900</td>\n",
       "      <td>-0.301829</td>\n",
       "      <td>0.083081</td>\n",
       "      <td>0.018443</td>\n",
       "      <td>-0.681035</td>\n",
       "      <td>0.045702</td>\n",
       "      <td>0.065997</td>\n",
       "      <td>0.135207</td>\n",
       "      <td>0.745453</td>\n",
       "      <td>-0.173929</td>\n",
       "      <td>0.395251</td>\n",
       "      <td>-0.641545</td>\n",
       "    </tr>\n",
       "    <tr>\n",
       "      <th>Sex</th>\n",
       "      <td>0.543351</td>\n",
       "      <td>-0.131900</td>\n",
       "      <td>1.000000</td>\n",
       "      <td>-0.076977</td>\n",
       "      <td>0.114631</td>\n",
       "      <td>0.245489</td>\n",
       "      <td>0.245782</td>\n",
       "      <td>0.116569</td>\n",
       "      <td>0.200988</td>\n",
       "      <td>-0.303646</td>\n",
       "      <td>-0.114358</td>\n",
       "      <td>0.502713</td>\n",
       "      <td>-0.156634</td>\n",
       "      <td>0.020643</td>\n",
       "    </tr>\n",
       "    <tr>\n",
       "      <th>Age</th>\n",
       "      <td>-0.049743</td>\n",
       "      <td>-0.301829</td>\n",
       "      <td>-0.076977</td>\n",
       "      <td>1.000000</td>\n",
       "      <td>-0.222826</td>\n",
       "      <td>-0.173167</td>\n",
       "      <td>0.099396</td>\n",
       "      <td>-0.033999</td>\n",
       "      <td>-0.238805</td>\n",
       "      <td>0.156899</td>\n",
       "      <td>-0.203719</td>\n",
       "      <td>-0.093477</td>\n",
       "      <td>0.706679</td>\n",
       "      <td>0.289959</td>\n",
       "    </tr>\n",
       "    <tr>\n",
       "      <th>SibSp</th>\n",
       "      <td>-0.035322</td>\n",
       "      <td>0.083081</td>\n",
       "      <td>0.114631</td>\n",
       "      <td>-0.222826</td>\n",
       "      <td>1.000000</td>\n",
       "      <td>0.414838</td>\n",
       "      <td>0.342377</td>\n",
       "      <td>-0.059961</td>\n",
       "      <td>0.890712</td>\n",
       "      <td>-0.584471</td>\n",
       "      <td>0.043134</td>\n",
       "      <td>0.269623</td>\n",
       "      <td>-0.185900</td>\n",
       "      <td>-0.241858</td>\n",
       "    </tr>\n",
       "    <tr>\n",
       "      <th>Parch</th>\n",
       "      <td>0.081629</td>\n",
       "      <td>0.018443</td>\n",
       "      <td>0.245489</td>\n",
       "      <td>-0.173167</td>\n",
       "      <td>0.414838</td>\n",
       "      <td>1.000000</td>\n",
       "      <td>0.369094</td>\n",
       "      <td>-0.078665</td>\n",
       "      <td>0.783111</td>\n",
       "      <td>-0.583398</td>\n",
       "      <td>-0.029064</td>\n",
       "      <td>0.315784</td>\n",
       "      <td>-0.128082</td>\n",
       "      <td>-0.268087</td>\n",
       "    </tr>\n",
       "    <tr>\n",
       "      <th>Fare</th>\n",
       "      <td>0.312249</td>\n",
       "      <td>-0.681035</td>\n",
       "      <td>0.245782</td>\n",
       "      <td>0.099396</td>\n",
       "      <td>0.342377</td>\n",
       "      <td>0.369094</td>\n",
       "      <td>1.000000</td>\n",
       "      <td>-0.055693</td>\n",
       "      <td>0.418396</td>\n",
       "      <td>-0.526320</td>\n",
       "      <td>-0.563527</td>\n",
       "      <td>0.313595</td>\n",
       "      <td>-0.371608</td>\n",
       "      <td>0.591019</td>\n",
       "    </tr>\n",
       "    <tr>\n",
       "      <th>Embarked</th>\n",
       "      <td>0.106811</td>\n",
       "      <td>0.045702</td>\n",
       "      <td>0.116569</td>\n",
       "      <td>-0.033999</td>\n",
       "      <td>-0.059961</td>\n",
       "      <td>-0.078665</td>\n",
       "      <td>-0.055693</td>\n",
       "      <td>1.000000</td>\n",
       "      <td>-0.080281</td>\n",
       "      <td>0.017807</td>\n",
       "      <td>-0.036131</td>\n",
       "      <td>0.045400</td>\n",
       "      <td>-0.017438</td>\n",
       "      <td>-0.040828</td>\n",
       "    </tr>\n",
       "    <tr>\n",
       "      <th>relatives</th>\n",
       "      <td>0.016639</td>\n",
       "      <td>0.065997</td>\n",
       "      <td>0.200988</td>\n",
       "      <td>-0.238805</td>\n",
       "      <td>0.890712</td>\n",
       "      <td>0.783111</td>\n",
       "      <td>0.418396</td>\n",
       "      <td>-0.080281</td>\n",
       "      <td>1.000000</td>\n",
       "      <td>-0.690922</td>\n",
       "      <td>0.014961</td>\n",
       "      <td>0.342039</td>\n",
       "      <td>-0.191044</td>\n",
       "      <td>-0.299234</td>\n",
       "    </tr>\n",
       "    <tr>\n",
       "      <th>not_alone</th>\n",
       "      <td>-0.203367</td>\n",
       "      <td>0.135207</td>\n",
       "      <td>-0.303646</td>\n",
       "      <td>0.156899</td>\n",
       "      <td>-0.584471</td>\n",
       "      <td>-0.583398</td>\n",
       "      <td>-0.526320</td>\n",
       "      <td>0.017807</td>\n",
       "      <td>-0.690922</td>\n",
       "      <td>1.000000</td>\n",
       "      <td>0.133152</td>\n",
       "      <td>-0.405813</td>\n",
       "      <td>0.241041</td>\n",
       "      <td>0.242203</td>\n",
       "    </tr>\n",
       "    <tr>\n",
       "      <th>Deck</th>\n",
       "      <td>-0.289569</td>\n",
       "      <td>0.745453</td>\n",
       "      <td>-0.114358</td>\n",
       "      <td>-0.203719</td>\n",
       "      <td>0.043134</td>\n",
       "      <td>-0.029064</td>\n",
       "      <td>-0.563527</td>\n",
       "      <td>-0.036131</td>\n",
       "      <td>0.014961</td>\n",
       "      <td>0.133152</td>\n",
       "      <td>1.000000</td>\n",
       "      <td>-0.128043</td>\n",
       "      <td>0.320932</td>\n",
       "      <td>-0.476615</td>\n",
       "    </tr>\n",
       "    <tr>\n",
       "      <th>Title</th>\n",
       "      <td>0.407753</td>\n",
       "      <td>-0.173929</td>\n",
       "      <td>0.502713</td>\n",
       "      <td>-0.093477</td>\n",
       "      <td>0.269623</td>\n",
       "      <td>0.315784</td>\n",
       "      <td>0.313595</td>\n",
       "      <td>0.045400</td>\n",
       "      <td>0.342039</td>\n",
       "      <td>-0.405813</td>\n",
       "      <td>-0.128043</td>\n",
       "      <td>1.000000</td>\n",
       "      <td>-0.229320</td>\n",
       "      <td>-0.018381</td>\n",
       "    </tr>\n",
       "    <tr>\n",
       "      <th>Age_Class</th>\n",
       "      <td>-0.265829</td>\n",
       "      <td>0.395251</td>\n",
       "      <td>-0.156634</td>\n",
       "      <td>0.706679</td>\n",
       "      <td>-0.185900</td>\n",
       "      <td>-0.128082</td>\n",
       "      <td>-0.371608</td>\n",
       "      <td>-0.017438</td>\n",
       "      <td>-0.191044</td>\n",
       "      <td>0.241041</td>\n",
       "      <td>0.320932</td>\n",
       "      <td>-0.229320</td>\n",
       "      <td>1.000000</td>\n",
       "      <td>-0.175186</td>\n",
       "    </tr>\n",
       "    <tr>\n",
       "      <th>Fare_Per_Person</th>\n",
       "      <td>0.188668</td>\n",
       "      <td>-0.641545</td>\n",
       "      <td>0.020643</td>\n",
       "      <td>0.289959</td>\n",
       "      <td>-0.241858</td>\n",
       "      <td>-0.268087</td>\n",
       "      <td>0.591019</td>\n",
       "      <td>-0.040828</td>\n",
       "      <td>-0.299234</td>\n",
       "      <td>0.242203</td>\n",
       "      <td>-0.476615</td>\n",
       "      <td>-0.018381</td>\n",
       "      <td>-0.175186</td>\n",
       "      <td>1.000000</td>\n",
       "    </tr>\n",
       "  </tbody>\n",
       "</table>\n",
       "</div>"
      ],
      "text/plain": [
       "                 Survived    Pclass       Sex       Age     SibSp     Parch  \\\n",
       "Survived         1.000000 -0.338481  0.543351 -0.049743 -0.035322  0.081629   \n",
       "Pclass          -0.338481  1.000000 -0.131900 -0.301829  0.083081  0.018443   \n",
       "Sex              0.543351 -0.131900  1.000000 -0.076977  0.114631  0.245489   \n",
       "Age             -0.049743 -0.301829 -0.076977  1.000000 -0.222826 -0.173167   \n",
       "SibSp           -0.035322  0.083081  0.114631 -0.222826  1.000000  0.414838   \n",
       "Parch            0.081629  0.018443  0.245489 -0.173167  0.414838  1.000000   \n",
       "Fare             0.312249 -0.681035  0.245782  0.099396  0.342377  0.369094   \n",
       "Embarked         0.106811  0.045702  0.116569 -0.033999 -0.059961 -0.078665   \n",
       "relatives        0.016639  0.065997  0.200988 -0.238805  0.890712  0.783111   \n",
       "not_alone       -0.203367  0.135207 -0.303646  0.156899 -0.584471 -0.583398   \n",
       "Deck            -0.289569  0.745453 -0.114358 -0.203719  0.043134 -0.029064   \n",
       "Title            0.407753 -0.173929  0.502713 -0.093477  0.269623  0.315784   \n",
       "Age_Class       -0.265829  0.395251 -0.156634  0.706679 -0.185900 -0.128082   \n",
       "Fare_Per_Person  0.188668 -0.641545  0.020643  0.289959 -0.241858 -0.268087   \n",
       "\n",
       "                     Fare  Embarked  relatives  not_alone      Deck     Title  \\\n",
       "Survived         0.312249  0.106811   0.016639  -0.203367 -0.289569  0.407753   \n",
       "Pclass          -0.681035  0.045702   0.065997   0.135207  0.745453 -0.173929   \n",
       "Sex              0.245782  0.116569   0.200988  -0.303646 -0.114358  0.502713   \n",
       "Age              0.099396 -0.033999  -0.238805   0.156899 -0.203719 -0.093477   \n",
       "SibSp            0.342377 -0.059961   0.890712  -0.584471  0.043134  0.269623   \n",
       "Parch            0.369094 -0.078665   0.783111  -0.583398 -0.029064  0.315784   \n",
       "Fare             1.000000 -0.055693   0.418396  -0.526320 -0.563527  0.313595   \n",
       "Embarked        -0.055693  1.000000  -0.080281   0.017807 -0.036131  0.045400   \n",
       "relatives        0.418396 -0.080281   1.000000  -0.690922  0.014961  0.342039   \n",
       "not_alone       -0.526320  0.017807  -0.690922   1.000000  0.133152 -0.405813   \n",
       "Deck            -0.563527 -0.036131   0.014961   0.133152  1.000000 -0.128043   \n",
       "Title            0.313595  0.045400   0.342039  -0.405813 -0.128043  1.000000   \n",
       "Age_Class       -0.371608 -0.017438  -0.191044   0.241041  0.320932 -0.229320   \n",
       "Fare_Per_Person  0.591019 -0.040828  -0.299234   0.242203 -0.476615 -0.018381   \n",
       "\n",
       "                 Age_Class  Fare_Per_Person  \n",
       "Survived         -0.265829         0.188668  \n",
       "Pclass            0.395251        -0.641545  \n",
       "Sex              -0.156634         0.020643  \n",
       "Age               0.706679         0.289959  \n",
       "SibSp            -0.185900        -0.241858  \n",
       "Parch            -0.128082        -0.268087  \n",
       "Fare             -0.371608         0.591019  \n",
       "Embarked         -0.017438        -0.040828  \n",
       "relatives        -0.191044        -0.299234  \n",
       "not_alone         0.241041         0.242203  \n",
       "Deck              0.320932        -0.476615  \n",
       "Title            -0.229320        -0.018381  \n",
       "Age_Class         1.000000        -0.175186  \n",
       "Fare_Per_Person  -0.175186         1.000000  "
      ]
     },
     "execution_count": 34,
     "metadata": {},
     "output_type": "execute_result"
    }
   ],
   "source": [
    "train_df.corr()"
   ]
  },
  {
   "cell_type": "code",
   "execution_count": 35,
   "id": "b7c7fd69-b945-443a-98f2-7f641414510b",
   "metadata": {},
   "outputs": [
    {
     "data": {
      "text/plain": [
       "<AxesSubplot:>"
      ]
     },
     "execution_count": 35,
     "metadata": {},
     "output_type": "execute_result"
    },
    {
     "data": {
      "image/png": "[encoded data removed]",
      "text/plain": [
       "<Figure size 432x288 with 2 Axes>"
      ]
     },
     "metadata": {
      "needs_background": "light"
     },
     "output_type": "display_data"
    }
   ],
   "source": [
    "# fig, ax = plt.subplots(figsize = (24, 14)) \n",
    "sns.heatmap(train_df.corr()) "
   ]
  },
  {
   "cell_type": "markdown",
   "id": "f6916570-4b38-4648-8144-38fd1a5fa050",
   "metadata": {},
   "source": [
    "# Building Machine Learning Models"
   ]
  },
  {
   "cell_type": "code",
   "execution_count": 36,
   "id": "9d71907d-dd24-4976-9c23-77c85bed80c2",
   "metadata": {},
   "outputs": [],
   "source": [
    "# Using train_test_split\n",
    "\n",
    "X_all = train_df.drop(\"Survived\", axis=1)\n",
    "Y_all = train_df[\"Survived\"]\n",
    "\n",
    "X_train, X_test, Y_train, Y_test = train_test_split(X_all, Y_all, test_size=.2, random_state=23)"
   ]
  },
  {
   "cell_type": "markdown",
   "id": "9bd71aed-0c78-42a8-aa76-88977c968d54",
   "metadata": {},
   "source": [
    "## Stochastic Gradient Descent (SGD):"
   ]
  },
  {
   "cell_type": "code",
   "execution_count": 37,
   "id": "886900c9-e37e-436f-b092-4cf363f93317",
   "metadata": {},
   "outputs": [
    {
     "data": {
      "text/plain": [
       "SGDClassifier(max_iter=5, tol=None)"
      ]
     },
     "execution_count": 37,
     "metadata": {},
     "output_type": "execute_result"
    },
    {
     "data": {
      "text/plain": [
       "0.7949438202247191"
      ]
     },
     "execution_count": 37,
     "metadata": {},
     "output_type": "execute_result"
    },
    {
     "name": "stdout",
     "output_type": "stream",
     "text": [
      "confusion_matrix: [[105  10]\n",
      " [ 27  37]]\n",
      "Precision: 0.7872340425531915\n",
      "Recall: 0.578125\n",
      "f1_score: 0.6666666666666667\n",
      "accuracy_score: 0.7932960893854749\n",
      "accuracy_score not normalize: 142\n",
      "classification_report: ------------\n",
      "              precision    recall  f1-score   support\n",
      "\n",
      "           0       0.80      0.91      0.85       115\n",
      "           1       0.79      0.58      0.67        64\n",
      "\n",
      "    accuracy                           0.79       179\n",
      "   macro avg       0.79      0.75      0.76       179\n",
      "weighted avg       0.79      0.79      0.78       179\n",
      "\n"
     ]
    },
    {
     "data": {
      "text/plain": [
       "<sklearn.metrics._plot.confusion_matrix.ConfusionMatrixDisplay at 0x7f847cfca8e0>"
      ]
     },
     "execution_count": 37,
     "metadata": {},
     "output_type": "execute_result"
    },
    {
     "data": {
      "image/png": "[encoded data removed]",
      "text/plain": [
       "<Figure size 432x288 with 2 Axes>"
      ]
     },
     "metadata": {
      "needs_background": "light"
     },
     "output_type": "display_data"
    },
    {
     "data": {
      "text/plain": [
       "79.49"
      ]
     },
     "execution_count": 37,
     "metadata": {},
     "output_type": "execute_result"
    }
   ],
   "source": [
    "sgd = SGDClassifier(max_iter=5, tol=None)\n",
    "sgd.fit(X_train, Y_train)\n",
    "Y_pred = sgd.predict(X_test)\n",
    "\n",
    "sgd.score(X_train, Y_train)\n",
    "\n",
    "acc_sgd = round(sgd.score(X_train, Y_train) * 100, 2)\n",
    "\n",
    "print(\"confusion_matrix:\", confusion_matrix(Y_test, Y_pred))\n",
    "print(\"Precision:\", precision_score(Y_test, Y_pred))\n",
    "print(\"Recall:\",recall_score(Y_test, Y_pred))\n",
    "print(\"f1_score:\",f1_score(Y_test, Y_pred))\n",
    "print(\"accuracy_score:\",accuracy_score(Y_test, Y_pred))\n",
    "print(\"accuracy_score not normalize:\",accuracy_score(Y_test, Y_pred, normalize=False))\n",
    "print(\"classification_report: ------------\")\n",
    "print(classification_report(Y_test, Y_pred))\n",
    "plot_confusion_matrix(sgd, X_test, Y_test)  \n",
    "plt.show() \n",
    "acc_sgd\n"
   ]
  },
  {
   "cell_type": "markdown",
   "id": "f674660b-3dfa-47f6-842f-5354309c565c",
   "metadata": {},
   "source": [
    "## Random Forest:"
   ]
  },
  {
   "cell_type": "code",
   "execution_count": 38,
   "id": "a033a241-f168-4334-b7fa-dcae91ee8074",
   "metadata": {},
   "outputs": [
    {
     "data": {
      "text/plain": [
       "RandomForestClassifier()"
      ]
     },
     "execution_count": 38,
     "metadata": {},
     "output_type": "execute_result"
    },
    {
     "data": {
      "text/plain": [
       "0.9283707865168539"
      ]
     },
     "execution_count": 38,
     "metadata": {},
     "output_type": "execute_result"
    },
    {
     "name": "stdout",
     "output_type": "stream",
     "text": [
      "confusion_matrix: [[105  10]\n",
      " [ 27  37]]\n",
      "Precision: 0.7872340425531915\n",
      "Recall: 0.578125\n",
      "f1_score: 0.6666666666666667\n"
     ]
    },
    {
     "data": {
      "text/plain": [
       "92.84"
      ]
     },
     "execution_count": 38,
     "metadata": {},
     "output_type": "execute_result"
    }
   ],
   "source": [
    "\n",
    "random_forest = RandomForestClassifier(n_estimators=100)\n",
    "random_forest.fit(X_train, Y_train)\n",
    "\n",
    "Y_prediction = random_forest.predict(X_test)\n",
    "\n",
    "random_forest.score(X_train, Y_train)\n",
    "acc_random_forest = round(random_forest.score(X_train, Y_train) * 100, 2)\n",
    "print(\"confusion_matrix:\", confusion_matrix(Y_test, Y_pred))\n",
    "print(\"Precision:\", precision_score(Y_test, Y_pred))\n",
    "print(\"Recall:\",recall_score(Y_test, Y_pred))\n",
    "print(\"f1_score:\",f1_score(Y_test, Y_pred))\n",
    "acc_random_forest"
   ]
  },
  {
   "cell_type": "markdown",
   "id": "7e24fb7c-f078-44cf-ad7a-b5fc38dcecad",
   "metadata": {},
   "source": [
    "# Logistic Regression:"
   ]
  },
  {
   "cell_type": "code",
   "execution_count": 39,
   "id": "9f8f0b9c-9d2d-4c85-a100-2a67f198f36a",
   "metadata": {},
   "outputs": [
    {
     "data": {
      "text/plain": [
       "LogisticRegression()"
      ]
     },
     "execution_count": 39,
     "metadata": {},
     "output_type": "execute_result"
    },
    {
     "name": "stdout",
     "output_type": "stream",
     "text": [
      "confusion_matrix: [[98 17]\n",
      " [19 45]]\n",
      "Precision: 0.7258064516129032\n",
      "Recall: 0.703125\n",
      "f1_score: 0.7142857142857143\n"
     ]
    },
    {
     "data": {
      "text/plain": [
       "82.3"
      ]
     },
     "execution_count": 39,
     "metadata": {},
     "output_type": "execute_result"
    }
   ],
   "source": [
    "logreg = LogisticRegression()\n",
    "logreg.fit(X_train, Y_train)\n",
    "\n",
    "Y_pred = logreg.predict(X_test)\n",
    "\n",
    "acc_log = round(logreg.score(X_train, Y_train) * 100, 2)\n",
    "print(\"confusion_matrix:\", confusion_matrix(Y_test, Y_pred))\n",
    "print(\"Precision:\", precision_score(Y_test, Y_pred))\n",
    "print(\"Recall:\",recall_score(Y_test, Y_pred))\n",
    "print(\"f1_score:\",f1_score(Y_test, Y_pred))\n",
    "acc_log"
   ]
  },
  {
   "cell_type": "markdown",
   "id": "4e5f6661-6029-4b02-ab6a-a151124e2cf9",
   "metadata": {},
   "source": [
    "# K Nearest Neighbor:"
   ]
  },
  {
   "cell_type": "code",
   "execution_count": 40,
   "id": "8c28f9e4-0a02-4afa-979a-9205eee450a1",
   "metadata": {},
   "outputs": [
    {
     "data": {
      "text/plain": [
       "KNeighborsClassifier(n_neighbors=3)"
      ]
     },
     "execution_count": 40,
     "metadata": {},
     "output_type": "execute_result"
    },
    {
     "name": "stdout",
     "output_type": "stream",
     "text": [
      "confusion_matrix: [[102  13]\n",
      " [ 21  43]]\n",
      "Precision: 0.7678571428571429\n",
      "Recall: 0.671875\n",
      "f1_score: 0.7166666666666668\n"
     ]
    },
    {
     "data": {
      "text/plain": [
       "86.8"
      ]
     },
     "execution_count": 40,
     "metadata": {},
     "output_type": "execute_result"
    }
   ],
   "source": [
    "knn = KNeighborsClassifier(n_neighbors = 3) \n",
    "knn.fit(X_train, Y_train)  \n",
    "Y_pred = knn.predict(X_test)  \n",
    "acc_knn = round(knn.score(X_train, Y_train) * 100, 2)\n",
    "print(\"confusion_matrix:\", confusion_matrix(Y_test, Y_pred))\n",
    "print(\"Precision:\", precision_score(Y_test, Y_pred))\n",
    "print(\"Recall:\",recall_score(Y_test, Y_pred))\n",
    "print(\"f1_score:\",f1_score(Y_test, Y_pred))\n",
    "acc_knn"
   ]
  },
  {
   "cell_type": "markdown",
   "id": "886a0e0b-d0b5-4307-9386-246d4488dd11",
   "metadata": {},
   "source": [
    "# Gaussian Naive Bayes:"
   ]
  },
  {
   "cell_type": "code",
   "execution_count": 41,
   "id": "7f607c02-b634-493f-ba41-9a48a1e43502",
   "metadata": {},
   "outputs": [
    {
     "data": {
      "text/plain": [
       "GaussianNB()"
      ]
     },
     "execution_count": 41,
     "metadata": {},
     "output_type": "execute_result"
    },
    {
     "name": "stdout",
     "output_type": "stream",
     "text": [
      "confusion_matrix: [[93 22]\n",
      " [15 49]]\n",
      "Precision: 0.6901408450704225\n",
      "Recall: 0.765625\n",
      "f1_score: 0.725925925925926\n"
     ]
    },
    {
     "data": {
      "text/plain": [
       "78.23"
      ]
     },
     "execution_count": 41,
     "metadata": {},
     "output_type": "execute_result"
    }
   ],
   "source": [
    "gaussian = GaussianNB() \n",
    "gaussian.fit(X_train, Y_train)  \n",
    "Y_pred = gaussian.predict(X_test)  \n",
    "acc_gaussian = round(gaussian.score(X_train, Y_train) * 100, 2)\n",
    "print(\"confusion_matrix:\", confusion_matrix(Y_test, Y_pred))\n",
    "print(\"Precision:\", precision_score(Y_test, Y_pred))\n",
    "print(\"Recall:\",recall_score(Y_test, Y_pred))\n",
    "print(\"f1_score:\",f1_score(Y_test, Y_pred))\n",
    "acc_gaussian"
   ]
  },
  {
   "cell_type": "markdown",
   "id": "0a385efb-66d8-4746-8318-1701ccb44fba",
   "metadata": {},
   "source": [
    "# Perceptron:"
   ]
  },
  {
   "cell_type": "code",
   "execution_count": 42,
   "id": "0089e9cd-8547-4d98-9d4e-980e5e30cfcd",
   "metadata": {},
   "outputs": [
    {
     "data": {
      "text/plain": [
       "Perceptron(max_iter=5)"
      ]
     },
     "execution_count": 42,
     "metadata": {},
     "output_type": "execute_result"
    },
    {
     "name": "stdout",
     "output_type": "stream",
     "text": [
      "confusion_matrix: [[108   7]\n",
      " [ 31  33]]\n",
      "Precision: 0.825\n",
      "Recall: 0.515625\n",
      "f1_score: 0.6346153846153846\n"
     ]
    },
    {
     "data": {
      "text/plain": [
       "79.49"
      ]
     },
     "execution_count": 42,
     "metadata": {},
     "output_type": "execute_result"
    }
   ],
   "source": [
    "perceptron = Perceptron(max_iter=5)\n",
    "perceptron.fit(X_train, Y_train)\n",
    "\n",
    "Y_pred = perceptron.predict(X_test)\n",
    "\n",
    "acc_perceptron = round(perceptron.score(X_train, Y_train) * 100, 2)\n",
    "print(\"confusion_matrix:\", confusion_matrix(Y_test, Y_pred))\n",
    "print(\"Precision:\", precision_score(Y_test, Y_pred))\n",
    "print(\"Recall:\",recall_score(Y_test, Y_pred))\n",
    "print(\"f1_score:\",f1_score(Y_test, Y_pred))\n",
    "acc_perceptron"
   ]
  },
  {
   "cell_type": "markdown",
   "id": "2c61ba0d-9803-4500-9992-449225b6ae13",
   "metadata": {},
   "source": [
    "# Linear Support Vector Machine:"
   ]
  },
  {
   "cell_type": "code",
   "execution_count": 43,
   "id": "b921e7e6-4364-41cf-9521-10ba4627be82",
   "metadata": {},
   "outputs": [
    {
     "data": {
      "text/plain": [
       "LinearSVC()"
      ]
     },
     "execution_count": 43,
     "metadata": {},
     "output_type": "execute_result"
    },
    {
     "name": "stdout",
     "output_type": "stream",
     "text": [
      "confusion_matrix: [[98 17]\n",
      " [20 44]]\n",
      "Precision: 0.7213114754098361\n",
      "Recall: 0.6875\n",
      "f1_score: 0.7040000000000001\n"
     ]
    },
    {
     "data": {
      "text/plain": [
       "81.88"
      ]
     },
     "execution_count": 43,
     "metadata": {},
     "output_type": "execute_result"
    }
   ],
   "source": [
    "linear_svc = LinearSVC()\n",
    "linear_svc.fit(X_train, Y_train)\n",
    "\n",
    "Y_pred = linear_svc.predict(X_test)\n",
    "\n",
    "acc_linear_svc = round(linear_svc.score(X_train, Y_train) * 100, 2)\n",
    "print(\"confusion_matrix:\", confusion_matrix(Y_test, Y_pred))\n",
    "print(\"Precision:\", precision_score(Y_test, Y_pred))\n",
    "print(\"Recall:\",recall_score(Y_test, Y_pred))\n",
    "print(\"f1_score:\",f1_score(Y_test, Y_pred))\n",
    "acc_linear_svc"
   ]
  },
  {
   "cell_type": "markdown",
   "id": "c7d68a33-4b5e-4b75-94e2-adbf267e7890",
   "metadata": {},
   "source": [
    "# Decision Tree Classifier"
   ]
  },
  {
   "cell_type": "code",
   "execution_count": 44,
   "id": "8430fae8-3dcc-4a55-b251-b23174265289",
   "metadata": {},
   "outputs": [
    {
     "data": {
      "text/plain": [
       "DecisionTreeClassifier()"
      ]
     },
     "execution_count": 44,
     "metadata": {},
     "output_type": "execute_result"
    },
    {
     "name": "stdout",
     "output_type": "stream",
     "text": [
      "confusion_matrix: [[101  14]\n",
      " [ 21  43]]\n",
      "Precision: 0.7543859649122807\n",
      "Recall: 0.671875\n",
      "f1_score: 0.7107438016528924\n"
     ]
    },
    {
     "data": {
      "text/plain": [
       "92.84"
      ]
     },
     "execution_count": 44,
     "metadata": {},
     "output_type": "execute_result"
    }
   ],
   "source": [
    "decision_tree = DecisionTreeClassifier() \n",
    "decision_tree.fit(X_train, Y_train)  \n",
    "Y_pred = decision_tree.predict(X_test)  \n",
    "acc_decision_tree = round(decision_tree.score(X_train, Y_train) * 100, 2)\n",
    "print(\"confusion_matrix:\", confusion_matrix(Y_test, Y_pred))\n",
    "print(\"Precision:\", precision_score(Y_test, Y_pred))\n",
    "print(\"Recall:\",recall_score(Y_test, Y_pred))\n",
    "print(\"f1_score:\",f1_score(Y_test, Y_pred))\n",
    "acc_decision_tree"
   ]
  },
  {
   "cell_type": "markdown",
   "id": "43810fe0-fb10-4b7d-9ee0-c36d21dba1e1",
   "metadata": {},
   "source": [
    "# Decision Tree Regressor"
   ]
  },
  {
   "cell_type": "code",
   "execution_count": 45,
   "id": "bdf4038c-1590-42d5-af45-2cc9fc0ba523",
   "metadata": {},
   "outputs": [
    {
     "data": {
      "text/plain": [
       "DecisionTreeRegressor()"
      ]
     },
     "execution_count": 45,
     "metadata": {},
     "output_type": "execute_result"
    },
    {
     "data": {
      "text/plain": [
       "79.25"
      ]
     },
     "execution_count": 45,
     "metadata": {},
     "output_type": "execute_result"
    }
   ],
   "source": [
    "decision_tree_reg = DecisionTreeRegressor() \n",
    "decision_tree_reg.fit(X_train, Y_train)  \n",
    "Y_pred = decision_tree_reg.predict(X_test)  \n",
    "acc_decision_tree_reg = round(decision_tree_reg.score(X_train, Y_train) * 100, 2)\n",
    "\n",
    "# ValueError: Classification metrics can't handle a mix of binary and continuous targets\n",
    "# print(\"confusion_matrix:\", confusion_matrix(Y_test, Y_pred))\n",
    "# print(\"Precision:\", precision_score(Y_test, Y_pred))\n",
    "# print(\"Recall:\",recall_score(Y_test, Y_pred))\n",
    "# print(\"f1_score:\",f1_score(Y_test, Y_pred))\n",
    "acc_decision_tree_reg"
   ]
  },
  {
   "cell_type": "code",
   "execution_count": null,
   "id": "5fa48b61-0dad-4f81-b876-84a056d4695a",
   "metadata": {},
   "outputs": [],
   "source": []
  },
  {
   "cell_type": "markdown",
   "id": "05d77abe-6fb0-45c2-800b-23c8cc91dc38",
   "metadata": {},
   "source": [
    "# Which is the best Model ?"
   ]
  },
  {
   "cell_type": "code",
   "execution_count": 46,
   "id": "c1c0b216-7cba-4d1a-8b5e-3cc7a6219a6a",
   "metadata": {},
   "outputs": [
    {
     "data": {
      "text/html": [
       "<div>\n",
       "<style scoped>\n",
       "    .dataframe tbody tr th:only-of-type {\n",
       "        vertical-align: middle;\n",
       "    }\n",
       "\n",
       "    .dataframe tbody tr th {\n",
       "        vertical-align: top;\n",
       "    }\n",
       "\n",
       "    .dataframe thead th {\n",
       "        text-align: right;\n",
       "    }\n",
       "</style>\n",
       "<table border=\"1\" class=\"dataframe\">\n",
       "  <thead>\n",
       "    <tr style=\"text-align: right;\">\n",
       "      <th></th>\n",
       "      <th>Model</th>\n",
       "    </tr>\n",
       "    <tr>\n",
       "      <th>Score</th>\n",
       "      <th></th>\n",
       "    </tr>\n",
       "  </thead>\n",
       "  <tbody>\n",
       "    <tr>\n",
       "      <th>92.84</th>\n",
       "      <td>Random Forest</td>\n",
       "    </tr>\n",
       "    <tr>\n",
       "      <th>92.84</th>\n",
       "      <td>Decision Tree Classifier</td>\n",
       "    </tr>\n",
       "    <tr>\n",
       "      <th>86.80</th>\n",
       "      <td>KNN</td>\n",
       "    </tr>\n",
       "    <tr>\n",
       "      <th>82.30</th>\n",
       "      <td>Logistic Regression</td>\n",
       "    </tr>\n",
       "    <tr>\n",
       "      <th>81.88</th>\n",
       "      <td>Support Vector Machines</td>\n",
       "    </tr>\n",
       "    <tr>\n",
       "      <th>79.49</th>\n",
       "      <td>Perceptron</td>\n",
       "    </tr>\n",
       "    <tr>\n",
       "      <th>79.49</th>\n",
       "      <td>Stochastic Gradient Decent</td>\n",
       "    </tr>\n",
       "    <tr>\n",
       "      <th>79.25</th>\n",
       "      <td>Decision Tree Regression</td>\n",
       "    </tr>\n",
       "    <tr>\n",
       "      <th>78.23</th>\n",
       "      <td>Naive Bayes</td>\n",
       "    </tr>\n",
       "  </tbody>\n",
       "</table>\n",
       "</div>"
      ],
      "text/plain": [
       "                            Model\n",
       "Score                            \n",
       "92.84               Random Forest\n",
       "92.84    Decision Tree Classifier\n",
       "86.80                         KNN\n",
       "82.30         Logistic Regression\n",
       "81.88     Support Vector Machines\n",
       "79.49                  Perceptron\n",
       "79.49  Stochastic Gradient Decent\n",
       "79.25    Decision Tree Regression\n",
       "78.23                 Naive Bayes"
      ]
     },
     "execution_count": 46,
     "metadata": {},
     "output_type": "execute_result"
    }
   ],
   "source": [
    "dic = {\n",
    "    \"Support Vector Machines\": {\n",
    "         \"model\" : linear_svc,\n",
    "         \"score\" : acc_linear_svc,\n",
    "    },  \n",
    "    \"KNN\": {\n",
    "         \"model\" : knn,\n",
    "         \"score\" : acc_knn, \n",
    "    },  \n",
    "    \"Logistic Regression\": {\n",
    "         \"model\" : logreg,\n",
    "         \"score\" : acc_log, \n",
    "    },  \n",
    "    \"Random Forest\": {\n",
    "         \"model\" : random_forest,\n",
    "         \"score\" : acc_random_forest, \n",
    "    },  \n",
    "    \"Naive Bayes\": {\n",
    "         \"model\" : gaussian,\n",
    "         \"score\" : acc_gaussian, \n",
    "    },  \n",
    "    \"Perceptron\": {\n",
    "         \"model\" : perceptron,\n",
    "         \"score\" : acc_perceptron, \n",
    "    },  \n",
    "    \"Stochastic Gradient Decent\": {\n",
    "         \"model\" : sgd,\n",
    "         \"score\" : acc_sgd, \n",
    "    },  \n",
    "    \"Decision Tree Classifier\": {\n",
    "         \"model\" : decision_tree,\n",
    "         \"score\" : acc_decision_tree, \n",
    "    },  \n",
    "    \"Decision Tree Regression\" : {\n",
    "         \"model\" : decision_tree_reg,\n",
    "         \"score\" : acc_decision_tree_reg\n",
    "    }\n",
    "}\n",
    "\n",
    "labels = []\n",
    "scores = []\n",
    "for label, valueObj in dic.items():\n",
    "    labels.append(label)\n",
    "    scores.append(valueObj['score'])\n",
    "    \n",
    "results = pd.DataFrame({\n",
    "    'Model': labels,\n",
    "    'Score': scores})\n",
    "result_df = results.sort_values(by='Score', ascending=False)\n",
    "result_df = result_df.set_index('Score')\n",
    "result_df"
   ]
  },
  {
   "cell_type": "markdown",
   "id": "2eef520e-a299-4800-8f85-e88c897d759b",
   "metadata": {},
   "source": [
    "# With Cross validation"
   ]
  },
  {
   "cell_type": "code",
   "execution_count": 47,
   "id": "81a8752a-eb17-4d48-a926-1214cea76e74",
   "metadata": {},
   "outputs": [
    {
     "data": {
      "text/plain": [
       "[('Support Vector Machines', LinearSVC()),\n",
       " ('KNN', KNeighborsClassifier(n_neighbors=3)),\n",
       " ('Random Forest', RandomForestClassifier()),\n",
       " ('Naive Bayes', GaussianNB()),\n",
       " ('Perceptron', Perceptron(max_iter=5)),\n",
       " ('Stochastic Gradient Decent', SGDClassifier(max_iter=5, tol=None)),\n",
       " ('Decision Tree Classifier', DecisionTreeClassifier())]"
      ]
     },
     "execution_count": 47,
     "metadata": {},
     "output_type": "execute_result"
    }
   ],
   "source": [
    "# Voting classifier works for classifier eliminating Regression\n",
    "eliminationList = ['Logistic Regression', 'Decision Tree Regression']\n",
    "voting_classifier_estimator = []\n",
    "\n",
    "for label, valueObj in dic.items():\n",
    "    if label not in eliminationList:\n",
    "        voting_classifier_estimator.append((label, valueObj['model']))\n",
    "        \n",
    "voting_classifier_estimator      "
   ]
  },
  {
   "cell_type": "markdown",
   "id": "e5d8fd45-11ce-4c50-a6fa-c220200cf4a9",
   "metadata": {},
   "source": [
    "# Voting Classifier"
   ]
  },
  {
   "cell_type": "code",
   "execution_count": 48,
   "id": "7c895804-e526-4f46-915f-9d19d2ae83d4",
   "metadata": {},
   "outputs": [
    {
     "data": {
      "text/plain": [
       "VotingClassifier(estimators=[('Support Vector Machines', LinearSVC()),\n",
       "                             ('KNN', KNeighborsClassifier(n_neighbors=3)),\n",
       "                             ('Random Forest', RandomForestClassifier()),\n",
       "                             ('Naive Bayes', GaussianNB()),\n",
       "                             ('Perceptron', Perceptron(max_iter=5)),\n",
       "                             ('Stochastic Gradient Decent',\n",
       "                              SGDClassifier(max_iter=5, tol=None)),\n",
       "                             ('Decision Tree Classifier',\n",
       "                              DecisionTreeClassifier())])"
      ]
     },
     "execution_count": 48,
     "metadata": {},
     "output_type": "execute_result"
    },
    {
     "data": {
      "text/plain": [
       "87.36"
      ]
     },
     "execution_count": 48,
     "metadata": {},
     "output_type": "execute_result"
    }
   ],
   "source": [
    "voting_clf = VotingClassifier(voting = \"hard\", estimators = voting_classifier_estimator)\n",
    "voting_clf.fit(X_train, Y_train)  \n",
    "Y_pred = voting_clf.predict(X_test)  \n",
    "acc_voting_clf = round(voting_clf.score(X_train, Y_train) * 100, 2)\n",
    "acc_voting_clf\n"
   ]
  },
  {
   "cell_type": "code",
   "execution_count": 49,
   "id": "8771a281-3c3c-4f48-adbe-f55799b8e7e3",
   "metadata": {},
   "outputs": [
    {
     "data": {
      "text/html": [
       "<div>\n",
       "<style scoped>\n",
       "    .dataframe tbody tr th:only-of-type {\n",
       "        vertical-align: middle;\n",
       "    }\n",
       "\n",
       "    .dataframe tbody tr th {\n",
       "        vertical-align: top;\n",
       "    }\n",
       "\n",
       "    .dataframe thead th {\n",
       "        text-align: right;\n",
       "    }\n",
       "</style>\n",
       "<table border=\"1\" class=\"dataframe\">\n",
       "  <thead>\n",
       "    <tr style=\"text-align: right;\">\n",
       "      <th></th>\n",
       "      <th>Model</th>\n",
       "    </tr>\n",
       "    <tr>\n",
       "      <th>Score</th>\n",
       "      <th></th>\n",
       "    </tr>\n",
       "  </thead>\n",
       "  <tbody>\n",
       "    <tr>\n",
       "      <th>92.84</th>\n",
       "      <td>Random Forest</td>\n",
       "    </tr>\n",
       "    <tr>\n",
       "      <th>92.84</th>\n",
       "      <td>Decision Tree Classifier</td>\n",
       "    </tr>\n",
       "    <tr>\n",
       "      <th>87.36</th>\n",
       "      <td>Voting Classifier</td>\n",
       "    </tr>\n",
       "    <tr>\n",
       "      <th>86.80</th>\n",
       "      <td>KNN</td>\n",
       "    </tr>\n",
       "    <tr>\n",
       "      <th>81.88</th>\n",
       "      <td>Support Vector Machines</td>\n",
       "    </tr>\n",
       "    <tr>\n",
       "      <th>79.49</th>\n",
       "      <td>Perceptron</td>\n",
       "    </tr>\n",
       "    <tr>\n",
       "      <th>79.49</th>\n",
       "      <td>Stochastic Gradient Decent</td>\n",
       "    </tr>\n",
       "    <tr>\n",
       "      <th>78.23</th>\n",
       "      <td>Naive Bayes</td>\n",
       "    </tr>\n",
       "  </tbody>\n",
       "</table>\n",
       "</div>"
      ],
      "text/plain": [
       "                            Model\n",
       "Score                            \n",
       "92.84               Random Forest\n",
       "92.84    Decision Tree Classifier\n",
       "87.36           Voting Classifier\n",
       "86.80                         KNN\n",
       "81.88     Support Vector Machines\n",
       "79.49                  Perceptron\n",
       "79.49  Stochastic Gradient Decent\n",
       "78.23                 Naive Bayes"
      ]
     },
     "execution_count": 49,
     "metadata": {},
     "output_type": "execute_result"
    }
   ],
   "source": [
    "dic[\"Voting Classifier\"] = {\n",
    "     \"model\" : voting_clf,\n",
    "     \"score\" : acc_voting_clf\n",
    "}\n",
    "\n",
    "# Voting classifier works for classifier eliminating Regression\n",
    "eliminationList = ['Logistic Regression', 'Decision Tree Regression']\n",
    "\n",
    "labels = []\n",
    "scores = []\n",
    "for label, valueObj in dic.items():\n",
    "    if label not in eliminationList:\n",
    "        model = valueObj['model']\n",
    "        score =  cross_val_score(model, \n",
    "                                 X_train,\n",
    "                                 Y_train, \n",
    "                                 cv=10, \n",
    "                                 scoring = \"accuracy\")\n",
    "        labels.append(label)\n",
    "        scores.append(valueObj['score'])\n",
    "\n",
    "results = pd.DataFrame({\n",
    "    'Model': labels,\n",
    "    'Score': scores})\n",
    "result_df = results.sort_values(by='Score', ascending=False)\n",
    "result_df = result_df.set_index('Score')\n",
    "result_df"
   ]
  },
  {
   "cell_type": "markdown",
   "id": "92b9500e-f1d4-43b7-b735-a38866e89653",
   "metadata": {},
   "source": [
    "* As we can see, the Random Forest classifier goes on the first place. But first, let us check, how random-forest performs, when we use cross validation.\n",
    "\n",
    "### Let take 'Random Forest' and perfom K-Fold Cross Validation:"
   ]
  },
  {
   "cell_type": "code",
   "execution_count": 50,
   "id": "fc64b536-628e-4789-8618-d6012c322656",
   "metadata": {},
   "outputs": [
    {
     "name": "stdout",
     "output_type": "stream",
     "text": [
      "Scores: [0.77777778 0.86111111 0.8028169  0.78873239 0.88732394 0.81690141\n",
      " 0.8028169  0.74647887 0.87323944 0.76056338]\n",
      "Mean: 0.811776212832551\n",
      "Standard Deviation: 0.045474535494009385\n"
     ]
    }
   ],
   "source": [
    "rf = RandomForestClassifier(n_estimators=100)\n",
    "scores = cross_val_score(rf, X_train, Y_train, cv=10, scoring = \"accuracy\")\n",
    "print(\"Scores:\", scores)\n",
    "print(\"Mean:\", scores.mean())\n",
    "print(\"Standard Deviation:\", scores.std())"
   ]
  },
  {
   "cell_type": "markdown",
   "id": "7e25c189-7ac0-47de-9afa-7018413beeee",
   "metadata": {},
   "source": [
    "* This looks much more realistic than before. Our model has a average accuracy of 82% with a standard deviation of 4 %. The standard deviation shows us, how precise the estimates are .\n",
    "\n",
    "* This means in our case that the accuracy of our model can differ + — 4%.\n",
    "\n",
    "* I think the accuracy is still really good and since random forest is an easy to use model, we will try to increase it’s performance even further in the following section.\n",
    "\n",
    " ## Good parts of Random forest\n",
    " \n",
    " * Random forest builds multiple decision trees and merges them together to get a more accurate and stable prediction.\n",
    " * One big advantage of random forest is, that it can be used for both classification and regression problems, which form the majority of current machine learning systems. With a few exceptions a random-forest classifier has all the hyperparameters of a decision-tree classifier and also all the hyperparameters of a bagging classifier, to control the ensemble itself.\n",
    " * great quality of random forest is that they make it very easy to measure the relative importance of each feature"
   ]
  },
  {
   "cell_type": "code",
   "execution_count": 51,
   "id": "dbb09566-a139-46ae-8875-244b36258326",
   "metadata": {},
   "outputs": [
    {
     "name": "stdout",
     "output_type": "stream",
     "text": [
      "                 importance\n",
      "feature                    \n",
      "Title                 0.209\n",
      "Sex                   0.162\n",
      "Age_Class             0.105\n",
      "Deck                  0.079\n",
      "Age                   0.076\n",
      "Pclass                0.075\n",
      "Fare                  0.060\n",
      "Embarked              0.058\n",
      "relatives             0.056\n",
      "SibSp                 0.041\n",
      "Fare_Per_Person       0.039\n",
      "Parch                 0.029\n",
      "not_alone             0.011\n"
     ]
    },
    {
     "data": {
      "text/plain": [
       "<AxesSubplot:xlabel='feature'>"
      ]
     },
     "execution_count": 51,
     "metadata": {},
     "output_type": "execute_result"
    },
    {
     "data": {
      "image/png": "[encoded data removed]",
      "text/plain": [
       "<Figure size 432x288 with 1 Axes>"
      ]
     },
     "metadata": {
      "needs_background": "light"
     },
     "output_type": "display_data"
    }
   ],
   "source": [
    "importances = pd.DataFrame({'feature':X_train.columns,'importance':np.round(random_forest.feature_importances_,3)})\n",
    "importances = importances.sort_values('importance',ascending=False).set_index('feature')\n",
    "print(importances.head(15))\n",
    "importances.plot.bar()"
   ]
  },
  {
   "cell_type": "markdown",
   "id": "36cd740d-6628-4390-83c0-7e355206317d",
   "metadata": {},
   "source": [
    "# Conclusion:\n",
    "\n",
    "* not_alone and Parch doesn’t play a significant role in our random forest classifiers prediction process. Because of that I will drop them from the dataset and train the classifier again. We could also remove more or less features, but this would need a more detailed investigation of the features effect on our model. But I think it’s just fine to remove only Alone and Parch.\n",
    "\n",
    " ### Training random forest again:  "
   ]
  },
  {
   "cell_type": "code",
   "execution_count": 52,
   "id": "187bf85a-5702-493f-bb5e-aeea04562841",
   "metadata": {},
   "outputs": [
    {
     "data": {
      "text/plain": [
       "RandomForestClassifier(oob_score=True)"
      ]
     },
     "execution_count": 52,
     "metadata": {},
     "output_type": "execute_result"
    },
    {
     "data": {
      "text/plain": [
       "0.9283707865168539"
      ]
     },
     "execution_count": 52,
     "metadata": {},
     "output_type": "execute_result"
    },
    {
     "name": "stdout",
     "output_type": "stream",
     "text": [
      "92.84 %\n"
     ]
    }
   ],
   "source": [
    "train_df  = train_df.drop(\"not_alone\", axis=1)\n",
    "test_df  = test_df.drop(\"not_alone\", axis=1)\n",
    "\n",
    "train_df  = train_df.drop(\"Parch\", axis=1)\n",
    "test_df  = test_df.drop(\"Parch\", axis=1)\n",
    "\n",
    "# Random Forest\n",
    "\n",
    "random_forest = RandomForestClassifier(n_estimators=100, oob_score = True)\n",
    "random_forest.fit(X_train, Y_train)\n",
    "Y_prediction = random_forest.predict(X_test)\n",
    "\n",
    "random_forest.score(X_train, Y_train)\n",
    "\n",
    "acc_random_forest = round(random_forest.score(X_train, Y_train) * 100, 2)\n",
    "print(round(acc_random_forest,2,), \"%\")"
   ]
  },
  {
   "cell_type": "markdown",
   "id": "53c94e22-e2f8-456e-8430-c3872c17cc31",
   "metadata": {},
   "source": [
    "* Our random forest model predicts as good as it did before. A general rule is that, the more features you have, the more likely your model will suffer from overfitting and vice versa. But I think our data looks fine for now and hasn't too much features.\n",
    "\n",
    "##### There is also another way to evaluate a random-forest classifier, which is probably much more accurate than the score we used before. What I am talking about is the out-of-bag samples to estimate the generalization accuracy. I will not go into details here about how it works. Just note that out-of-bag estimate is as accurate as using a test set of the same size as the training set. Therefore, using the out-of-bag error estimate removes the need for a set aside test set."
   ]
  },
  {
   "cell_type": "code",
   "execution_count": 53,
   "id": "32c2ae90-b0d4-473a-8300-c4d94c76da41",
   "metadata": {},
   "outputs": [
    {
     "name": "stdout",
     "output_type": "stream",
     "text": [
      "oob score: 80.47999999999999 %\n"
     ]
    }
   ],
   "source": [
    "print(\"oob score:\", round(random_forest.oob_score_, 4)*100, \"%\")"
   ]
  },
  {
   "cell_type": "markdown",
   "id": "8bc6c516-cf7c-4920-9d7d-90c422317b3e",
   "metadata": {},
   "source": [
    "# Hyperparameter Tuning\n",
    "\n",
    "* code of the hyperparamter tuning for the parameters criterion, min_samples_leaf, min_samples_split and n_estimators."
   ]
  },
  {
   "cell_type": "code",
   "execution_count": 54,
   "id": "3dceb89c-0cc1-4f6c-b565-26300ba4b336",
   "metadata": {},
   "outputs": [
    {
     "data": {
      "text/plain": [
       "RandomForestClassifier(min_samples_split=10, n_jobs=-1, oob_score=True,\n",
       "                       random_state=1)"
      ]
     },
     "execution_count": 54,
     "metadata": {},
     "output_type": "execute_result"
    },
    {
     "data": {
      "text/plain": [
       "0.8890449438202247"
      ]
     },
     "execution_count": 54,
     "metadata": {},
     "output_type": "execute_result"
    },
    {
     "name": "stdout",
     "output_type": "stream",
     "text": [
      "oob score: 82.87 %\n"
     ]
    }
   ],
   "source": [
    "# Random Forest\n",
    "random_forest = RandomForestClassifier(criterion = \"gini\", \n",
    "                                       min_samples_leaf = 1, \n",
    "                                       min_samples_split = 10,   \n",
    "                                       n_estimators=100, \n",
    "                                       max_features='auto', \n",
    "                                       oob_score=True, \n",
    "                                       random_state=1, \n",
    "                                       n_jobs=-1)\n",
    "\n",
    "random_forest.fit(X_train, Y_train)\n",
    "Y_prediction = random_forest.predict(X_test)\n",
    "\n",
    "random_forest.score(X_train, Y_train)\n",
    "\n",
    "print(\"oob score:\", round(random_forest.oob_score_, 4)*100, \"%\")"
   ]
  },
  {
   "cell_type": "markdown",
   "id": "3770b659-80ce-49be-a207-50c36c10d0eb",
   "metadata": {},
   "source": [
    "* Now that we have a proper model, we can start evaluating it’s performace in a more accurate way. Previously we only used accuracy and the oob score, which is just another form of accuracy. The problem is just, that it’s more complicated to evaluate a classification model than a regression model. We will talk about this in the following section.\n",
    "\n",
    "# Further Evaluation\n",
    "\n",
    "## Confusion Matrix:"
   ]
  },
  {
   "cell_type": "code",
   "execution_count": 55,
   "id": "cb90effa-dcc1-4088-9935-9610ac7f57d7",
   "metadata": {},
   "outputs": [
    {
     "data": {
      "text/plain": [
       "array([[386,  48],\n",
       "       [ 73, 205]])"
      ]
     },
     "execution_count": 55,
     "metadata": {},
     "output_type": "execute_result"
    }
   ],
   "source": [
    "from sklearn.model_selection import cross_val_predict\n",
    "predictions = cross_val_predict(random_forest, X_train, Y_train, cv=3)\n",
    "confusion_matrix(Y_train, predictions)"
   ]
  },
  {
   "cell_type": "markdown",
   "id": "70c025ca-0083-4106-8722-1a5097ef6c61",
   "metadata": {},
   "source": [
    "* The first row is about the not-survived-predictions: 493 passengers were correctly classified as not survived (called true negatives) and 56 where wrongly classified as not survived (false positives).\n",
    "\n",
    "* The second row is about the survived-predictions: 93 passengers where wrongly classified as survived (false negatives) and 249 where correctly classified as survived (true positives).\n",
    "\n",
    "* A confusion matrix gives you a lot of information about how well your model does, but theres a way to get even more, like computing the classifiers precision.\n",
    "\n",
    "### Precision and Recall:"
   ]
  },
  {
   "cell_type": "code",
   "execution_count": 56,
   "id": "07b3cc16-6d80-4605-8d3d-98bfc548c8fb",
   "metadata": {},
   "outputs": [
    {
     "name": "stdout",
     "output_type": "stream",
     "text": [
      "Precision: 0.8102766798418972\n",
      "Recall: 0.737410071942446\n"
     ]
    }
   ],
   "source": [
    "\n",
    "print(\"Precision:\", precision_score(Y_train, predictions))\n",
    "print(\"Recall:\",recall_score(Y_train, predictions))"
   ]
  },
  {
   "cell_type": "markdown",
   "id": "1d35146f-6e50-41dd-b247-c20c40281866",
   "metadata": {},
   "source": [
    "* Our model predicts 81% of the time, a passengers survival correctly (precision). The recall tells us that it predicted the survival of 73 % of the people who actually survived.\n",
    "\n",
    "# F-Score\n",
    "\n",
    "* You can combine precision and recall into one score, which is called the F-score. The F-score is computed with the harmonic mean of precision and recall. Note that it assigns much more weight to low values. As a result of that, the classifier will only get a high F-score, if both recall and precision are high.\n",
    "\n"
   ]
  },
  {
   "cell_type": "code",
   "execution_count": 57,
   "id": "d87f9e30-1c4b-4440-93c6-c13cd150b851",
   "metadata": {},
   "outputs": [
    {
     "data": {
      "text/plain": [
       "0.7721280602636534"
      ]
     },
     "execution_count": 57,
     "metadata": {},
     "output_type": "execute_result"
    }
   ],
   "source": [
    "f1_score(Y_train, predictions)"
   ]
  },
  {
   "cell_type": "markdown",
   "id": "df336110-6b9b-427b-bde2-84f76d8588e1",
   "metadata": {},
   "source": [
    "* There we have it, a 77 % F-score. The score is not that high, because we have a recall of 73%. But unfortunately the F-score is not perfect, because it favors classifiers that have a similar precision and recall. This is a problem, because you sometimes want a high precision and sometimes a high recall. The thing is that an increasing precision, sometimes results in an decreasing recall and vice versa (depending on the threshold). This is called the precision/recall tradeoff. We will discuss this in the following section.\n",
    "\n",
    "### Precision Recall Curve\n",
    "\n",
    "* For each person the Random Forest algorithm has to classify, it computes a probability based on a function and it classifies the person as survived (when the score is bigger the than threshold) or as not survived (when the score is smaller than the threshold). That’s why the threshold plays an important part.\n",
    "\n",
    "    \n",
    "   We will plot the precision and recall with the threshold using matplotlib:\n",
    "   "
   ]
  },
  {
   "cell_type": "code",
   "execution_count": 58,
   "id": "a068db39-9c14-4033-9b83-59736c0d0b62",
   "metadata": {},
   "outputs": [
    {
     "data": {
      "image/png": "[encoded data removed]",
      "text/plain": [
       "<Figure size 432x288 with 1 Axes>"
      ]
     },
     "metadata": {
      "needs_background": "light"
     },
     "output_type": "display_data"
    }
   ],
   "source": [
    "from sklearn.metrics import precision_recall_curve\n",
    "\n",
    "# getting the probabilities of our predictions\n",
    "y_scores = random_forest.predict_proba(X_train)\n",
    "y_scores = y_scores[:,1]\n",
    "\n",
    "precision, recall, threshold = precision_recall_curve(Y_train, y_scores)\n",
    "def plot_precision_and_recall(precision, recall, threshold):\n",
    "    plt.plot(threshold, precision[:-1], \"r-\", label=\"precision\", linewidth=5)\n",
    "    plt.plot(threshold, recall[:-1], \"b\", label=\"recall\", linewidth=5)\n",
    "    plt.xlabel(\"threshold\", fontsize=19)\n",
    "    plt.legend(loc=\"upper right\", fontsize=19)\n",
    "    plt.ylim([0, 1])\n",
    "\n",
    "# plt.figure(figsize=(14, 7))\n",
    "plot_precision_and_recall(precision, recall, threshold)\n",
    "plt.show()"
   ]
  },
  {
   "cell_type": "markdown",
   "id": "e96d7613-a25d-40a3-aa64-58ec28f42086",
   "metadata": {},
   "source": [
    "* Above you can clearly see that the recall is falling of rapidly at a precision of around 85%. Because of that you may want to select the precision/recall tradeoff before that — maybe at around 75 %.\n",
    "\n",
    "    You are now able to choose a threshold, that gives you the best precision/recall tradeoff for your current machine learning problem. If you want for example a precision of 80%, you can easily look at the plots and see that you would need a threshold of around 0.4. Then you could train a model with exactly that threshold and would get the desired accuracy.\n",
    "\n",
    "\n",
    "\n",
    "Another way is to plot the precision and recall against each other:"
   ]
  },
  {
   "cell_type": "code",
   "execution_count": 59,
   "id": "8c94698d-09c8-4c1a-81d4-373d23fa33d9",
   "metadata": {},
   "outputs": [
    {
     "data": {
      "text/plain": [
       "<Figure size 1008x504 with 0 Axes>"
      ]
     },
     "execution_count": 59,
     "metadata": {},
     "output_type": "execute_result"
    },
    {
     "data": {
      "image/png": "[encoded data removed]",
      "text/plain": [
       "<Figure size 1008x504 with 1 Axes>"
      ]
     },
     "metadata": {
      "needs_background": "light"
     },
     "output_type": "display_data"
    }
   ],
   "source": [
    "def plot_precision_vs_recall(precision, recall):\n",
    "    plt.plot(recall, precision, \"g--\", linewidth=2.5)\n",
    "    plt.ylabel(\"recall\", fontsize=19)\n",
    "    plt.xlabel(\"precision\", fontsize=19)\n",
    "    plt.axis([0, 1.5, 0, 1.5])\n",
    "\n",
    "# plt.figure(figsize=(14, 7))\n",
    "plot_precision_vs_recall(precision, recall)\n",
    "plt.show()"
   ]
  },
  {
   "cell_type": "markdown",
   "id": "e35fab0a-8056-4761-acf9-081053ce1ba2",
   "metadata": {},
   "source": [
    "# ROC AUC Curve\n",
    "\n",
    "* Another way to evaluate and compare your binary classifier is provided by the ROC AUC Curve. This curve plots the true positive rate (also called recall) against the false positive rate (ratio of incorrectly classified negative instances), instead of plotting the precision versus the recall."
   ]
  },
  {
   "cell_type": "code",
   "execution_count": 60,
   "id": "4c0cd4ac-9d2b-4968-b9e6-7f23cd9dd009",
   "metadata": {},
   "outputs": [
    {
     "data": {
      "image/png": "[encoded data removed]",
      "text/plain": [
       "<Figure size 432x288 with 1 Axes>"
      ]
     },
     "metadata": {
      "needs_background": "light"
     },
     "output_type": "display_data"
    }
   ],
   "source": [
    "from sklearn.metrics import roc_curve\n",
    "# compute true positive rate and false positive rate\n",
    "false_positive_rate, true_positive_rate, thresholds = roc_curve(Y_train, y_scores)\n",
    "# plotting them against each other\n",
    "def plot_roc_curve(false_positive_rate, true_positive_rate, label=None):\n",
    "    plt.plot(false_positive_rate, true_positive_rate, linewidth=2, label=label)\n",
    "    plt.plot([0, 1], [0, 1], 'r', linewidth=4)\n",
    "    plt.axis([0, 1, 0, 1])\n",
    "    plt.xlabel('False Positive Rate (FPR)', fontsize=16)\n",
    "    plt.ylabel('True Positive Rate (TPR)', fontsize=16)\n",
    "\n",
    "# plt.figure(figsize=(14, 7))\n",
    "plot_roc_curve(false_positive_rate, true_positive_rate)\n",
    "plt.show()"
   ]
  },
  {
   "cell_type": "markdown",
   "id": "429eb894-57cd-4806-8cc1-bd81f97d3671",
   "metadata": {},
   "source": [
    "* The red line in the middle represents a purely random classifier (e.g a coin flip) and therefore your classifier should be as far away from it as possible. Our Random Forest model seems to do a good job.\n",
    "\n",
    "* Of course we also have a tradeoff here, because the classifier produces more false positives, the higher the true positive rate is.\n",
    "\n",
    "## ROC AUC Score\n",
    "\n",
    "   * The ROC AUC Score is the corresponding score to the ROC AUC Curve. It is simply computed by measuring the area under the curve, which is called AUC.\n",
    "\n",
    "   * A classifiers that is 100% correct, would have a ROC AUC Score of 1 and a completely random classiffier would have a score of 0.5."
   ]
  },
  {
   "cell_type": "code",
   "execution_count": 61,
   "id": "459ed0ac-ca74-4ab3-a04b-f1f4f2ab3752",
   "metadata": {},
   "outputs": [
    {
     "name": "stdout",
     "output_type": "stream",
     "text": [
      "ROC-AUC-Score: 0.9455375791532673\n"
     ]
    }
   ],
   "source": [
    "from sklearn.metrics import roc_auc_score\n",
    "r_a_score = roc_auc_score(Y_train, y_scores)\n",
    "print(\"ROC-AUC-Score:\", r_a_score)"
   ]
  },
  {
   "cell_type": "markdown",
   "id": "ef6f98c7-556d-4d9a-a376-61fbfd2bd3f3",
   "metadata": {},
   "source": [
    "# Summary\n",
    "\n",
    "* We started with the data exploration where we got a feeling for the dataset, checked about missing data and learned which features are important. During this process we used seaborn and matplotlib to do the visualizations. During the data preprocessing part, we computed missing values, converted features into numeric ones, grouped values into categories and created a few new features. Afterwards we started training 8 different machine learning models, picked one of them (random forest) and applied cross validation on it. Then we discussed how random forest works, took a look at the importance it assigns to the different features and tuned it’s performace through optimizing it’s hyperparameter values. Lastly, we looked at it’s confusion matrix and computed the models precision, recall and f-score.\n",
    "\n",
    "\n",
    "\n",
    "\n",
    "* Of course there is still room for improvement, like doing a more extensive feature engineering, by comparing and plotting the features against each other and identifying and removing the noisy features. Another thing that can improve the overall result on the kaggle leaderboard would be a more extensive hyperparameter tuning on several machine learning models. You could also do some ensemble learning.\n"
   ]
  },
  {
   "cell_type": "code",
   "execution_count": null,
   "id": "c0b024d0-587a-4491-8285-bc2e4d91aa94",
   "metadata": {},
   "outputs": [],
   "source": []
  },
  {
   "cell_type": "code",
   "execution_count": null,
   "id": "d349feb0-d8ad-4fab-8eb5-61c93b72df55",
   "metadata": {},
   "outputs": [],
   "source": []
  }
 ],
 "metadata": {
  "kernelspec": {
   "display_name": "Python 3 (ipykernel)",
   "language": "python",
   "name": "python3"
  },
  "language_info": {
   "codemirror_mode": {
    "name": "ipython",
    "version": 3
   },
   "file_extension": ".py",
   "mimetype": "text/x-python",
   "name": "python",
   "nbconvert_exporter": "python",
   "pygments_lexer": "ipython3",
   "version": "3.8.12"
  }
 },
 "nbformat": 4,
 "nbformat_minor": 5
}
