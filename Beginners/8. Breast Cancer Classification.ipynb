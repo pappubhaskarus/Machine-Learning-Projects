{
 "cells": [
  {
   "cell_type": "markdown",
   "id": "3b349176-bd04-42fb-b869-30ae3bf29969",
   "metadata": {},
   "source": [
    "8. Breast Cancer Classification\n",
    "\n",
    " \n",
    "\n",
    "The breast cancer classification dataset on Kaggle is another excellent way to practice your machine learning and AI skills.\n",
    "\n",
    "Most supervised machine learning problems in the real world are classification problems like this one. A key challenge in breast cancer identification is the inability to distinguish between benign (non-cancerous) and malignant (cancerous) tumors. The dataset has variables like “radius_mean” and “area_mean” of the tumor, and you will need to classify based on these features if a tumor is cancerous or not. This dataset is relatively easy to work with since there is no need to do any significant data pre-processing. It is also a well-balanced dataset, making your task more manageable as you don’t need to do much feature engineering.\n",
    "\n",
    "Training a simple logistic regression classifier on this dataset can give you accuracy as high as 0.90.\n",
    "\n",
    "Dataset: Kaggle Breast Cancer Classification Dataset"
   ]
  },
  {
   "cell_type": "code",
   "execution_count": null,
   "id": "8249cc8b-1914-40b7-91e1-8c3edfe68d41",
   "metadata": {},
   "outputs": [],
   "source": []
  },
  {
   "cell_type": "code",
   "execution_count": 2,
   "id": "bac51374-51d1-4635-8939-ae1d722b8223",
   "metadata": {},
   "outputs": [],
   "source": [
    "from sklearn.datasets import load_breast_cancer\n",
    "data = load_breast_cancer()"
   ]
  },
  {
   "cell_type": "code",
   "execution_count": 4,
   "id": "cf8c304d-2dd4-4349-a7d7-019fbbdcfd98",
   "metadata": {},
   "outputs": [
    {
     "data": {
      "text/plain": [
       "array(['mean radius', 'mean texture', 'mean perimeter', 'mean area',\n",
       "       'mean smoothness', 'mean compactness', 'mean concavity',\n",
       "       'mean concave points', 'mean symmetry', 'mean fractal dimension',\n",
       "       'radius error', 'texture error', 'perimeter error', 'area error',\n",
       "       'smoothness error', 'compactness error', 'concavity error',\n",
       "       'concave points error', 'symmetry error',\n",
       "       'fractal dimension error', 'worst radius', 'worst texture',\n",
       "       'worst perimeter', 'worst area', 'worst smoothness',\n",
       "       'worst compactness', 'worst concavity', 'worst concave points',\n",
       "       'worst symmetry', 'worst fractal dimension'], dtype='<U23')"
      ]
     },
     "execution_count": 4,
     "metadata": {},
     "output_type": "execute_result"
    }
   ],
   "source": [
    "data.feature_names"
   ]
  },
  {
   "cell_type": "code",
   "execution_count": null,
   "id": "725803f8-f0a4-48e3-ba53-ad6678b0b8cc",
   "metadata": {},
   "outputs": [],
   "source": []
  }
 ],
 "metadata": {
  "kernelspec": {
   "display_name": "Python 3 (ipykernel)",
   "language": "python",
   "name": "python3"
  },
  "language_info": {
   "codemirror_mode": {
    "name": "ipython",
    "version": 3
   },
   "file_extension": ".py",
   "mimetype": "text/x-python",
   "name": "python",
   "nbconvert_exporter": "python",
   "pygments_lexer": "ipython3",
   "version": "3.8.12"
  }
 },
 "nbformat": 4,
 "nbformat_minor": 5
}
