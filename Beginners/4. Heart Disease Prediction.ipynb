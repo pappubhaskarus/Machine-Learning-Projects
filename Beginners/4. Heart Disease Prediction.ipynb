{
 "cells": [
  {
   "cell_type": "markdown",
   "id": "b64a8cfb-6bfc-48cd-ac98-61df051ebe37",
   "metadata": {},
   "source": [
    "4. Heart Disease Prediction\n",
    "\n",
    " \n",
    "\n",
    "If you are looking to explore a dataset in the healthcare industry, this is a great beginner-level dataset to start with. This dataset is used to predict the 10-year risk of CHD (Coronary Heart Disease). The dependent variables in this dataset are the risk factors of heart disease, including diabetes, smoking, high blood pressure, and high cholesterol levels.\n",
    "\n",
    "The independent variable is the 10-year risk of CHD. It is a binary classification problem, and the target variable is either 0 or 1–0 for the patients who never developed heart disease and 1 for the patients who did. You can perform some feature selection on this dataset to identify features that most contribute towards heart risk. Then, you can fit a classification model onto the independent variables.\n",
    "\n",
    "This dataset is highly imbalanced because many of the patients in this dataset did not develop heart disease. An imbalanced dataset needs to be handled using the right feature engineering techniques like oversampling, weight-tuning, or undersampling. If not dealt with properly, you will end up with a model that simply predicts the majority class for each data point and cannot identify patients who did develop heart disease. This is an excellent dataset for you to practice your feature engineering and machine learning skills.\n",
    "\n",
    "Dataset: Kaggle Heart Disease Dataset"
   ]
  },
  {
   "cell_type": "code",
   "execution_count": null,
   "id": "3830bbae-ba99-4589-bf0b-edaac1c0364c",
   "metadata": {},
   "outputs": [],
   "source": []
  },
  {
   "cell_type": "code",
   "execution_count": null,
   "id": "cde7a508-ee38-44d1-b7f4-0b1a9577cf37",
   "metadata": {},
   "outputs": [],
   "source": []
  },
  {
   "cell_type": "code",
   "execution_count": null,
   "id": "230d3061-38c9-4fd2-a3d7-97644b2c4939",
   "metadata": {},
   "outputs": [],
   "source": []
  }
 ],
 "metadata": {
  "kernelspec": {
   "display_name": "Python 3 (ipykernel)",
   "language": "python",
   "name": "python3"
  },
  "language_info": {
   "codemirror_mode": {
    "name": "ipython",
    "version": 3
   },
   "file_extension": ".py",
   "mimetype": "text/x-python",
   "name": "python",
   "nbconvert_exporter": "python",
   "pygments_lexer": "ipython3",
   "version": "3.8.12"
  }
 },
 "nbformat": 4,
 "nbformat_minor": 5
}
