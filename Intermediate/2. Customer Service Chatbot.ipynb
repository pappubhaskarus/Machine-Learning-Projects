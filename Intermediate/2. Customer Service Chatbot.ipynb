{
 "cells": [
  {
   "cell_type": "markdown",
   "id": "a121f3ee-2345-461b-b32b-3c00cb6005ef",
   "metadata": {},
   "source": [
    "2. Customer Service Chatbot\n",
    "\n",
    " \n",
    "\n",
    "A customer service chatbot uses AI and machine learning techniques to reply to customers, taking the role of a human representative. A chatbot should be able to answer simple questions to satisfy customer needs.\n",
    "\n",
    "There are presently three kinds of chatbots that you can build:\n",
    "\n",
    "    Rule-Based Chatbots — These chatbots aren’t intelligent. They are fed a set of pre-defined rules and only reply to users based on these rules. Some chatbots are also provided with a pre-defined set of questions and answers and cannot answer queries that fall outside this domain.\n",
    "    Independent Chatbots — Independent chatbots utilize machine learning to process and analyze a user’s request and provide responses accordingly.\n",
    "    NLP Chatbots — These chatbots can understand patterns in words and distinguish between different word combinations. They are the most advanced of all three chatbot types, as they can come up with what to say next based on the word patterns they were trained on.\n",
    "\n",
    "An NLP chatbot is an interesting machine learning project idea. You will need an existing corpus of words to train your model on, and you can easily find Python libraries to do this. You can also have a pre-defined dictionary with a list of question and answer pairs you’d like to train your model.\n",
    "\n"
   ]
  },
  {
   "cell_type": "code",
   "execution_count": null,
   "id": "5dd02423-b754-4b72-aa5b-c0d4693ae1ae",
   "metadata": {},
   "outputs": [],
   "source": []
  },
  {
   "cell_type": "code",
   "execution_count": null,
   "id": "49fdcd6f-9693-4052-a3d4-5080350b6058",
   "metadata": {},
   "outputs": [],
   "source": []
  },
  {
   "cell_type": "code",
   "execution_count": null,
   "id": "35c4b606-5b99-4ae7-b225-e4d558446959",
   "metadata": {},
   "outputs": [],
   "source": []
  },
  {
   "cell_type": "code",
   "execution_count": null,
   "id": "f4b9a725-32af-45df-8f97-87838ab5d1d4",
   "metadata": {},
   "outputs": [],
   "source": []
  }
 ],
 "metadata": {
  "kernelspec": {
   "display_name": "Python 3 (ipykernel)",
   "language": "python",
   "name": "python3"
  },
  "language_info": {
   "codemirror_mode": {
    "name": "ipython",
    "version": 3
   },
   "file_extension": ".py",
   "mimetype": "text/x-python",
   "name": "python",
   "nbconvert_exporter": "python",
   "pygments_lexer": "ipython3",
   "version": "3.8.12"
  }
 },
 "nbformat": 4,
 "nbformat_minor": 5
}
