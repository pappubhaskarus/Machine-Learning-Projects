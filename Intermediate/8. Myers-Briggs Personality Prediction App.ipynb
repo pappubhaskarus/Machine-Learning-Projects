{
 "cells": [
  {
   "cell_type": "markdown",
   "id": "e10bcf9d-12f3-491b-8e36-8a6aa4b18e76",
   "metadata": {},
   "source": [
    "8. Myers-Briggs Personality Prediction App\n",
    "\n",
    " \n",
    "\n",
    "You can create an app to predict a user’s personality type based on what they say.\n",
    "\n",
    "The Myers-Briggs type indicator categorizes individuals into 16 different personality types. It is one of the most popular personality tests in the world.\n",
    "\n",
    "If you try to find your personality type on the Internet, you will find many online quizzes. After answering around 20–30 questions, you will be assigned to a personality type.\n",
    "\n",
    "However, in this project, you can use machine learning to predict anyone’s personality type just based on one sentence.\n",
    "\n",
    "Here are the steps you can take to achieve this:\n",
    "\n",
    "    Build a multi-class classification model and train it on the Myers-Briggs dataset on Kaggle. This involves data pre-processing (removing stop-words and unnecessary characters) and some feature engineering. You can use a shallow learning model like logistic regression or a deep learning model like an LSTM for this purpose.\n",
    "    You can create an application that allows users to enter any sentence of their choice.\n",
    "    Save your machine learning model weights and integrate the model with your app. After the end-user enters a word, display their personality type on the screen after the model makes a prediction.\n",
    "\n",
    "Dataset: Kaggle MBTI Type Dataset"
   ]
  },
  {
   "cell_type": "code",
   "execution_count": null,
   "id": "0bd81f17-10a6-470e-b8c3-0d45051ed8ce",
   "metadata": {},
   "outputs": [],
   "source": []
  },
  {
   "cell_type": "code",
   "execution_count": null,
   "id": "de219a72-e977-4775-8a96-3b52acf1f293",
   "metadata": {},
   "outputs": [],
   "source": []
  },
  {
   "cell_type": "code",
   "execution_count": null,
   "id": "6633d2a4-50ea-4c12-94a1-7eeac657b4c2",
   "metadata": {},
   "outputs": [],
   "source": []
  }
 ],
 "metadata": {
  "kernelspec": {
   "display_name": "Python 3 (ipykernel)",
   "language": "python",
   "name": "python3"
  },
  "language_info": {
   "codemirror_mode": {
    "name": "ipython",
    "version": 3
   },
   "file_extension": ".py",
   "mimetype": "text/x-python",
   "name": "python",
   "nbconvert_exporter": "python",
   "pygments_lexer": "ipython3",
   "version": "3.8.12"
  }
 },
 "nbformat": 4,
 "nbformat_minor": 5
}
