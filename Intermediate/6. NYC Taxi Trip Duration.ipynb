{
 "cells": [
  {
   "cell_type": "markdown",
   "id": "b4fabefe-d0bf-434c-95f3-d341ef8dbeea",
   "metadata": {},
   "source": [
    "6. NYC Taxi Trip Duration\n",
    "\n",
    " \n",
    "\n",
    "The dataset has variables that include start and end coordinates of a taxi trip, time, and the number of passengers. The goal of this ML project is to predict trip duration with all these variables. It is a regression problem.\n",
    "\n",
    "Variables like time and coordinates need to be pre-processed appropriately and converted into an understandable format. This project isn’t as straightforward as it seems. This dataset also has some outliers that make prediction more complex, so you will need to handle this with feature engineering techniques.\n",
    "\n",
    "The evaluation criteria for this NYC Taxi Trip Kaggle Competition is RMSLE or the Root Mean Squared Log Error. The top submission on Kaggle received an RMSLE score of 0.29, and Kaggle’s baseline model has an RMSLE of 0.89.\n",
    "\n",
    "You can use any regression algorithm to solve this Kaggle project, but the highest performing competitors of this challenge have either used gradient boosting models or deep learning techniques.\n",
    "\n",
    "Dataset: Kaggle NYC Taxi Trip Duration Dataset"
   ]
  },
  {
   "cell_type": "code",
   "execution_count": null,
   "id": "58c44da5-803e-41b1-976a-71effccc0d33",
   "metadata": {},
   "outputs": [],
   "source": []
  },
  {
   "cell_type": "code",
   "execution_count": null,
   "id": "4b382cf0-bf5a-4a94-80c9-e9b6580ac450",
   "metadata": {},
   "outputs": [],
   "source": []
  },
  {
   "cell_type": "code",
   "execution_count": null,
   "id": "69089267-cc53-43a4-b425-d21c766df566",
   "metadata": {},
   "outputs": [],
   "source": []
  },
  {
   "cell_type": "code",
   "execution_count": null,
   "id": "b6dd24e9-d58a-454f-82e9-2fc9fdbc40a5",
   "metadata": {},
   "outputs": [],
   "source": []
  },
  {
   "cell_type": "code",
   "execution_count": null,
   "id": "b93a958c-775d-4fb8-abf5-aa89b72fcb1b",
   "metadata": {},
   "outputs": [],
   "source": []
  }
 ],
 "metadata": {
  "kernelspec": {
   "display_name": "Python 3 (ipykernel)",
   "language": "python",
   "name": "python3"
  },
  "language_info": {
   "codemirror_mode": {
    "name": "ipython",
    "version": 3
   },
   "file_extension": ".py",
   "mimetype": "text/x-python",
   "name": "python",
   "nbconvert_exporter": "python",
   "pygments_lexer": "ipython3",
   "version": "3.8.12"
  }
 },
 "nbformat": 4,
 "nbformat_minor": 5
}
