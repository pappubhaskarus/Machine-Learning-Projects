{
 "cells": [
  {
   "cell_type": "markdown",
   "id": "2ae0e7bc-3a78-4d45-bdb4-13c1199b5543",
   "metadata": {},
   "source": [
    "5. Market Basket Analysis\n",
    "\n",
    " \n",
    "\n",
    "Market Basket Analysis is a popular technique used by retailers to identify items that can be sold together.\n",
    "\n",
    "For example:\n",
    "\n",
    "A couple of years back, a research analyst identified a correlation between the sales of beer and diapers. Most of the time, whenever a customer walked into the store to buy a beer, they also bought diapers together.\n",
    "\n",
    "Due to this, stores started selling beer and diapers together on the same aisle as a marketing strategy to increase sales. And it worked.\n",
    "\n",
    "It was assumed that beer and diapers had a high correlation as males frequently bought them together. Men would walk into the store to buy a beer, along with several other household items for their family (including diapers). This seems like a pretty impossible correlation, but it did happen.\n",
    "\n",
    "Market Basket Analysis can help companies identify hidden correlations between items that are frequently bought together. These stores can then position their items in a way that allows people to find them easier.\n",
    "\n",
    "You can use the Market Basket Optimization dataset on Kaggle to build and train your model. The most commonly used algorithm used to perform Market Basket Analysis is the Apriori algorithm.\n",
    "\n",
    "Dataset: Kaggle Market Basket Optimization Dataset\n",
    "\n",
    "https://github.com/shivang98/Market-Basket-Optimization"
   ]
  },
  {
   "cell_type": "code",
   "execution_count": null,
   "id": "c211065a-a71d-4b69-b742-d3b20d996bf7",
   "metadata": {},
   "outputs": [],
   "source": []
  },
  {
   "cell_type": "code",
   "execution_count": null,
   "id": "2588fd48-c938-4f65-8abf-e8cd7800aa65",
   "metadata": {},
   "outputs": [],
   "source": []
  },
  {
   "cell_type": "code",
   "execution_count": null,
   "id": "98ed9612-5d28-4389-a967-8d7c43c77c86",
   "metadata": {},
   "outputs": [],
   "source": []
  },
  {
   "cell_type": "code",
   "execution_count": null,
   "id": "e111f916-6823-40af-a128-311f86932f73",
   "metadata": {},
   "outputs": [],
   "source": []
  },
  {
   "cell_type": "code",
   "execution_count": null,
   "id": "488e0d39-7c3e-4ea2-97d4-e49358f405de",
   "metadata": {},
   "outputs": [],
   "source": []
  }
 ],
 "metadata": {
  "kernelspec": {
   "display_name": "Python 3 (ipykernel)",
   "language": "python",
   "name": "python3"
  },
  "language_info": {
   "codemirror_mode": {
    "name": "ipython",
    "version": 3
   },
   "file_extension": ".py",
   "mimetype": "text/x-python",
   "name": "python",
   "nbconvert_exporter": "python",
   "pygments_lexer": "ipython3",
   "version": "3.8.12"
  }
 },
 "nbformat": 4,
 "nbformat_minor": 5
}
