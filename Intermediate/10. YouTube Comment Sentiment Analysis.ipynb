{
 "cells": [
  {
   "cell_type": "markdown",
   "id": "48f2a164-3ed3-49c8-b8af-6ebc1b580f7c",
   "metadata": {},
   "source": [
    "10. YouTube Comment Sentiment Analysis\n",
    "\n",
    " \n",
    "\n",
    "In this project, you can create a dashboard analyzing the overall sentiment of popular YouTubers.\n",
    "\n",
    "Over 2 billion users watch YouTube videos at least once a month. Popular YouTubers garner hundreds of billions of views with their content. However, many of these influencers have come under fire due to controversies in the past, and public perception is constantly changing.\n",
    "\n",
    "You can build a sentiment analysis model and create a dashboard to visualize sentiments around celebrities over time.\n",
    "\n",
    "To build this, you can take the following steps:\n",
    "\n",
    "    Scrape comments of the videos by the YouTubers you want to analyze.\n",
    "    Use a pre-trained sentiment analysis model to make predictions on each comment.\n",
    "    Visualize the model’s predictions on a dashboard. You can even create a dashboard app using libraries like Dash (Python) or Shiny (R).\n",
    "    You can make the dashboard interactive by allowing users to filter sentiment by time frame, name of YouTuber, and video genre.\n",
    "\n",
    "API: YouTube Comment Scraper\n",
    "\n",
    "https://pypi.org/project/youtube-comment-scraper-python/"
   ]
  },
  {
   "cell_type": "code",
   "execution_count": null,
   "id": "2ffd0c96-ceea-4f00-b9dd-e5fb01194007",
   "metadata": {},
   "outputs": [],
   "source": []
  }
 ],
 "metadata": {
  "kernelspec": {
   "display_name": "Python 3 (ipykernel)",
   "language": "python",
   "name": "python3"
  },
  "language_info": {
   "codemirror_mode": {
    "name": "ipython",
    "version": 3
   },
   "file_extension": ".py",
   "mimetype": "text/x-python",
   "name": "python",
   "nbconvert_exporter": "python",
   "pygments_lexer": "ipython3",
   "version": "3.8.12"
  }
 },
 "nbformat": 4,
 "nbformat_minor": 5
}
