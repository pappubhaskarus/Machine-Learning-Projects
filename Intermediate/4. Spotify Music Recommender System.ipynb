{
 "cells": [
  {
   "cell_type": "markdown",
   "id": "09b75249-e6ad-4533-bf36-ff3c6653e0fc",
   "metadata": {},
   "source": [
    "4. Spotify Music Recommender System\n",
    "\n",
    " \n",
    "\n",
    "Spotify uses AI to recommend music to its users. You can try building a recommender system based on publicly available data on Spotify.\n",
    "\n",
    "Spotify has an API that you can use to retrieve audio data — you can find features like the year of release, key, popularity, and artist. To access this API in Python, you can use a library called Spotipy.\n",
    "\n",
    "You can also use the Spotify dataset on Kaggle that has around 600K rows. Using these datasets, you can suggest the best alternative to each user’s favorite musician. You can also come up with song recommendations based on the content and genre preferred by each user.\n",
    "\n",
    "This recommender system can be built using K-Means clustering — similar data points will be grouped. You can recommend songs with a minimal intra-cluster distance between them to the end-user.\n",
    "\n",
    "Once you have built the recommender system, you can also turn it into a simple Python app and deploy it. You can get users to enter their favorite songs on Spotify, then display your model recommendations on the screen that have the highest similarity to the songs they enjoyed.\n",
    "\n",
    "Dataset: Kaggle Spotify Dataset\n",
    "\n",
    "https://www.aicrowd.com/challenges/spotify-million-playlist-dataset-challenge\n",
    "\n",
    "https://github.com/mrthlinh/Spotify-Playlist-Recommender"
   ]
  },
  {
   "cell_type": "code",
   "execution_count": null,
   "id": "53d1f62e-6b60-43b7-8768-2a4f00e51e06",
   "metadata": {},
   "outputs": [],
   "source": []
  },
  {
   "cell_type": "code",
   "execution_count": null,
   "id": "6a01b36f-c7ed-4f03-bb87-c330561d8607",
   "metadata": {},
   "outputs": [],
   "source": []
  },
  {
   "cell_type": "code",
   "execution_count": null,
   "id": "82a80bbf-af6a-4089-bdc3-c5212a90236f",
   "metadata": {},
   "outputs": [],
   "source": []
  },
  {
   "cell_type": "code",
   "execution_count": null,
   "id": "1f1513df-b032-40d3-8c1b-e0b50f57404d",
   "metadata": {},
   "outputs": [],
   "source": []
  }
 ],
 "metadata": {
  "kernelspec": {
   "display_name": "Python 3 (ipykernel)",
   "language": "python",
   "name": "python3"
  },
  "language_info": {
   "codemirror_mode": {
    "name": "ipython",
    "version": 3
   },
   "file_extension": ".py",
   "mimetype": "text/x-python",
   "name": "python",
   "nbconvert_exporter": "python",
   "pygments_lexer": "ipython3",
   "version": "3.8.12"
  }
 },
 "nbformat": 4,
 "nbformat_minor": 5
}
