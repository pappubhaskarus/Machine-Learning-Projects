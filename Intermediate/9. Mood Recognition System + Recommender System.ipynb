{
 "cells": [
  {
   "cell_type": "markdown",
   "id": "69568e0a-f9c1-42f4-93b3-3837f46a9549",
   "metadata": {},
   "source": [
    "9. Mood Recognition System + Recommender System\n",
    "\n",
    " \n",
    "\n",
    "Have you ever been sad and felt like you needed to watch something funny to cheer you up? Or have you ever felt so frustrated you needed to unwind and watch something relaxing?\n",
    "\n",
    "This project is a combination of two smaller projects.\n",
    "\n",
    "You can build an app that recognizes a user’s mood based on live web footage and a movie suggestion based on the user’s expression.\n",
    "\n",
    "To build this, you can take the following steps:\n",
    "\n",
    "    Create an app that can take in a live video feed.\n",
    "    Use Python’s face recognition API to detect faces and emotions on objects in the video feed.\n",
    "    After classifying these emotions into various categories, start building the recommender system. This can be a set of hardcoded values for each emotion, which means you don’t need to involve machine learning for the recommendations.\n",
    "    Once you’re done building the app, you can deploy it on Heroku, Dash, or a web server.\n",
    "\n",
    "API: Face Recognition API\n",
    "\n",
    "\n",
    "https://github.com/ageitgey/face_recognition"
   ]
  },
  {
   "cell_type": "code",
   "execution_count": null,
   "id": "dcc39fb7-e31a-4f32-9096-3bd0c1fd462a",
   "metadata": {},
   "outputs": [],
   "source": []
  }
 ],
 "metadata": {
  "kernelspec": {
   "display_name": "Python 3 (ipykernel)",
   "language": "python",
   "name": "python3"
  },
  "language_info": {
   "codemirror_mode": {
    "name": "ipython",
    "version": 3
   },
   "file_extension": ".py",
   "mimetype": "text/x-python",
   "name": "python",
   "nbconvert_exporter": "python",
   "pygments_lexer": "ipython3",
   "version": "3.8.12"
  }
 },
 "nbformat": 4,
 "nbformat_minor": 5
}
