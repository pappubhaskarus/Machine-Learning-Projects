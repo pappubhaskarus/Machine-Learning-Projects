{
 "cells": [
  {
   "cell_type": "markdown",
   "id": "93609fc4-95b4-4258-85b9-1a2731601522",
   "metadata": {},
   "source": [
    "1. Sales Forecasting\n",
    "\n",
    " \n",
    "\n",
    "Time-series forecasting is a machine learning technique used very often in the industry. The use of past data to predict future sales has a large number of business use cases. The Kaggle Demand Forecasting dataset can be used to practice this project.\n",
    "\n",
    "This dataset has 5 years of sales data, and you will need to predict sales for the next three months. There are ten different stores listed in the dataset, and there are 50 items at each store.\n",
    "\n",
    "To predict sales, you can try out various methods — ARIMA, Vector Autoregression, or deep learning. One method you can use for this project is to measure the increase in sales for each month and record it. Then, build the model on the difference between the previous month and the present month sales. Taking into account factors like holidays and seasonality can improve the performance of your machine learning model.\n",
    "\n",
    "Dataset: Kaggle Store Item Demand Forecasting"
   ]
  },
  {
   "cell_type": "code",
   "execution_count": null,
   "id": "fc85d251-64e3-4c77-b80d-91fa10ab8b5c",
   "metadata": {},
   "outputs": [],
   "source": []
  },
  {
   "cell_type": "code",
   "execution_count": null,
   "id": "be78949a-3a00-4062-b785-9b7c76993b16",
   "metadata": {},
   "outputs": [],
   "source": []
  },
  {
   "cell_type": "code",
   "execution_count": null,
   "id": "3e96af59-efff-4fbc-ab8d-2421622af723",
   "metadata": {},
   "outputs": [],
   "source": []
  }
 ],
 "metadata": {
  "kernelspec": {
   "display_name": "Python 3 (ipykernel)",
   "language": "python",
   "name": "python3"
  },
  "language_info": {
   "codemirror_mode": {
    "name": "ipython",
    "version": 3
   },
   "file_extension": ".py",
   "mimetype": "text/x-python",
   "name": "python",
   "nbconvert_exporter": "python",
   "pygments_lexer": "ipython3",
   "version": "3.8.12"
  }
 },
 "nbformat": 4,
 "nbformat_minor": 5
}
