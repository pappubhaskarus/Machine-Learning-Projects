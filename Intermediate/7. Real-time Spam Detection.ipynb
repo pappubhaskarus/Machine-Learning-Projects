{
 "cells": [
  {
   "cell_type": "markdown",
   "id": "46d2b39f-d9ca-4729-a143-ffa0f6951e6f",
   "metadata": {},
   "source": [
    "7. Real-time Spam Detection\n",
    "\n",
    " \n",
    "\n",
    "In this project, you can use machine learning techniques to distinguish between spam (illegitimate) and ham (legitimate) messages.\n",
    "\n",
    "To achieve this, you can use the Kaggle SMS Spam Collection dataset. This dataset contains a set of approximately 5K messages that have been labeled as spam or ham.\n",
    "\n",
    "You can take the following steps to build a real-time spam detection system:\n",
    "\n",
    "    Use Kaggle’s SMS Spam Collection dataset to train a machine learning model.\n",
    "    Create a simple chat-room server in Python.\n",
    "    Deploy the machine learning model on your chat-room server and ensure that all incoming traffic passes through the model.\n",
    "    Only allow messages to go through if they are classified as ham. If they are spam, return an error message instead.\n",
    "\n",
    "To build the machine learning model, you first need to pre-process the text messages present in Kaggle’s SMS Spam Collection dataset. Then, convert these messages into a bag of words so that they can easily be passed into your classification model for prediction.\n",
    "\n",
    "Dataset: Kaggle SMS Spam Collection Dataset"
   ]
  },
  {
   "cell_type": "code",
   "execution_count": null,
   "id": "adaa5282-127e-4cd4-b077-c643b651f9cb",
   "metadata": {},
   "outputs": [],
   "source": []
  },
  {
   "cell_type": "code",
   "execution_count": null,
   "id": "9ae0f02f-80ab-4ba6-b2fc-8deee6c10d54",
   "metadata": {},
   "outputs": [],
   "source": []
  },
  {
   "cell_type": "code",
   "execution_count": null,
   "id": "dcdc7d4c-c72a-4b49-921f-fd4e666c78e6",
   "metadata": {},
   "outputs": [],
   "source": []
  },
  {
   "cell_type": "code",
   "execution_count": null,
   "id": "9ca566e2-c508-48c9-9566-1a198d8a3e47",
   "metadata": {},
   "outputs": [],
   "source": []
  }
 ],
 "metadata": {
  "kernelspec": {
   "display_name": "Python 3 (ipykernel)",
   "language": "python",
   "name": "python3"
  },
  "language_info": {
   "codemirror_mode": {
    "name": "ipython",
    "version": 3
   },
   "file_extension": ".py",
   "mimetype": "text/x-python",
   "name": "python",
   "nbconvert_exporter": "python",
   "pygments_lexer": "ipython3",
   "version": "3.8.12"
  }
 },
 "nbformat": 4,
 "nbformat_minor": 5
}
